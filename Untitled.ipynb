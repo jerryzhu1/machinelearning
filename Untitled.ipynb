{
 "cells": [
  {
   "cell_type": "code",
   "execution_count": 1,
   "metadata": {
    "collapsed": true
   },
   "outputs": [],
   "source": [
    "import numpy\n",
    "import talib\n",
    "\n",
    "close = numpy.random.random(100)"
   ]
  },
  {
   "cell_type": "code",
   "execution_count": 2,
   "metadata": {
    "collapsed": true
   },
   "outputs": [],
   "source": [
    "output = talib.SMA(close)"
   ]
  },
  {
   "cell_type": "code",
   "execution_count": 3,
   "metadata": {
    "collapsed": false
   },
   "outputs": [
    {
     "data": {
      "text/plain": [
       "array([        nan,         nan,         nan,         nan,         nan,\n",
       "               nan,         nan,         nan,         nan,         nan,\n",
       "               nan,         nan,         nan,         nan,         nan,\n",
       "               nan,         nan,         nan,         nan,         nan,\n",
       "               nan,         nan,         nan,         nan,         nan,\n",
       "               nan,         nan,         nan,         nan,  0.48590976,\n",
       "        0.48419111,  0.47680387,  0.47332972,  0.47646706,  0.47933739,\n",
       "        0.47497972,  0.48121667,  0.49351572,  0.46763197,  0.48129741,\n",
       "        0.49618715,  0.4948106 ,  0.49233369,  0.50089392,  0.48867971,\n",
       "        0.48571798,  0.48571599,  0.49053474,  0.4784619 ,  0.47502869,\n",
       "        0.48286207,  0.47534466,  0.45826036,  0.45597736,  0.47221437,\n",
       "        0.46821812,  0.46842044,  0.48867737,  0.50157588,  0.50438579,\n",
       "        0.50835455,  0.5138432 ,  0.52008546,  0.51107387,  0.50238939,\n",
       "        0.50845794,  0.50513783,  0.49224542,  0.49147749,  0.48756375,\n",
       "        0.46604939,  0.4663289 ,  0.45655699,  0.44509495,  0.43854578,\n",
       "        0.46344896,  0.47978577,  0.47533106,  0.48793705,  0.48771391,\n",
       "        0.47967254,  0.48819089,  0.49477991,  0.51289851,  0.5093734 ,\n",
       "        0.50377637,  0.52322562,  0.51000841,  0.50985459,  0.49826812,\n",
       "        0.48690447,  0.4856251 ,  0.4713031 ,  0.45407185,  0.47255654,\n",
       "        0.46959643,  0.46279979,  0.46472667,  0.48574128,  0.49087813])"
      ]
     },
     "execution_count": 3,
     "metadata": {},
     "output_type": "execute_result"
    }
   ],
   "source": [
    "output"
   ]
  },
  {
   "cell_type": "code",
   "execution_count": 4,
   "metadata": {
    "collapsed": true
   },
   "outputs": [],
   "source": [
    "from talib import MA_Type\n",
    "\n",
    "upper, middle, lower = talib.BBANDS(close, matype=MA_Type.T3)"
   ]
  },
  {
   "cell_type": "code",
   "execution_count": 5,
   "metadata": {
    "collapsed": false
   },
   "outputs": [
    {
     "data": {
      "text/plain": [
       "array([        nan,         nan,         nan,         nan,         nan,\n",
       "               nan,         nan,         nan,         nan,         nan,\n",
       "               nan,         nan,         nan,         nan,         nan,\n",
       "               nan,         nan,         nan,         nan,         nan,\n",
       "               nan,         nan,         nan,         nan,  0.95903204,\n",
       "        0.98290051,  1.01682505,  0.90090851,  0.8491779 ,  0.79691195,\n",
       "        0.53006007,  0.70610964,  0.69861853,  0.81118791,  0.89128675,\n",
       "        0.8937588 ,  0.99447521,  0.89688715,  1.18000816,  1.13877164,\n",
       "        1.24996355,  1.24997718,  1.21400196,  1.01413664,  0.99085017,\n",
       "        0.77541096,  0.66837017,  0.62473675,  0.67919016,  0.6751541 ,\n",
       "        0.63680583,  0.67665766,  0.6331296 ,  0.65560655,  0.9459541 ,\n",
       "        1.03058671,  1.08486278,  1.15488823,  1.03376763,  0.93758581,\n",
       "        0.9177526 ,  0.88846552,  0.84447515,  0.84139194,  0.84529722,\n",
       "        0.86416368,  0.83659932,  0.86587615,  1.00674463,  0.94977873,\n",
       "        0.8460039 ,  0.75556349,  0.7766494 ,  0.71223019,  0.60964486,\n",
       "        0.84774623,  1.11942831,  1.17950905,  1.26505079,  1.25166742,\n",
       "        1.23433243,  1.16239683,  1.02612026,  0.9123076 ,  0.96964652,\n",
       "        0.89864677,  0.97485267,  1.00627794,  0.99483344,  0.99855641,\n",
       "        0.97162956,  0.89681537,  0.91327257,  0.84750689,  1.11767117,\n",
       "        1.15605005,  1.16926795,  1.10622883,  0.89866247,  0.76287929])"
      ]
     },
     "execution_count": 5,
     "metadata": {},
     "output_type": "execute_result"
    }
   ],
   "source": [
    "upper"
   ]
  },
  {
   "cell_type": "code",
   "execution_count": null,
   "metadata": {
    "collapsed": true
   },
   "outputs": [],
   "source": []
  }
 ],
 "metadata": {
  "kernelspec": {
   "display_name": "Python 2",
   "language": "python",
   "name": "python2"
  },
  "language_info": {
   "codemirror_mode": {
    "name": "ipython",
    "version": 2
   },
   "file_extension": ".py",
   "mimetype": "text/x-python",
   "name": "python",
   "nbconvert_exporter": "python",
   "pygments_lexer": "ipython2",
   "version": "2.7.9"
  }
 },
 "nbformat": 4,
 "nbformat_minor": 0
}
