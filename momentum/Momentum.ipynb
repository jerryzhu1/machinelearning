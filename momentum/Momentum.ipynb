{
 "cells": [
  {
   "cell_type": "code",
   "execution_count": 1,
   "metadata": {
    "collapsed": false
   },
   "outputs": [
    {
     "name": "stderr",
     "output_type": "stream",
     "text": [
      ":0: FutureWarning: IPython widgets are experimental and may change in the future.\n"
     ]
    }
   ],
   "source": [
    "import pandas as pd\n",
    "import numpy as np\n",
    "from math import log\n",
    "import Quandl as q\n",
    "import matplotlib.pyplot as plt\n",
    "\n",
    "from IPython.html.widgets import interact\n",
    "\n",
    "from datetime import date \n",
    "from datetime import timedelta\n",
    "import sys\n",
    "\n",
    "%matplotlib inline\n",
    "\n",
    "import seaborn as sns\n",
    "sns.set()\n",
    "\n",
    "pd.options.mode.chained_assignment = None "
   ]
  },
  {
   "cell_type": "markdown",
   "metadata": {},
   "source": [
    "##S&P 500 Constituents"
   ]
  },
  {
   "cell_type": "markdown",
   "metadata": {},
   "source": [
    "Quandl.com publishes a static file with current S&P500 constituents that we'll use for current signals"
   ]
  },
  {
   "cell_type": "code",
   "execution_count": 2,
   "metadata": {
    "collapsed": true
   },
   "outputs": [],
   "source": [
    "sp_500_url = \"https://s3.amazonaws.com/quandl-static-content/Ticker+CSV%27s/Indicies/SP500.csv\"\n",
    "sp_500 = pd.DataFrame.from_csv(sp_500_url);"
   ]
  },
  {
   "cell_type": "markdown",
   "metadata": {},
   "source": [
    "Quandl does not however have a nice list of index symbols. We'll need those for benchmarking, so let's add those to the main symbol data "
   ]
  },
  {
   "cell_type": "code",
   "execution_count": 3,
   "metadata": {
    "collapsed": true,
    "scrolled": true
   },
   "outputs": [],
   "source": [
    "index_etfs = pd.DataFrame.from_csv(\"index_etfs.csv\")"
   ]
  },
  {
   "cell_type": "code",
   "execution_count": 4,
   "metadata": {
    "collapsed": true
   },
   "outputs": [],
   "source": [
    "index_etfs[\"TickerType\"] = \"Benchmark\"\n",
    "sp_500[\"TickerType\"] = \"Constituent\""
   ]
  },
  {
   "cell_type": "code",
   "execution_count": 5,
   "metadata": {
    "collapsed": false
   },
   "outputs": [
    {
     "data": {
      "text/html": [
       "<div>\n",
       "<table border=\"1\" class=\"dataframe\">\n",
       "  <thead>\n",
       "    <tr style=\"text-align: right;\">\n",
       "      <th></th>\n",
       "      <th>TickerType</th>\n",
       "    </tr>\n",
       "    <tr>\n",
       "      <th>Ticker</th>\n",
       "      <th></th>\n",
       "    </tr>\n",
       "  </thead>\n",
       "  <tbody>\n",
       "    <tr>\n",
       "      <th>INDEX_SPY</th>\n",
       "      <td>Benchmark</td>\n",
       "    </tr>\n",
       "    <tr>\n",
       "      <th>INDEX_DJI</th>\n",
       "      <td>Benchmark</td>\n",
       "    </tr>\n",
       "    <tr>\n",
       "      <th>TSX_QQC_TO</th>\n",
       "      <td>Benchmark</td>\n",
       "    </tr>\n",
       "    <tr>\n",
       "      <th>INDEX_RUT</th>\n",
       "      <td>Benchmark</td>\n",
       "    </tr>\n",
       "  </tbody>\n",
       "</table>\n",
       "</div>"
      ],
      "text/plain": [
       "           TickerType\n",
       "Ticker               \n",
       "INDEX_SPY   Benchmark\n",
       "INDEX_DJI   Benchmark\n",
       "TSX_QQC_TO  Benchmark\n",
       "INDEX_RUT   Benchmark"
      ]
     },
     "execution_count": 5,
     "metadata": {},
     "output_type": "execute_result"
    }
   ],
   "source": [
    "index_etfs"
   ]
  },
  {
   "cell_type": "code",
   "execution_count": 6,
   "metadata": {
    "collapsed": false
   },
   "outputs": [],
   "source": [
    "stocks = sp_500.append(index_etfs)"
   ]
  },
  {
   "cell_type": "code",
   "execution_count": 7,
   "metadata": {
    "collapsed": false
   },
   "outputs": [],
   "source": [
    "stocks.reset_index(inplace=True)"
   ]
  },
  {
   "cell_type": "code",
   "execution_count": 8,
   "metadata": {
    "collapsed": false
   },
   "outputs": [],
   "source": [
    "def symbol(s):\n",
    "    return s.replace('-','_')\n",
    "\n",
    "def get_search_string(s):\n",
    "    return \"{0}/{1}\".format(DATABASE, symbol(s))"
   ]
  },
  {
   "cell_type": "markdown",
   "metadata": {},
   "source": [
    "## Get Quandl Price Data for Stocks"
   ]
  },
  {
   "cell_type": "markdown",
   "metadata": {},
   "source": [
    "#####Quandl set up info"
   ]
  },
  {
   "cell_type": "code",
   "execution_count": 9,
   "metadata": {
    "collapsed": false
   },
   "outputs": [
    {
     "data": {
      "text/plain": [
       "'2013-09-28'"
      ]
     },
     "execution_count": 9,
     "metadata": {},
     "output_type": "execute_result"
    }
   ],
   "source": [
    "DATABASE = \"YAHOO\"\n",
    "QUANDL_AUTHTOKEN =\"xkXtzxzRcDyizWAV9r3_\"\n",
    "\n",
    "frequency = \"daily\"\n",
    "trading_days = 2*252\n",
    "days = trading_days/5.0*7\n",
    "d = date.today() - timedelta(days=days)\n",
    "start_date = d.strftime('%Y-%m-%d')\n",
    "start_date"
   ]
  },
  {
   "cell_type": "markdown",
   "metadata": {},
   "source": [
    "We'll go through the list of stocks and download Quandl data one-by-one"
   ]
  },
  {
   "cell_type": "code",
   "execution_count": 10,
   "metadata": {
    "collapsed": false
   },
   "outputs": [],
   "source": [
    "def get_stock_prices():\n",
    "\n",
    "    global stocks\n",
    "    stocks.sort(\"Ticker\", inplace=True)\n",
    "\n",
    "    price_data = None\n",
    "\n",
    "    for i, stock in stocks.iterrows():\n",
    "\n",
    "        s = symbol(stock.Ticker)\n",
    "        ticker_type = stock.TickerType\n",
    "        search = get_search_string(s)\n",
    "\n",
    "        try:\n",
    "            df = q.get(search, authtoken=QUANDL_AUTHTOKEN, \n",
    "                           collapse=frequency,\n",
    "                           sort_order=\"asc\", \n",
    "                           trim_start=start_date)\n",
    "\n",
    "            df['Symbol'] = s\n",
    "            df['SymbolType'] = ticker_type\n",
    "\n",
    "            if (price_data is not None):        \n",
    "                price_data = price_data.append(df, ignore_index=False)\n",
    "#                 print('appending {0} rows ({1})'.format(s, len(df.index), len(price_data.index)))\n",
    "            else:\n",
    "                # first time around?\n",
    "                price_data = df\n",
    "#                 print('initializing {0} rows ({1})'.format(s, len(df.index), len(price_data.index)))     \n",
    "\n",
    "        except Exception as err:\n",
    "            print s, err\n",
    "            pass\n",
    "    \n",
    "    #Let's rename some columns. Depending on the source, they could have different names.\n",
    "    price_data.rename(columns={'Adjusted Close': 'AdjustedClose'}, inplace=True)\n",
    "    price_data.rename(columns={'Adj. Close': 'AdjustedClose'}, inplace=True)\n",
    "\n",
    "    return price_data\n"
   ]
  },
  {
   "cell_type": "markdown",
   "metadata": {},
   "source": [
    "#####We either update prices from Quandl, or optionally use a previously saved file."
   ]
  },
  {
   "cell_type": "code",
   "execution_count": 155,
   "metadata": {
    "collapsed": false
   },
   "outputs": [],
   "source": [
    "use_local = True\n",
    "\n",
    "if use_local:\n",
    "    price_data = pd.DataFrame.from_csv('price_data.csv')\n",
    "else:\n",
    "    price_data = get_stock_prices()\n",
    "    price_data.to_csv('price_data.csv')"
   ]
  },
  {
   "cell_type": "code",
   "execution_count": 156,
   "metadata": {
    "collapsed": false
   },
   "outputs": [
    {
     "data": {
      "text/html": [
       "<div>\n",
       "<table border=\"1\" class=\"dataframe\">\n",
       "  <thead>\n",
       "    <tr style=\"text-align: right;\">\n",
       "      <th></th>\n",
       "      <th>Open</th>\n",
       "      <th>High</th>\n",
       "      <th>Low</th>\n",
       "      <th>Close</th>\n",
       "      <th>Volume</th>\n",
       "      <th>AdjustedClose</th>\n",
       "      <th>Symbol</th>\n",
       "      <th>SymbolType</th>\n",
       "    </tr>\n",
       "    <tr>\n",
       "      <th>Date</th>\n",
       "      <th></th>\n",
       "      <th></th>\n",
       "      <th></th>\n",
       "      <th></th>\n",
       "      <th></th>\n",
       "      <th></th>\n",
       "      <th></th>\n",
       "      <th></th>\n",
       "    </tr>\n",
       "  </thead>\n",
       "  <tbody>\n",
       "    <tr>\n",
       "      <th>2015-08-27</th>\n",
       "      <td>44.709999</td>\n",
       "      <td>46.150002</td>\n",
       "      <td>44.110001</td>\n",
       "      <td>45.860001</td>\n",
       "      <td>4539300</td>\n",
       "      <td>45.860001</td>\n",
       "      <td>ZTS</td>\n",
       "      <td>Constituent</td>\n",
       "    </tr>\n",
       "    <tr>\n",
       "      <th>2015-08-28</th>\n",
       "      <td>46.009998</td>\n",
       "      <td>46.130001</td>\n",
       "      <td>45.060001</td>\n",
       "      <td>45.779999</td>\n",
       "      <td>2695800</td>\n",
       "      <td>45.779999</td>\n",
       "      <td>ZTS</td>\n",
       "      <td>Constituent</td>\n",
       "    </tr>\n",
       "    <tr>\n",
       "      <th>2015-08-31</th>\n",
       "      <td>45.740002</td>\n",
       "      <td>45.910000</td>\n",
       "      <td>44.770000</td>\n",
       "      <td>44.869999</td>\n",
       "      <td>2557600</td>\n",
       "      <td>44.869999</td>\n",
       "      <td>ZTS</td>\n",
       "      <td>Constituent</td>\n",
       "    </tr>\n",
       "    <tr>\n",
       "      <th>2015-09-01</th>\n",
       "      <td>43.950001</td>\n",
       "      <td>44.889999</td>\n",
       "      <td>43.779999</td>\n",
       "      <td>43.980000</td>\n",
       "      <td>4270300</td>\n",
       "      <td>43.980000</td>\n",
       "      <td>ZTS</td>\n",
       "      <td>Constituent</td>\n",
       "    </tr>\n",
       "    <tr>\n",
       "      <th>2015-09-02</th>\n",
       "      <td>44.520000</td>\n",
       "      <td>45.160000</td>\n",
       "      <td>43.900002</td>\n",
       "      <td>45.119999</td>\n",
       "      <td>2601000</td>\n",
       "      <td>45.119999</td>\n",
       "      <td>ZTS</td>\n",
       "      <td>Constituent</td>\n",
       "    </tr>\n",
       "  </tbody>\n",
       "</table>\n",
       "</div>"
      ],
      "text/plain": [
       "                 Open       High        Low      Close   Volume  \\\n",
       "Date                                                              \n",
       "2015-08-27  44.709999  46.150002  44.110001  45.860001  4539300   \n",
       "2015-08-28  46.009998  46.130001  45.060001  45.779999  2695800   \n",
       "2015-08-31  45.740002  45.910000  44.770000  44.869999  2557600   \n",
       "2015-09-01  43.950001  44.889999  43.779999  43.980000  4270300   \n",
       "2015-09-02  44.520000  45.160000  43.900002  45.119999  2601000   \n",
       "\n",
       "            AdjustedClose Symbol   SymbolType  \n",
       "Date                                           \n",
       "2015-08-27      45.860001    ZTS  Constituent  \n",
       "2015-08-28      45.779999    ZTS  Constituent  \n",
       "2015-08-31      44.869999    ZTS  Constituent  \n",
       "2015-09-01      43.980000    ZTS  Constituent  \n",
       "2015-09-02      45.119999    ZTS  Constituent  "
      ]
     },
     "execution_count": 156,
     "metadata": {},
     "output_type": "execute_result"
    }
   ],
   "source": [
    "# end_date = '2015-08-21'\n",
    "# price_data = price_data[price_data[\"Date\"] <= end_date]\n",
    "price_data.tail()"
   ]
  },
  {
   "cell_type": "markdown",
   "metadata": {},
   "source": [
    "Since we appended this dataframe symbol-by-symbol, the initial index for the dataframe is on Date, so not it's not a unique index.\n",
    "We have to reset this to get a unique ID for each row, which we'll need later.\n",
    "\n",
    "We could use a multi-index on Symbol and Date, or just a create a unique integer. Let's use the unique ID, so we can access Symbol and Date as regular columns.\n",
    "\n",
    "We'll also sort it on Date (desc) and Symbol, so that our window functions work correctly later."
   ]
  },
  {
   "cell_type": "code",
   "execution_count": 157,
   "metadata": {
    "collapsed": false
   },
   "outputs": [],
   "source": [
    "price_data.reset_index(inplace=True)\n",
    "price_data.sort(['Symbol', 'Date'], ascending=[1, 1] , inplace=True)"
   ]
  },
  {
   "cell_type": "markdown",
   "metadata": {},
   "source": [
    "##Compute Price Metrics"
   ]
  },
  {
   "cell_type": "markdown",
   "metadata": {},
   "source": [
    "Next, we compute a variety of metrics based on closing prices"
   ]
  },
  {
   "cell_type": "markdown",
   "metadata": {},
   "source": [
    "####Log of Closing Prices"
   ]
  },
  {
   "cell_type": "code",
   "execution_count": 158,
   "metadata": {
    "collapsed": false
   },
   "outputs": [
    {
     "name": "stdout",
     "output_type": "stream",
     "text": [
      "CPU times: user 6.19 ms, sys: 1.69 ms, total: 7.89 ms\n",
      "Wall time: 7.11 ms\n"
     ]
    }
   ],
   "source": [
    "%%time\n",
    "price_data['CloseLog'] = np.log(price_data['Close'])\n",
    "price_data['AdjustedCloseLog'] = np.log(price_data['AdjustedClose'])"
   ]
  },
  {
   "cell_type": "code",
   "execution_count": 159,
   "metadata": {
    "collapsed": false
   },
   "outputs": [
    {
     "data": {
      "text/plain": [
       "<matplotlib.axes._subplots.AxesSubplot at 0x1125cb910>"
      ]
     },
     "execution_count": 159,
     "metadata": {},
     "output_type": "execute_result"
    },
    {
     "data": {
      "image/png": "[encoded data removed]",
      "text/plain": [
       "<matplotlib.figure.Figure at 0x10fe7ed90>"
      ]
     },
     "metadata": {},
     "output_type": "display_data"
    }
   ],
   "source": [
    "price_data[price_data['Symbol']=='INDEX_SPY']['AdjustedClose'].plot()"
   ]
  },
  {
   "cell_type": "markdown",
   "metadata": {},
   "source": [
    "####Returns by Stock\n",
    "We compute 1, 90 and 250 day returns"
   ]
  },
  {
   "cell_type": "code",
   "execution_count": 160,
   "metadata": {
    "collapsed": false
   },
   "outputs": [
    {
     "name": "stdout",
     "output_type": "stream",
     "text": [
      "CPU times: user 1.21 s, sys: 178 ms, total: 1.39 s\n",
      "Wall time: 1.71 s\n"
     ]
    }
   ],
   "source": [
    "%%time\n",
    "price_data['L1DReturn'] = price_data.groupby('Symbol')['AdjustedClose'].diff().fillna(0).replace([np.inf, -np.inf], np.nan)\n",
    "price_data['L1DReturnPerc'] = price_data.groupby('Symbol')['AdjustedClose'].pct_change().astype(float)\n",
    "price_data['L1DReturnPerc'] = price_data['L1DReturnPerc'].fillna(0).replace([np.inf, -np.inf], np.nan)\n",
    "\n",
    "price_data['L90DReturn'] = price_data.groupby('Symbol')['AdjustedClose'].diff(periods=90).fillna(0).replace([np.inf, -np.inf], np.nan)\n",
    "price_data['L90DReturnPerc'] = price_data.groupby('Symbol')['AdjustedClose'].pct_change(periods=90).astype(float)\n",
    "price_data['L90DReturnPerc'] = price_data['L90DReturnPerc'].fillna(0).replace([np.inf, -np.inf], np.nan)\n",
    "\n",
    "price_data['L250DReturn'] = price_data.groupby('Symbol')['AdjustedClose'].diff(periods=250).fillna(0).replace([np.inf, -np.inf], np.nan)\n",
    "price_data['L250DReturnPerc'] = price_data.groupby('Symbol')['AdjustedClose'].pct_change(periods=250).astype(float)\n",
    "price_data['L250DReturnPerc'] = price_data['L250DReturnPerc'].fillna(0).replace([np.inf, -np.inf], np.nan)"
   ]
  },
  {
   "cell_type": "markdown",
   "metadata": {},
   "source": [
    "We'll annualize the 90 day return values to use later"
   ]
  },
  {
   "cell_type": "code",
   "execution_count": 161,
   "metadata": {
    "collapsed": false
   },
   "outputs": [
    {
     "name": "stdout",
     "output_type": "stream",
     "text": [
      "CPU times: user 8.98 ms, sys: 2.03 ms, total: 11 ms\n",
      "Wall time: 16.4 ms\n"
     ]
    }
   ],
   "source": [
    "%%time\n",
    "price_data['L90DReturnPercAnnual'] = np.power(price_data['L90DReturnPerc']+1, 250)"
   ]
  },
  {
   "cell_type": "markdown",
   "metadata": {},
   "source": [
    "####Adjust High and Low prices\n",
    "Since Yahoo/Google don't only provide adjusted closing prices, we'll have to adjust the daily highs and lows manually by adjusting the high and low by the ratio of the Close and Adjusted Close to account for any splits etc."
   ]
  },
  {
   "cell_type": "code",
   "execution_count": 162,
   "metadata": {
    "collapsed": false
   },
   "outputs": [
    {
     "name": "stdout",
     "output_type": "stream",
     "text": [
      "CPU times: user 10.9 ms, sys: 1.5 ms, total: 12.4 ms\n",
      "Wall time: 13.9 ms\n"
     ]
    }
   ],
   "source": [
    "%%time\n",
    "price_data['AdjRatio'] = price_data.Close/price_data.AdjustedClose\n",
    "price_data['AdjustedHigh'] = price_data.High/price_data.AdjRatio\n",
    "price_data['AdjustedLow'] = price_data.Low/price_data.AdjRatio"
   ]
  },
  {
   "cell_type": "markdown",
   "metadata": {},
   "source": [
    "####ATR\n",
    "Average True Range (ATR) is based on the close, high, low and previous close."
   ]
  },
  {
   "cell_type": "markdown",
   "metadata": {},
   "source": [
    "<i>Previous Close</i>"
   ]
  },
  {
   "cell_type": "code",
   "execution_count": 163,
   "metadata": {
    "collapsed": false
   },
   "outputs": [
    {
     "name": "stdout",
     "output_type": "stream",
     "text": [
      "CPU times: user 125 ms, sys: 41.2 ms, total: 167 ms\n",
      "Wall time: 203 ms\n"
     ]
    }
   ],
   "source": [
    "%%time\n",
    "price_data['AdjustedClosePrevious'] = price_data.groupby('Symbol')['AdjustedClose'].shift(1)"
   ]
  },
  {
   "cell_type": "markdown",
   "metadata": {},
   "source": [
    "<i>True Range</i>"
   ]
  },
  {
   "cell_type": "code",
   "execution_count": 164,
   "metadata": {
    "collapsed": false
   },
   "outputs": [],
   "source": [
    "def true_range(adj_prior_close, adj_close, adj_hi, adj_lo):\n",
    "    \n",
    "    adj_hi_lo = adj_hi - adj_lo\n",
    "    adj_hi_pc = np.abs(adj_hi - adj_prior_close)\n",
    "    adj_lo_pc = np.abs(adj_lo - adj_prior_close)\n",
    "\n",
    "    tr = np.max([adj_hi_lo, adj_hi_pc, adj_lo_pc])\n",
    "    return tr"
   ]
  },
  {
   "cell_type": "code",
   "execution_count": 165,
   "metadata": {
    "collapsed": false
   },
   "outputs": [
    {
     "name": "stdout",
     "output_type": "stream",
     "text": [
      "CPU times: user 32 s, sys: 723 ms, total: 32.7 s\n",
      "Wall time: 35.7 s\n"
     ]
    }
   ],
   "source": [
    "%%time\n",
    "price_data['TrueRange'] = price_data.apply(lambda x: true_range(x.AdjustedClosePrevious, \n",
    "                                                                x.AdjustedClose, \n",
    "                                                                x.AdjustedHigh,\n",
    "                                                                x.AdjustedLow\n",
    "                                                               ), axis=1) "
   ]
  },
  {
   "cell_type": "markdown",
   "metadata": {},
   "source": [
    "<i>Average of the True Range of several timeframes</i>"
   ]
  },
  {
   "cell_type": "code",
   "execution_count": 166,
   "metadata": {
    "collapsed": false
   },
   "outputs": [
    {
     "name": "stdout",
     "output_type": "stream",
     "text": [
      "CPU times: user 301 ms, sys: 91.5 ms, total: 393 ms\n",
      "Wall time: 418 ms\n"
     ]
    }
   ],
   "source": [
    "%%time\n",
    "price_data['ATR20'] = price_data.groupby('Symbol')['TrueRange'].apply(pd.rolling_mean, window=20, min_periods=20)\n",
    "price_data['ATR90'] = price_data.groupby('Symbol')['TrueRange'].apply(pd.rolling_mean, window=90, min_periods=90)\n",
    "price_data['ATR100'] = price_data.groupby('Symbol')['TrueRange'].apply(pd.rolling_mean, window=100, min_periods=100)"
   ]
  },
  {
   "cell_type": "markdown",
   "metadata": {},
   "source": [
    "##Let's take a quick look at the returns distribution..."
   ]
  },
  {
   "cell_type": "code",
   "execution_count": 167,
   "metadata": {
    "collapsed": false
   },
   "outputs": [],
   "source": [
    "std = lambda x: (x - x.mean())/ (x.max() - x.min())\n",
    "norm = lambda x: (x - x.mean())/ (x.std())\n",
    "\n",
    "price_data[\"L90DReturnPercStd\"] = price_data.groupby('Symbol')[\"L90DReturn\"].apply(std) \n",
    "price_data[\"L90DReturnPercNorm\"] = price_data.groupby('Symbol')[\"L90DReturn\"].apply(norm) \n"
   ]
  },
  {
   "cell_type": "code",
   "execution_count": 168,
   "metadata": {
    "collapsed": false
   },
   "outputs": [
    {
     "data": {
      "image/png": "[encoded data removed]",
      "text/plain": [
       "<matplotlib.figure.Figure at 0x116c2d290>"
      ]
     },
     "metadata": {},
     "output_type": "display_data"
    }
   ],
   "source": [
    "from scipy import stats\n",
    "\n",
    "plot_data = price_data\n",
    "\n",
    "x = plot_data['L90DReturnPercStd'].dropna().values.astype(float)\n",
    "\n",
    "sns.distplot(x, kde=False, fit=stats.norm);"
   ]
  },
  {
   "cell_type": "code",
   "execution_count": 169,
   "metadata": {
    "collapsed": false
   },
   "outputs": [
    {
     "name": "stdout",
     "output_type": "stream",
     "text": [
      "-5.22676224895\n",
      "6.40769714381\n"
     ]
    },
    {
     "data": {
      "image/png": "[encoded data removed]",
      "text/plain": [
       "<matplotlib.figure.Figure at 0x111e0a8d0>"
      ]
     },
     "metadata": {},
     "output_type": "display_data"
    }
   ],
   "source": [
    "x = plot_data['L90DReturnPercNorm'].dropna().values.astype(float)\n",
    "print x.min()\n",
    "print x.max()\n",
    "sns.distplot(x, kde=False, fit=stats.norm);"
   ]
  },
  {
   "cell_type": "markdown",
   "metadata": {},
   "source": [
    "As expected, sort of normal."
   ]
  },
  {
   "cell_type": "code",
   "execution_count": 170,
   "metadata": {
    "collapsed": false
   },
   "outputs": [],
   "source": [
    "# x = plot_data[plot_data[\"Type\"]['L90DReturnPercStd'].dropna().values.astype(float)\n",
    "# sns.axes_style(\"white\")\n",
    "# sns.jointplot(x=x, y=y, kind=\"hex\", color=\"k\")"
   ]
  },
  {
   "cell_type": "code",
   "execution_count": 171,
   "metadata": {
    "collapsed": false
   },
   "outputs": [],
   "source": [
    "plot_data;"
   ]
  },
  {
   "cell_type": "markdown",
   "metadata": {},
   "source": [
    "## Moving Averages by Stock"
   ]
  },
  {
   "cell_type": "code",
   "execution_count": 172,
   "metadata": {
    "collapsed": false
   },
   "outputs": [
    {
     "name": "stdout",
     "output_type": "stream",
     "text": [
      "CPU times: user 347 ms, sys: 174 ms, total: 521 ms\n",
      "Wall time: 559 ms\n"
     ]
    }
   ],
   "source": [
    "%%time\n",
    "price_data['MA200'] = price_data.groupby('Symbol')['AdjustedClose'].apply(pd.rolling_mean, window=200, min_periods=200)\n",
    "price_data['MA100'] = price_data.groupby('Symbol')['AdjustedClose'].apply(pd.rolling_mean, window=100, min_periods=100)\n",
    "price_data['MA50'] = price_data.groupby('Symbol')['AdjustedClose'].apply(pd.rolling_mean, window=50, min_periods=50)\n",
    "price_data['MA200Diff'] = price_data.AdjustedClose - price_data.MA200 \n",
    "price_data['MA100Diff'] = price_data.AdjustedClose - price_data.MA100 \n",
    "price_data['MA50Diff'] = price_data.AdjustedClose - price_data.MA50 "
   ]
  },
  {
   "cell_type": "markdown",
   "metadata": {},
   "source": [
    "###Min/Max L1D Return\n",
    "To be able to catch large gap up or downs, we get the rolling 90 day maximum 1 day return"
   ]
  },
  {
   "cell_type": "code",
   "execution_count": 173,
   "metadata": {
    "collapsed": false
   },
   "outputs": [
    {
     "name": "stdout",
     "output_type": "stream",
     "text": [
      "CPU times: user 342 ms, sys: 192 ms, total: 534 ms\n",
      "Wall time: 584 ms\n"
     ]
    }
   ],
   "source": [
    "%%time\n",
    "price_data['MinL1DReturnPercL90D'] = price_data.groupby('Symbol')['L1DReturnPerc'].apply(\n",
    "    pd.rolling_min, window=90, min_periods=90)\n",
    "\n",
    "price_data['MaxL1DReturnPercL90D'] = price_data.groupby('Symbol')['L1DReturnPerc'].apply(\n",
    "    pd.rolling_max, window=90, min_periods=90)\n"
   ]
  },
  {
   "cell_type": "markdown",
   "metadata": {},
   "source": [
    "\n",
    "##R-Squared"
   ]
  },
  {
   "cell_type": "markdown",
   "metadata": {},
   "source": [
    "### Let's check out statsmodels OLS"
   ]
  },
  {
   "cell_type": "code",
   "execution_count": 174,
   "metadata": {
    "collapsed": false
   },
   "outputs": [
    {
     "name": "stdout",
     "output_type": "stream",
     "text": [
      "                            OLS Regression Results                            \n",
      "==============================================================================\n",
      "Dep. Variable:       AdjustedCloseLog   R-squared:                       0.995\n",
      "Model:                            OLS   Adj. R-squared:                  0.995\n",
      "Method:                 Least Squares   F-statistic:                 9.359e+04\n",
      "Date:                Thu, 03 Sep 2015   Prob (F-statistic):               0.00\n",
      "Time:                        19:14:24   Log-Likelihood:                -148.90\n",
      "No. Observations:                 486   AIC:                             299.8\n",
      "Df Residuals:                     485   BIC:                             304.0\n",
      "Df Model:                           1                                         \n",
      "Covariance Type:            nonrobust                                         \n",
      "==============================================================================\n",
      "                 coef    std err          t      P>|t|      [95.0% Conf. Int.]\n",
      "------------------------------------------------------------------------------\n",
      "x1             0.0037   1.22e-05    305.925      0.000         0.004     0.004\n",
      "==============================================================================\n",
      "Omnibus:                       15.483   Durbin-Watson:                   0.002\n",
      "Prob(Omnibus):                  0.000   Jarque-Bera (JB):               12.125\n",
      "Skew:                          -0.294   Prob(JB):                      0.00233\n",
      "Kurtosis:                       2.497   Cond. No.                         1.00\n",
      "==============================================================================\n",
      "\n",
      "Warnings:\n",
      "[1] Standard Errors assume that the covariance matrix of the errors is correctly specified.\n",
      "CPU times: user 86.8 ms, sys: 57.3 ms, total: 144 ms\n",
      "Wall time: 158 ms\n"
     ]
    }
   ],
   "source": [
    "%%time\n",
    "import numpy as np\n",
    "import statsmodels.api as sm\n",
    "# Fit regression model\n",
    "\n",
    "y = price_data[price_data[\"Symbol\"]==\"AAPL\"][\"AdjustedCloseLog\"]\n",
    "X = price_data[price_data[\"Symbol\"]==\"AAPL\"].index\n",
    "\n",
    "results = sm.OLS(y, X).fit()\n",
    "\n",
    "# Inspect the results\n",
    "print results.summary()"
   ]
  },
  {
   "cell_type": "markdown",
   "metadata": {},
   "source": [
    "### Let's use pandas OLS since is has a window paramater"
   ]
  },
  {
   "cell_type": "code",
   "execution_count": 175,
   "metadata": {
    "collapsed": false
   },
   "outputs": [],
   "source": [
    "def rolling_lin(x, y, window):\n",
    "\n",
    "    p = pd.ols(y=y,\n",
    "               x=x,\n",
    "               window_type='rolling',\n",
    "               window=window)\n",
    "    \n",
    "    beta = pd.DataFrame(p.beta['x'])\n",
    "    r2 = pd.DataFrame(p.r2)\n",
    "    \n",
    "    df = pd.concat([beta, r2], axis=1)\n",
    "    \n",
    "    data = df.reset_index()\n",
    "    \n",
    "    data.rename(columns={'level_1': 'index', 'x': 'Slope', 0: 'R2'}, inplace=True)\n",
    "    data.set_index(\"index\", inplace=True)\n",
    "    \n",
    "    return data"
   ]
  },
  {
   "cell_type": "markdown",
   "metadata": {},
   "source": [
    "We'll create a new grouped series with r-squared values for each symbol. Since we're using a 90 day window, this series won't return the first 90 days for each symbol in the original dataframe."
   ]
  },
  {
   "cell_type": "code",
   "execution_count": 176,
   "metadata": {
    "collapsed": false
   },
   "outputs": [],
   "source": [
    "price_data['row_index'] = price_data.index.astype(np.int64)"
   ]
  },
  {
   "cell_type": "code",
   "execution_count": 177,
   "metadata": {
    "collapsed": false
   },
   "outputs": [
    {
     "name": "stdout",
     "output_type": "stream",
     "text": [
      "CPU times: user 2min 18s, sys: 2.45 s, total: 2min 20s\n",
      "Wall time: 2min 49s\n"
     ]
    }
   ],
   "source": [
    "%%time\n",
    "ln = price_data.groupby('Symbol').apply(lambda x: rolling_lin(x.row_index, x.AdjustedCloseLog, 90))"
   ]
  },
  {
   "cell_type": "markdown",
   "metadata": {},
   "source": [
    "We'll create a new dataframe from the series and do some reindexing and renaming "
   ]
  },
  {
   "cell_type": "code",
   "execution_count": 178,
   "metadata": {
    "collapsed": false
   },
   "outputs": [
    {
     "name": "stdout",
     "output_type": "stream",
     "text": [
      "CPU times: user 12 ms, sys: 4.36 ms, total: 16.3 ms\n",
      "Wall time: 26.1 ms\n"
     ]
    }
   ],
   "source": [
    "%%time\n",
    "df_ln = ln.reset_index()\n",
    "df_ln.rename(columns={'level_1': 'index', 'x': 'Slope', 0: 'R2'}, inplace=True)\n",
    "#     df2.reset_index(inplace=True, drop=True)\n",
    "df_ln.set_index(\"index\", inplace=True)\n",
    "df_ln.head()"
   ]
  },
  {
   "cell_type": "code",
   "execution_count": 179,
   "metadata": {
    "collapsed": false
   },
   "outputs": [],
   "source": [
    "df_ln;"
   ]
  },
  {
   "cell_type": "markdown",
   "metadata": {},
   "source": [
    "Last step is to assign the r-squared values to the right rows in the original dataframe"
   ]
  },
  {
   "cell_type": "code",
   "execution_count": 180,
   "metadata": {
    "collapsed": false
   },
   "outputs": [
    {
     "name": "stdout",
     "output_type": "stream",
     "text": [
      "CPU times: user 92.2 ms, sys: 126 ms, total: 218 ms\n",
      "Wall time: 240 ms\n"
     ]
    }
   ],
   "source": [
    "%%time\n",
    "price_data[\"R2\"] = df_ln.R2\n",
    "price_data[\"Slope\"] = df_ln.Slope\n",
    "price_data[price_data[\"Symbol\"] == \"NFLX\"].tail();"
   ]
  },
  {
   "cell_type": "markdown",
   "metadata": {},
   "source": [
    "###We'll annualize the slope (beta)\n",
    "We assume 250 trading days in the year"
   ]
  },
  {
   "cell_type": "code",
   "execution_count": 181,
   "metadata": {
    "collapsed": false
   },
   "outputs": [
    {
     "name": "stdout",
     "output_type": "stream",
     "text": [
      "CPU times: user 13 ms, sys: 2.97 ms, total: 16 ms\n",
      "Wall time: 21.2 ms\n"
     ]
    }
   ],
   "source": [
    "%%time\n",
    "trading_days = 250\n",
    "price_data['SlopeAnnualized'] = ((np.power(np.exp(price_data['Slope']), trading_days)-1)*100)"
   ]
  },
  {
   "cell_type": "markdown",
   "metadata": {},
   "source": [
    "###We 'score' each symbol by adjusting the 90 day annualized return by its 90 day r-squared value"
   ]
  },
  {
   "cell_type": "code",
   "execution_count": 182,
   "metadata": {
    "collapsed": false
   },
   "outputs": [
    {
     "name": "stdout",
     "output_type": "stream",
     "text": [
      "CPU times: user 2.7 ms, sys: 1.01 ms, total: 3.72 ms\n",
      "Wall time: 4.97 ms\n"
     ]
    }
   ],
   "source": [
    "%%time\n",
    "price_data[\"SlopeAnnualizedAdj\"] = price_data.SlopeAnnualized * price_data.R2"
   ]
  },
  {
   "cell_type": "markdown",
   "metadata": {},
   "source": [
    "\n",
    "###Let's get the last day of data and run some analytics"
   ]
  },
  {
   "cell_type": "code",
   "execution_count": 200,
   "metadata": {
    "collapsed": false,
    "scrolled": true
   },
   "outputs": [
    {
     "name": "stdout",
     "output_type": "stream",
     "text": [
      "2015-09-02 00:00:00\n"
     ]
    }
   ],
   "source": [
    "last_date = price_data.Date.max()-timedelta(1)\n",
    "print last_date"
   ]
  },
  {
   "cell_type": "markdown",
   "metadata": {},
   "source": [
    "### Add'l Filters"
   ]
  },
  {
   "cell_type": "markdown",
   "metadata": {},
   "source": [
    "Is the stock trading above its 100 day moving average?"
   ]
  },
  {
   "cell_type": "code",
   "execution_count": 201,
   "metadata": {
    "collapsed": true
   },
   "outputs": [],
   "source": [
    "ma_filter = price_data.MA100Diff > 0"
   ]
  },
  {
   "cell_type": "markdown",
   "metadata": {},
   "source": [
    "Has the stock had any major gaps in last 90 days?"
   ]
  },
  {
   "cell_type": "code",
   "execution_count": 202,
   "metadata": {
    "collapsed": false
   },
   "outputs": [],
   "source": [
    "gap_percent = .15\n",
    "gap_filter = (price_data.MaxL1DReturnPercL90D < gap_percent) & (price_data.MinL1DReturnPercL90D > -gap_percent)"
   ]
  },
  {
   "cell_type": "code",
   "execution_count": 203,
   "metadata": {
    "collapsed": false
   },
   "outputs": [],
   "source": [
    "price_data[\"InFilter\"] = ma_filter & gap_filter"
   ]
  },
  {
   "cell_type": "markdown",
   "metadata": {},
   "source": [
    "###Rank each day by the Adjusted Slope"
   ]
  },
  {
   "cell_type": "code",
   "execution_count": 204,
   "metadata": {
    "collapsed": false
   },
   "outputs": [
    {
     "name": "stdout",
     "output_type": "stream",
     "text": [
      "CPU times: user 151 ms, sys: 32.7 ms, total: 184 ms\n",
      "Wall time: 186 ms\n"
     ]
    }
   ],
   "source": [
    "%%time\n",
    "price_data[\"DayRank\"] = -1\n",
    "price_data[\"DayRank\"] = price_data[price_data.InFilter == True] \\\n",
    "    .groupby(\"Date\")['SlopeAnnualizedAdj'].rank(ascending=False)"
   ]
  },
  {
   "cell_type": "markdown",
   "metadata": {},
   "source": [
    "Get the prior week's rank"
   ]
  },
  {
   "cell_type": "code",
   "execution_count": 205,
   "metadata": {
    "collapsed": false
   },
   "outputs": [
    {
     "name": "stdout",
     "output_type": "stream",
     "text": [
      "CPU times: user 254 ms, sys: 192 ms, total: 445 ms\n",
      "Wall time: 684 ms\n"
     ]
    }
   ],
   "source": [
    "%%time\n",
    "price_data[\"DayRankPrior\"] = price_data.shift(1).DayRank\n",
    "price_data[\"DayRankPriorWeek\"] = price_data.shift(7).DayRank"
   ]
  },
  {
   "cell_type": "code",
   "execution_count": 206,
   "metadata": {
    "collapsed": false
   },
   "outputs": [
    {
     "name": "stdout",
     "output_type": "stream",
     "text": [
      "2015-09-02 00:00:00\n"
     ]
    }
   ],
   "source": [
    "print last_date\n",
    "date_filter = price_data['Date'] == last_date #'2015-06-19'\n",
    "date_filter;"
   ]
  },
  {
   "cell_type": "markdown",
   "metadata": {},
   "source": [
    "###Get the top stocks that meet the filters"
   ]
  },
  {
   "cell_type": "code",
   "execution_count": 207,
   "metadata": {
    "collapsed": false
   },
   "outputs": [],
   "source": [
    "display_cols = ['DayRank', 'DayRankPrior', 'DayRankPriorWeek', 'Date', 'Symbol', 'AdjustedClose', 'AdjustedCloseLog', \n",
    "                'L90DReturnPerc', 'MinL1DReturnPercL90D', 'MaxL1DReturnPercL90D', \n",
    "                'R2', 'Slope', 'SlopeAnnualized', 'SlopeAnnualizedAdj',\n",
    "                'ATR20', 'ATR90', 'ATR100']"
   ]
  },
  {
   "cell_type": "code",
   "execution_count": 208,
   "metadata": {
    "collapsed": false
   },
   "outputs": [],
   "source": [
    "portfolio = price_data[(price_data.InFilter == True) & date_filter & (price_data['DayRank'] <= 30)]\n",
    "portfolio.sort(\"DayRank\");"
   ]
  },
  {
   "cell_type": "markdown",
   "metadata": {},
   "source": [
    "##Position Sizing"
   ]
  },
  {
   "cell_type": "markdown",
   "metadata": {},
   "source": [
    "<i>Some setup columns</i>"
   ]
  },
  {
   "cell_type": "code",
   "execution_count": 209,
   "metadata": {
    "collapsed": false
   },
   "outputs": [
    {
     "name": "stdout",
     "output_type": "stream",
     "text": [
      "CPU times: user 3.9 ms, sys: 523 µs, total: 4.42 ms\n",
      "Wall time: 3.96 ms\n"
     ]
    }
   ],
   "source": [
    "%%time\n",
    "atr_factor = 2\n",
    "capital = 100000\n",
    "max_portfolio_weight = 0.05\n",
    "position_capital = capital * max_portfolio_weight\n",
    "portfolio_risk_factor = 0.005\n",
    "capital_at_risk = (capital * portfolio_risk_factor)\n",
    "\n",
    "portfolio[\"ATR90Perc\"] =  portfolio[\"ATR90\"]/portfolio[\"AdjustedClose\"]\n",
    "portfolio[\"ATRStop\"] =  portfolio[\"ATR90\"]*atr_factor\n",
    "portfolio[\"ATRStop\"] =  portfolio[\"ATR90\"]*atr_factor\n",
    "portfolio[\"PositionUnits\"] = (capital_at_risk/portfolio[\"ATRStop\"]).astype(int)\n",
    "portfolio[\"PositionSize\"] = portfolio[\"AdjustedClose\"] * portfolio[\"PositionUnits\"]\n",
    "portfolio[\"PositionWeight\"] = portfolio[\"PositionSize\"] / capital\n",
    "\n",
    "portfolio[\"PositionWeightNorm\"] = (portfolio.PositionSize/portfolio.PositionSize.sum())\n",
    "portfolio[\"PositionSizeNorm\"] = (portfolio.PositionWeightNorm * capital)\n",
    "portfolio[\"PositionUnitsNorm\"] = (portfolio.PositionSizeNorm / portfolio.AdjustedClose).astype(int)"
   ]
  },
  {
   "cell_type": "code",
   "execution_count": 210,
   "metadata": {
    "collapsed": false,
    "scrolled": true
   },
   "outputs": [
    {
     "data": {
      "text/html": [
       "<div>\n",
       "<table border=\"1\" class=\"dataframe\">\n",
       "  <thead>\n",
       "    <tr style=\"text-align: right;\">\n",
       "      <th></th>\n",
       "      <th>Date</th>\n",
       "      <th>Open</th>\n",
       "      <th>High</th>\n",
       "      <th>Low</th>\n",
       "      <th>Close</th>\n",
       "      <th>Volume</th>\n",
       "      <th>AdjustedClose</th>\n",
       "      <th>Symbol</th>\n",
       "      <th>SymbolType</th>\n",
       "      <th>CloseLog</th>\n",
       "      <th>...</th>\n",
       "      <th>DayRankPrior</th>\n",
       "      <th>DayRankPriorWeek</th>\n",
       "      <th>ATR90Perc</th>\n",
       "      <th>ATRStop</th>\n",
       "      <th>PositionUnits</th>\n",
       "      <th>PositionSize</th>\n",
       "      <th>PositionWeight</th>\n",
       "      <th>PositionWeightNorm</th>\n",
       "      <th>PositionSizeNorm</th>\n",
       "      <th>PositionUnitsNorm</th>\n",
       "    </tr>\n",
       "  </thead>\n",
       "  <tbody>\n",
       "    <tr>\n",
       "      <th>12115</th>\n",
       "      <td>2015-09-02</td>\n",
       "      <td>72.720001</td>\n",
       "      <td>73.099998</td>\n",
       "      <td>72.239998</td>\n",
       "      <td>73.089996</td>\n",
       "      <td>359700</td>\n",
       "      <td>73.089996</td>\n",
       "      <td>AIZ</td>\n",
       "      <td>Constituent</td>\n",
       "      <td>4.291692</td>\n",
       "      <td>...</td>\n",
       "      <td>2</td>\n",
       "      <td>1</td>\n",
       "      <td>0.016567</td>\n",
       "      <td>2.421796</td>\n",
       "      <td>206</td>\n",
       "      <td>15056.539176</td>\n",
       "      <td>0.150565</td>\n",
       "      <td>0.037684</td>\n",
       "      <td>3768.449334</td>\n",
       "      <td>51</td>\n",
       "    </tr>\n",
       "    <tr>\n",
       "      <th>17914</th>\n",
       "      <td>2015-09-02</td>\n",
       "      <td>505.089996</td>\n",
       "      <td>510.859985</td>\n",
       "      <td>497.720001</td>\n",
       "      <td>510.549988</td>\n",
       "      <td>3689600</td>\n",
       "      <td>510.549988</td>\n",
       "      <td>AMZN</td>\n",
       "      <td>Constituent</td>\n",
       "      <td>6.235489</td>\n",
       "      <td>...</td>\n",
       "      <td>3</td>\n",
       "      <td>2</td>\n",
       "      <td>0.021914</td>\n",
       "      <td>22.376672</td>\n",
       "      <td>22</td>\n",
       "      <td>11232.099736</td>\n",
       "      <td>0.112321</td>\n",
       "      <td>0.028112</td>\n",
       "      <td>2811.243558</td>\n",
       "      <td>5</td>\n",
       "    </tr>\n",
       "    <tr>\n",
       "      <th>27639</th>\n",
       "      <td>2015-09-02</td>\n",
       "      <td>189.360001</td>\n",
       "      <td>191.869995</td>\n",
       "      <td>187.660004</td>\n",
       "      <td>191.860001</td>\n",
       "      <td>510300</td>\n",
       "      <td>191.860001</td>\n",
       "      <td>BCR</td>\n",
       "      <td>Constituent</td>\n",
       "      <td>5.256766</td>\n",
       "      <td>...</td>\n",
       "      <td>10</td>\n",
       "      <td>17</td>\n",
       "      <td>0.016404</td>\n",
       "      <td>6.294369</td>\n",
       "      <td>79</td>\n",
       "      <td>15156.940079</td>\n",
       "      <td>0.151569</td>\n",
       "      <td>0.037936</td>\n",
       "      <td>3793.578330</td>\n",
       "      <td>19</td>\n",
       "    </tr>\n",
       "    <tr>\n",
       "      <th>36388</th>\n",
       "      <td>2015-09-02</td>\n",
       "      <td>41.299999</td>\n",
       "      <td>41.330002</td>\n",
       "      <td>40.779999</td>\n",
       "      <td>41.099998</td>\n",
       "      <td>4036800</td>\n",
       "      <td>41.099998</td>\n",
       "      <td>CAG</td>\n",
       "      <td>Constituent</td>\n",
       "      <td>3.716008</td>\n",
       "      <td>...</td>\n",
       "      <td>6</td>\n",
       "      <td>3</td>\n",
       "      <td>0.016575</td>\n",
       "      <td>1.362447</td>\n",
       "      <td>366</td>\n",
       "      <td>15042.599268</td>\n",
       "      <td>0.150426</td>\n",
       "      <td>0.037650</td>\n",
       "      <td>3764.960362</td>\n",
       "      <td>91</td>\n",
       "    </tr>\n",
       "    <tr>\n",
       "      <th>39792</th>\n",
       "      <td>2015-09-02</td>\n",
       "      <td>51.430000</td>\n",
       "      <td>51.549999</td>\n",
       "      <td>50.959999</td>\n",
       "      <td>51.540001</td>\n",
       "      <td>2141700</td>\n",
       "      <td>51.540001</td>\n",
       "      <td>CCE</td>\n",
       "      <td>Constituent</td>\n",
       "      <td>3.942358</td>\n",
       "      <td>...</td>\n",
       "      <td>21</td>\n",
       "      <td>28</td>\n",
       "      <td>0.018386</td>\n",
       "      <td>1.895218</td>\n",
       "      <td>263</td>\n",
       "      <td>13555.020263</td>\n",
       "      <td>0.135550</td>\n",
       "      <td>0.033926</td>\n",
       "      <td>3392.639336</td>\n",
       "      <td>65</td>\n",
       "    </tr>\n",
       "    <tr>\n",
       "      <th>40764</th>\n",
       "      <td>2015-09-02</td>\n",
       "      <td>48.660000</td>\n",
       "      <td>49.439999</td>\n",
       "      <td>48.369999</td>\n",
       "      <td>49.439999</td>\n",
       "      <td>3930300</td>\n",
       "      <td>49.439999</td>\n",
       "      <td>CCL</td>\n",
       "      <td>Constituent</td>\n",
       "      <td>3.900760</td>\n",
       "      <td>...</td>\n",
       "      <td>NaN</td>\n",
       "      <td>NaN</td>\n",
       "      <td>0.019955</td>\n",
       "      <td>1.973147</td>\n",
       "      <td>253</td>\n",
       "      <td>12508.319747</td>\n",
       "      <td>0.125083</td>\n",
       "      <td>0.031307</td>\n",
       "      <td>3130.664269</td>\n",
       "      <td>63</td>\n",
       "    </tr>\n",
       "    <tr>\n",
       "      <th>47464</th>\n",
       "      <td>2015-09-02</td>\n",
       "      <td>713.690002</td>\n",
       "      <td>724.000000</td>\n",
       "      <td>710.580017</td>\n",
       "      <td>723.869995</td>\n",
       "      <td>370100</td>\n",
       "      <td>723.869995</td>\n",
       "      <td>CMG</td>\n",
       "      <td>Constituent</td>\n",
       "      <td>6.584612</td>\n",
       "      <td>...</td>\n",
       "      <td>11</td>\n",
       "      <td>22</td>\n",
       "      <td>0.015681</td>\n",
       "      <td>22.701995</td>\n",
       "      <td>22</td>\n",
       "      <td>15925.139890</td>\n",
       "      <td>0.159251</td>\n",
       "      <td>0.039858</td>\n",
       "      <td>3985.848415</td>\n",
       "      <td>5</td>\n",
       "    </tr>\n",
       "    <tr>\n",
       "      <th>62382</th>\n",
       "      <td>2015-09-02</td>\n",
       "      <td>29.990000</td>\n",
       "      <td>30.680000</td>\n",
       "      <td>29.549999</td>\n",
       "      <td>30.680000</td>\n",
       "      <td>4413100</td>\n",
       "      <td>30.680000</td>\n",
       "      <td>DHI</td>\n",
       "      <td>Constituent</td>\n",
       "      <td>3.423611</td>\n",
       "      <td>...</td>\n",
       "      <td>7</td>\n",
       "      <td>20</td>\n",
       "      <td>0.023056</td>\n",
       "      <td>1.414716</td>\n",
       "      <td>353</td>\n",
       "      <td>10830.040000</td>\n",
       "      <td>0.108300</td>\n",
       "      <td>0.027106</td>\n",
       "      <td>2710.613411</td>\n",
       "      <td>88</td>\n",
       "    </tr>\n",
       "    <tr>\n",
       "      <th>68215</th>\n",
       "      <td>2015-09-02</td>\n",
       "      <td>68.040001</td>\n",
       "      <td>68.959999</td>\n",
       "      <td>67.709999</td>\n",
       "      <td>68.959999</td>\n",
       "      <td>1661900</td>\n",
       "      <td>68.959999</td>\n",
       "      <td>DRI</td>\n",
       "      <td>Constituent</td>\n",
       "      <td>4.233527</td>\n",
       "      <td>...</td>\n",
       "      <td>NaN</td>\n",
       "      <td>NaN</td>\n",
       "      <td>0.019430</td>\n",
       "      <td>2.679723</td>\n",
       "      <td>186</td>\n",
       "      <td>12826.559814</td>\n",
       "      <td>0.128266</td>\n",
       "      <td>0.032103</td>\n",
       "      <td>3210.315479</td>\n",
       "      <td>46</td>\n",
       "    </tr>\n",
       "    <tr>\n",
       "      <th>81799</th>\n",
       "      <td>2015-09-02</td>\n",
       "      <td>112.480003</td>\n",
       "      <td>113.389999</td>\n",
       "      <td>110.879997</td>\n",
       "      <td>113.379997</td>\n",
       "      <td>919100</td>\n",
       "      <td>113.379997</td>\n",
       "      <td>EXPE</td>\n",
       "      <td>Constituent</td>\n",
       "      <td>4.730745</td>\n",
       "      <td>...</td>\n",
       "      <td>14</td>\n",
       "      <td>14</td>\n",
       "      <td>0.025984</td>\n",
       "      <td>5.892242</td>\n",
       "      <td>84</td>\n",
       "      <td>9523.919748</td>\n",
       "      <td>0.095239</td>\n",
       "      <td>0.023837</td>\n",
       "      <td>2383.709072</td>\n",
       "      <td>21</td>\n",
       "    </tr>\n",
       "    <tr>\n",
       "      <th>83257</th>\n",
       "      <td>2015-09-02</td>\n",
       "      <td>88.809998</td>\n",
       "      <td>89.889999</td>\n",
       "      <td>87.629997</td>\n",
       "      <td>89.889999</td>\n",
       "      <td>26838000</td>\n",
       "      <td>89.889999</td>\n",
       "      <td>FB</td>\n",
       "      <td>Constituent</td>\n",
       "      <td>4.498587</td>\n",
       "      <td>...</td>\n",
       "      <td>9</td>\n",
       "      <td>NaN</td>\n",
       "      <td>0.024434</td>\n",
       "      <td>4.392666</td>\n",
       "      <td>113</td>\n",
       "      <td>10157.569887</td>\n",
       "      <td>0.101576</td>\n",
       "      <td>0.025423</td>\n",
       "      <td>2542.303183</td>\n",
       "      <td>28</td>\n",
       "    </tr>\n",
       "    <tr>\n",
       "      <th>86617</th>\n",
       "      <td>2015-09-02</td>\n",
       "      <td>83.820000</td>\n",
       "      <td>85.190002</td>\n",
       "      <td>83.320000</td>\n",
       "      <td>85.180000</td>\n",
       "      <td>1526800</td>\n",
       "      <td>85.180000</td>\n",
       "      <td>FISV</td>\n",
       "      <td>Constituent</td>\n",
       "      <td>4.444767</td>\n",
       "      <td>...</td>\n",
       "      <td>NaN</td>\n",
       "      <td>NaN</td>\n",
       "      <td>0.017164</td>\n",
       "      <td>2.924000</td>\n",
       "      <td>170</td>\n",
       "      <td>14480.600000</td>\n",
       "      <td>0.144806</td>\n",
       "      <td>0.036243</td>\n",
       "      <td>3624.299501</td>\n",
       "      <td>42</td>\n",
       "    </tr>\n",
       "    <tr>\n",
       "      <th>105454</th>\n",
       "      <td>2015-09-02</td>\n",
       "      <td>45.509998</td>\n",
       "      <td>45.740002</td>\n",
       "      <td>44.930000</td>\n",
       "      <td>45.580002</td>\n",
       "      <td>3007100</td>\n",
       "      <td>45.580002</td>\n",
       "      <td>HIG</td>\n",
       "      <td>Constituent</td>\n",
       "      <td>3.819469</td>\n",
       "      <td>...</td>\n",
       "      <td>4</td>\n",
       "      <td>11</td>\n",
       "      <td>0.018796</td>\n",
       "      <td>1.713429</td>\n",
       "      <td>291</td>\n",
       "      <td>13263.780582</td>\n",
       "      <td>0.132638</td>\n",
       "      <td>0.033197</td>\n",
       "      <td>3319.745960</td>\n",
       "      <td>72</td>\n",
       "    </tr>\n",
       "    <tr>\n",
       "      <th>108370</th>\n",
       "      <td>2015-09-02</td>\n",
       "      <td>60.410000</td>\n",
       "      <td>60.650002</td>\n",
       "      <td>60.009998</td>\n",
       "      <td>60.639999</td>\n",
       "      <td>885500</td>\n",
       "      <td>60.639999</td>\n",
       "      <td>HRL</td>\n",
       "      <td>Constituent</td>\n",
       "      <td>4.104955</td>\n",
       "      <td>...</td>\n",
       "      <td>22</td>\n",
       "      <td>23</td>\n",
       "      <td>0.015561</td>\n",
       "      <td>1.887228</td>\n",
       "      <td>264</td>\n",
       "      <td>16008.959736</td>\n",
       "      <td>0.160090</td>\n",
       "      <td>0.040068</td>\n",
       "      <td>4006.827395</td>\n",
       "      <td>66</td>\n",
       "    </tr>\n",
       "    <tr>\n",
       "      <th>129719</th>\n",
       "      <td>2015-09-02</td>\n",
       "      <td>49.950001</td>\n",
       "      <td>51.020000</td>\n",
       "      <td>49.529999</td>\n",
       "      <td>51.009998</td>\n",
       "      <td>2040300</td>\n",
       "      <td>51.009998</td>\n",
       "      <td>LEN</td>\n",
       "      <td>Constituent</td>\n",
       "      <td>3.932022</td>\n",
       "      <td>...</td>\n",
       "      <td>NaN</td>\n",
       "      <td>18</td>\n",
       "      <td>0.024938</td>\n",
       "      <td>2.544217</td>\n",
       "      <td>196</td>\n",
       "      <td>9997.959608</td>\n",
       "      <td>0.099980</td>\n",
       "      <td>0.025024</td>\n",
       "      <td>2502.354876</td>\n",
       "      <td>49</td>\n",
       "    </tr>\n",
       "    <tr>\n",
       "      <th>131664</th>\n",
       "      <td>2015-09-02</td>\n",
       "      <td>80.709999</td>\n",
       "      <td>81.830002</td>\n",
       "      <td>80.300003</td>\n",
       "      <td>81.809998</td>\n",
       "      <td>3232300</td>\n",
       "      <td>81.809998</td>\n",
       "      <td>LLY</td>\n",
       "      <td>Constituent</td>\n",
       "      <td>4.404399</td>\n",
       "      <td>...</td>\n",
       "      <td>15</td>\n",
       "      <td>9</td>\n",
       "      <td>0.021645</td>\n",
       "      <td>3.541564</td>\n",
       "      <td>141</td>\n",
       "      <td>11535.209718</td>\n",
       "      <td>0.115352</td>\n",
       "      <td>0.028871</td>\n",
       "      <td>2887.107911</td>\n",
       "      <td>35</td>\n",
       "    </tr>\n",
       "    <tr>\n",
       "      <th>132636</th>\n",
       "      <td>2015-09-02</td>\n",
       "      <td>199.690002</td>\n",
       "      <td>204.119995</td>\n",
       "      <td>199.279999</td>\n",
       "      <td>204.039993</td>\n",
       "      <td>1489100</td>\n",
       "      <td>204.039993</td>\n",
       "      <td>LMT</td>\n",
       "      <td>Constituent</td>\n",
       "      <td>5.318316</td>\n",
       "      <td>...</td>\n",
       "      <td>23</td>\n",
       "      <td>25</td>\n",
       "      <td>0.013830</td>\n",
       "      <td>5.643899</td>\n",
       "      <td>88</td>\n",
       "      <td>17955.519384</td>\n",
       "      <td>0.179555</td>\n",
       "      <td>0.044940</td>\n",
       "      <td>4494.025105</td>\n",
       "      <td>22</td>\n",
       "    </tr>\n",
       "    <tr>\n",
       "      <th>141329</th>\n",
       "      <td>2015-09-02</td>\n",
       "      <td>41.439999</td>\n",
       "      <td>42.299999</td>\n",
       "      <td>41.310001</td>\n",
       "      <td>42.270000</td>\n",
       "      <td>13727200</td>\n",
       "      <td>42.270000</td>\n",
       "      <td>MDLZ</td>\n",
       "      <td>Constituent</td>\n",
       "      <td>3.744078</td>\n",
       "      <td>...</td>\n",
       "      <td>NaN</td>\n",
       "      <td>7</td>\n",
       "      <td>0.017368</td>\n",
       "      <td>1.468279</td>\n",
       "      <td>340</td>\n",
       "      <td>14371.800000</td>\n",
       "      <td>0.143718</td>\n",
       "      <td>0.035971</td>\n",
       "      <td>3597.068324</td>\n",
       "      <td>85</td>\n",
       "    </tr>\n",
       "    <tr>\n",
       "      <th>143273</th>\n",
       "      <td>2015-09-02</td>\n",
       "      <td>195.070007</td>\n",
       "      <td>197.869995</td>\n",
       "      <td>194.050003</td>\n",
       "      <td>197.869995</td>\n",
       "      <td>478400</td>\n",
       "      <td>197.869995</td>\n",
       "      <td>MHK</td>\n",
       "      <td>Constituent</td>\n",
       "      <td>5.287610</td>\n",
       "      <td>...</td>\n",
       "      <td>20</td>\n",
       "      <td>15</td>\n",
       "      <td>0.019558</td>\n",
       "      <td>7.739999</td>\n",
       "      <td>64</td>\n",
       "      <td>12663.679680</td>\n",
       "      <td>0.126637</td>\n",
       "      <td>0.031695</td>\n",
       "      <td>3169.548772</td>\n",
       "      <td>16</td>\n",
       "    </tr>\n",
       "    <tr>\n",
       "      <th>158301</th>\n",
       "      <td>2015-09-02</td>\n",
       "      <td>110.150002</td>\n",
       "      <td>110.779999</td>\n",
       "      <td>109.199997</td>\n",
       "      <td>110.699997</td>\n",
       "      <td>4237700</td>\n",
       "      <td>110.699997</td>\n",
       "      <td>NKE</td>\n",
       "      <td>Constituent</td>\n",
       "      <td>4.706824</td>\n",
       "      <td>...</td>\n",
       "      <td>16</td>\n",
       "      <td>NaN</td>\n",
       "      <td>0.016668</td>\n",
       "      <td>3.690336</td>\n",
       "      <td>135</td>\n",
       "      <td>14944.499595</td>\n",
       "      <td>0.149445</td>\n",
       "      <td>0.037404</td>\n",
       "      <td>3740.407333</td>\n",
       "      <td>33</td>\n",
       "    </tr>\n",
       "    <tr>\n",
       "      <th>166429</th>\n",
       "      <td>2015-09-02</td>\n",
       "      <td>234.399994</td>\n",
       "      <td>239.830002</td>\n",
       "      <td>234.029999</td>\n",
       "      <td>239.660004</td>\n",
       "      <td>901500</td>\n",
       "      <td>239.660004</td>\n",
       "      <td>ORLY</td>\n",
       "      <td>Constituent</td>\n",
       "      <td>5.479221</td>\n",
       "      <td>...</td>\n",
       "      <td>17</td>\n",
       "      <td>16</td>\n",
       "      <td>0.016863</td>\n",
       "      <td>8.082888</td>\n",
       "      <td>61</td>\n",
       "      <td>14619.260244</td>\n",
       "      <td>0.146193</td>\n",
       "      <td>0.036590</td>\n",
       "      <td>3659.004296</td>\n",
       "      <td>15</td>\n",
       "    </tr>\n",
       "    <tr>\n",
       "      <th>174584</th>\n",
       "      <td>2015-09-02</td>\n",
       "      <td>29.600000</td>\n",
       "      <td>29.680000</td>\n",
       "      <td>29.340000</td>\n",
       "      <td>29.670000</td>\n",
       "      <td>3578000</td>\n",
       "      <td>29.670000</td>\n",
       "      <td>PGR</td>\n",
       "      <td>Constituent</td>\n",
       "      <td>3.390136</td>\n",
       "      <td>...</td>\n",
       "      <td>12</td>\n",
       "      <td>13</td>\n",
       "      <td>0.014324</td>\n",
       "      <td>0.850000</td>\n",
       "      <td>588</td>\n",
       "      <td>17445.960000</td>\n",
       "      <td>0.174460</td>\n",
       "      <td>0.043665</td>\n",
       "      <td>4366.489242</td>\n",
       "      <td>147</td>\n",
       "    </tr>\n",
       "    <tr>\n",
       "      <th>186252</th>\n",
       "      <td>2015-09-02</td>\n",
       "      <td>40.990002</td>\n",
       "      <td>41.299999</td>\n",
       "      <td>40.830002</td>\n",
       "      <td>41.250000</td>\n",
       "      <td>5078000</td>\n",
       "      <td>41.250000</td>\n",
       "      <td>RAI</td>\n",
       "      <td>Constituent</td>\n",
       "      <td>3.719651</td>\n",
       "      <td>...</td>\n",
       "      <td>13</td>\n",
       "      <td>19</td>\n",
       "      <td>0.017245</td>\n",
       "      <td>1.422741</td>\n",
       "      <td>351</td>\n",
       "      <td>14478.750000</td>\n",
       "      <td>0.144788</td>\n",
       "      <td>0.036238</td>\n",
       "      <td>3623.836471</td>\n",
       "      <td>87</td>\n",
       "    </tr>\n",
       "    <tr>\n",
       "      <th>186738</th>\n",
       "      <td>2015-09-02</td>\n",
       "      <td>503.709991</td>\n",
       "      <td>518.989990</td>\n",
       "      <td>493.750000</td>\n",
       "      <td>518.780029</td>\n",
       "      <td>746800</td>\n",
       "      <td>518.780029</td>\n",
       "      <td>REGN</td>\n",
       "      <td>Constituent</td>\n",
       "      <td>6.251480</td>\n",
       "      <td>...</td>\n",
       "      <td>NaN</td>\n",
       "      <td>NaN</td>\n",
       "      <td>0.028687</td>\n",
       "      <td>29.764214</td>\n",
       "      <td>16</td>\n",
       "      <td>8300.480464</td>\n",
       "      <td>0.083005</td>\n",
       "      <td>0.020775</td>\n",
       "      <td>2077.498667</td>\n",
       "      <td>4</td>\n",
       "    </tr>\n",
       "    <tr>\n",
       "      <th>192570</th>\n",
       "      <td>2015-09-02</td>\n",
       "      <td>54.500000</td>\n",
       "      <td>55.290001</td>\n",
       "      <td>53.750000</td>\n",
       "      <td>55.259998</td>\n",
       "      <td>9876600</td>\n",
       "      <td>55.259998</td>\n",
       "      <td>SBUX</td>\n",
       "      <td>Constituent</td>\n",
       "      <td>4.012049</td>\n",
       "      <td>...</td>\n",
       "      <td>18</td>\n",
       "      <td>NaN</td>\n",
       "      <td>0.020097</td>\n",
       "      <td>2.221086</td>\n",
       "      <td>225</td>\n",
       "      <td>12433.499550</td>\n",
       "      <td>0.124335</td>\n",
       "      <td>0.031119</td>\n",
       "      <td>3111.937780</td>\n",
       "      <td>56</td>\n",
       "    </tr>\n",
       "    <tr>\n",
       "      <th>194514</th>\n",
       "      <td>2015-09-02</td>\n",
       "      <td>51.040001</td>\n",
       "      <td>51.250000</td>\n",
       "      <td>50.160000</td>\n",
       "      <td>50.970001</td>\n",
       "      <td>1634300</td>\n",
       "      <td>50.970001</td>\n",
       "      <td>SEE</td>\n",
       "      <td>Constituent</td>\n",
       "      <td>3.931237</td>\n",
       "      <td>...</td>\n",
       "      <td>19</td>\n",
       "      <td>12</td>\n",
       "      <td>0.019955</td>\n",
       "      <td>2.034171</td>\n",
       "      <td>245</td>\n",
       "      <td>12487.650245</td>\n",
       "      <td>0.124877</td>\n",
       "      <td>0.031255</td>\n",
       "      <td>3125.490971</td>\n",
       "      <td>61</td>\n",
       "    </tr>\n",
       "    <tr>\n",
       "      <th>214736</th>\n",
       "      <td>2015-09-02</td>\n",
       "      <td>44.830002</td>\n",
       "      <td>45.230000</td>\n",
       "      <td>44.470001</td>\n",
       "      <td>45.230000</td>\n",
       "      <td>717400</td>\n",
       "      <td>45.230000</td>\n",
       "      <td>TSS</td>\n",
       "      <td>Constituent</td>\n",
       "      <td>3.811761</td>\n",
       "      <td>...</td>\n",
       "      <td>8</td>\n",
       "      <td>6</td>\n",
       "      <td>0.017144</td>\n",
       "      <td>1.550833</td>\n",
       "      <td>322</td>\n",
       "      <td>14564.060000</td>\n",
       "      <td>0.145641</td>\n",
       "      <td>0.036452</td>\n",
       "      <td>3645.188417</td>\n",
       "      <td>80</td>\n",
       "    </tr>\n",
       "    <tr>\n",
       "      <th>215709</th>\n",
       "      <td>2015-09-02</td>\n",
       "      <td>185.080002</td>\n",
       "      <td>185.660004</td>\n",
       "      <td>183.440002</td>\n",
       "      <td>185.259995</td>\n",
       "      <td>1352300</td>\n",
       "      <td>185.259995</td>\n",
       "      <td>TWC</td>\n",
       "      <td>Constituent</td>\n",
       "      <td>5.221760</td>\n",
       "      <td>...</td>\n",
       "      <td>5</td>\n",
       "      <td>4</td>\n",
       "      <td>0.016352</td>\n",
       "      <td>6.058917</td>\n",
       "      <td>82</td>\n",
       "      <td>15191.319590</td>\n",
       "      <td>0.151913</td>\n",
       "      <td>0.038022</td>\n",
       "      <td>3802.183059</td>\n",
       "      <td>20</td>\n",
       "    </tr>\n",
       "    <tr>\n",
       "      <th>217653</th>\n",
       "      <td>2015-09-02</td>\n",
       "      <td>94.529999</td>\n",
       "      <td>95.639999</td>\n",
       "      <td>93.199997</td>\n",
       "      <td>95.639999</td>\n",
       "      <td>2898700</td>\n",
       "      <td>95.639999</td>\n",
       "      <td>UA</td>\n",
       "      <td>Constituent</td>\n",
       "      <td>4.560591</td>\n",
       "      <td>...</td>\n",
       "      <td>1</td>\n",
       "      <td>NaN</td>\n",
       "      <td>0.021380</td>\n",
       "      <td>4.089554</td>\n",
       "      <td>122</td>\n",
       "      <td>11668.079878</td>\n",
       "      <td>0.116681</td>\n",
       "      <td>0.029204</td>\n",
       "      <td>2920.363526</td>\n",
       "      <td>30</td>\n",
       "    </tr>\n",
       "    <tr>\n",
       "      <th>218139</th>\n",
       "      <td>2015-09-02</td>\n",
       "      <td>132.779999</td>\n",
       "      <td>136.360001</td>\n",
       "      <td>132.070007</td>\n",
       "      <td>136.339996</td>\n",
       "      <td>773900</td>\n",
       "      <td>136.339996</td>\n",
       "      <td>UHS</td>\n",
       "      <td>Constituent</td>\n",
       "      <td>4.915152</td>\n",
       "      <td>...</td>\n",
       "      <td>NaN</td>\n",
       "      <td>5</td>\n",
       "      <td>0.021941</td>\n",
       "      <td>5.982773</td>\n",
       "      <td>83</td>\n",
       "      <td>11316.219668</td>\n",
       "      <td>0.113162</td>\n",
       "      <td>0.028323</td>\n",
       "      <td>2832.297646</td>\n",
       "      <td>20</td>\n",
       "    </tr>\n",
       "  </tbody>\n",
       "</table>\n",
       "<p>30 rows × 53 columns</p>\n",
       "</div>"
      ],
      "text/plain": [
       "             Date        Open        High         Low       Close    Volume  \\\n",
       "12115  2015-09-02   72.720001   73.099998   72.239998   73.089996    359700   \n",
       "17914  2015-09-02  505.089996  510.859985  497.720001  510.549988   3689600   \n",
       "27639  2015-09-02  189.360001  191.869995  187.660004  191.860001    510300   \n",
       "36388  2015-09-02   41.299999   41.330002   40.779999   41.099998   4036800   \n",
       "39792  2015-09-02   51.430000   51.549999   50.959999   51.540001   2141700   \n",
       "40764  2015-09-02   48.660000   49.439999   48.369999   49.439999   3930300   \n",
       "47464  2015-09-02  713.690002  724.000000  710.580017  723.869995    370100   \n",
       "62382  2015-09-02   29.990000   30.680000   29.549999   30.680000   4413100   \n",
       "68215  2015-09-02   68.040001   68.959999   67.709999   68.959999   1661900   \n",
       "81799  2015-09-02  112.480003  113.389999  110.879997  113.379997    919100   \n",
       "83257  2015-09-02   88.809998   89.889999   87.629997   89.889999  26838000   \n",
       "86617  2015-09-02   83.820000   85.190002   83.320000   85.180000   1526800   \n",
       "105454 2015-09-02   45.509998   45.740002   44.930000   45.580002   3007100   \n",
       "108370 2015-09-02   60.410000   60.650002   60.009998   60.639999    885500   \n",
       "129719 2015-09-02   49.950001   51.020000   49.529999   51.009998   2040300   \n",
       "131664 2015-09-02   80.709999   81.830002   80.300003   81.809998   3232300   \n",
       "132636 2015-09-02  199.690002  204.119995  199.279999  204.039993   1489100   \n",
       "141329 2015-09-02   41.439999   42.299999   41.310001   42.270000  13727200   \n",
       "143273 2015-09-02  195.070007  197.869995  194.050003  197.869995    478400   \n",
       "158301 2015-09-02  110.150002  110.779999  109.199997  110.699997   4237700   \n",
       "166429 2015-09-02  234.399994  239.830002  234.029999  239.660004    901500   \n",
       "174584 2015-09-02   29.600000   29.680000   29.340000   29.670000   3578000   \n",
       "186252 2015-09-02   40.990002   41.299999   40.830002   41.250000   5078000   \n",
       "186738 2015-09-02  503.709991  518.989990  493.750000  518.780029    746800   \n",
       "192570 2015-09-02   54.500000   55.290001   53.750000   55.259998   9876600   \n",
       "194514 2015-09-02   51.040001   51.250000   50.160000   50.970001   1634300   \n",
       "214736 2015-09-02   44.830002   45.230000   44.470001   45.230000    717400   \n",
       "215709 2015-09-02  185.080002  185.660004  183.440002  185.259995   1352300   \n",
       "217653 2015-09-02   94.529999   95.639999   93.199997   95.639999   2898700   \n",
       "218139 2015-09-02  132.779999  136.360001  132.070007  136.339996    773900   \n",
       "\n",
       "        AdjustedClose Symbol   SymbolType  CloseLog        ...          \\\n",
       "12115       73.089996    AIZ  Constituent  4.291692        ...           \n",
       "17914      510.549988   AMZN  Constituent  6.235489        ...           \n",
       "27639      191.860001    BCR  Constituent  5.256766        ...           \n",
       "36388       41.099998    CAG  Constituent  3.716008        ...           \n",
       "39792       51.540001    CCE  Constituent  3.942358        ...           \n",
       "40764       49.439999    CCL  Constituent  3.900760        ...           \n",
       "47464      723.869995    CMG  Constituent  6.584612        ...           \n",
       "62382       30.680000    DHI  Constituent  3.423611        ...           \n",
       "68215       68.959999    DRI  Constituent  4.233527        ...           \n",
       "81799      113.379997   EXPE  Constituent  4.730745        ...           \n",
       "83257       89.889999     FB  Constituent  4.498587        ...           \n",
       "86617       85.180000   FISV  Constituent  4.444767        ...           \n",
       "105454      45.580002    HIG  Constituent  3.819469        ...           \n",
       "108370      60.639999    HRL  Constituent  4.104955        ...           \n",
       "129719      51.009998    LEN  Constituent  3.932022        ...           \n",
       "131664      81.809998    LLY  Constituent  4.404399        ...           \n",
       "132636     204.039993    LMT  Constituent  5.318316        ...           \n",
       "141329      42.270000   MDLZ  Constituent  3.744078        ...           \n",
       "143273     197.869995    MHK  Constituent  5.287610        ...           \n",
       "158301     110.699997    NKE  Constituent  4.706824        ...           \n",
       "166429     239.660004   ORLY  Constituent  5.479221        ...           \n",
       "174584      29.670000    PGR  Constituent  3.390136        ...           \n",
       "186252      41.250000    RAI  Constituent  3.719651        ...           \n",
       "186738     518.780029   REGN  Constituent  6.251480        ...           \n",
       "192570      55.259998   SBUX  Constituent  4.012049        ...           \n",
       "194514      50.970001    SEE  Constituent  3.931237        ...           \n",
       "214736      45.230000    TSS  Constituent  3.811761        ...           \n",
       "215709     185.259995    TWC  Constituent  5.221760        ...           \n",
       "217653      95.639999     UA  Constituent  4.560591        ...           \n",
       "218139     136.339996    UHS  Constituent  4.915152        ...           \n",
       "\n",
       "        DayRankPrior  DayRankPriorWeek  ATR90Perc    ATRStop  PositionUnits  \\\n",
       "12115              2                 1   0.016567   2.421796            206   \n",
       "17914              3                 2   0.021914  22.376672             22   \n",
       "27639             10                17   0.016404   6.294369             79   \n",
       "36388              6                 3   0.016575   1.362447            366   \n",
       "39792             21                28   0.018386   1.895218            263   \n",
       "40764            NaN               NaN   0.019955   1.973147            253   \n",
       "47464             11                22   0.015681  22.701995             22   \n",
       "62382              7                20   0.023056   1.414716            353   \n",
       "68215            NaN               NaN   0.019430   2.679723            186   \n",
       "81799             14                14   0.025984   5.892242             84   \n",
       "83257              9               NaN   0.024434   4.392666            113   \n",
       "86617            NaN               NaN   0.017164   2.924000            170   \n",
       "105454             4                11   0.018796   1.713429            291   \n",
       "108370            22                23   0.015561   1.887228            264   \n",
       "129719           NaN                18   0.024938   2.544217            196   \n",
       "131664            15                 9   0.021645   3.541564            141   \n",
       "132636            23                25   0.013830   5.643899             88   \n",
       "141329           NaN                 7   0.017368   1.468279            340   \n",
       "143273            20                15   0.019558   7.739999             64   \n",
       "158301            16               NaN   0.016668   3.690336            135   \n",
       "166429            17                16   0.016863   8.082888             61   \n",
       "174584            12                13   0.014324   0.850000            588   \n",
       "186252            13                19   0.017245   1.422741            351   \n",
       "186738           NaN               NaN   0.028687  29.764214             16   \n",
       "192570            18               NaN   0.020097   2.221086            225   \n",
       "194514            19                12   0.019955   2.034171            245   \n",
       "214736             8                 6   0.017144   1.550833            322   \n",
       "215709             5                 4   0.016352   6.058917             82   \n",
       "217653             1               NaN   0.021380   4.089554            122   \n",
       "218139           NaN                 5   0.021941   5.982773             83   \n",
       "\n",
       "        PositionSize  PositionWeight  PositionWeightNorm  PositionSizeNorm  \\\n",
       "12115   15056.539176        0.150565            0.037684       3768.449334   \n",
       "17914   11232.099736        0.112321            0.028112       2811.243558   \n",
       "27639   15156.940079        0.151569            0.037936       3793.578330   \n",
       "36388   15042.599268        0.150426            0.037650       3764.960362   \n",
       "39792   13555.020263        0.135550            0.033926       3392.639336   \n",
       "40764   12508.319747        0.125083            0.031307       3130.664269   \n",
       "47464   15925.139890        0.159251            0.039858       3985.848415   \n",
       "62382   10830.040000        0.108300            0.027106       2710.613411   \n",
       "68215   12826.559814        0.128266            0.032103       3210.315479   \n",
       "81799    9523.919748        0.095239            0.023837       2383.709072   \n",
       "83257   10157.569887        0.101576            0.025423       2542.303183   \n",
       "86617   14480.600000        0.144806            0.036243       3624.299501   \n",
       "105454  13263.780582        0.132638            0.033197       3319.745960   \n",
       "108370  16008.959736        0.160090            0.040068       4006.827395   \n",
       "129719   9997.959608        0.099980            0.025024       2502.354876   \n",
       "131664  11535.209718        0.115352            0.028871       2887.107911   \n",
       "132636  17955.519384        0.179555            0.044940       4494.025105   \n",
       "141329  14371.800000        0.143718            0.035971       3597.068324   \n",
       "143273  12663.679680        0.126637            0.031695       3169.548772   \n",
       "158301  14944.499595        0.149445            0.037404       3740.407333   \n",
       "166429  14619.260244        0.146193            0.036590       3659.004296   \n",
       "174584  17445.960000        0.174460            0.043665       4366.489242   \n",
       "186252  14478.750000        0.144788            0.036238       3623.836471   \n",
       "186738   8300.480464        0.083005            0.020775       2077.498667   \n",
       "192570  12433.499550        0.124335            0.031119       3111.937780   \n",
       "194514  12487.650245        0.124877            0.031255       3125.490971   \n",
       "214736  14564.060000        0.145641            0.036452       3645.188417   \n",
       "215709  15191.319590        0.151913            0.038022       3802.183059   \n",
       "217653  11668.079878        0.116681            0.029204       2920.363526   \n",
       "218139  11316.219668        0.113162            0.028323       2832.297646   \n",
       "\n",
       "        PositionUnitsNorm  \n",
       "12115                  51  \n",
       "17914                   5  \n",
       "27639                  19  \n",
       "36388                  91  \n",
       "39792                  65  \n",
       "40764                  63  \n",
       "47464                   5  \n",
       "62382                  88  \n",
       "68215                  46  \n",
       "81799                  21  \n",
       "83257                  28  \n",
       "86617                  42  \n",
       "105454                 72  \n",
       "108370                 66  \n",
       "129719                 49  \n",
       "131664                 35  \n",
       "132636                 22  \n",
       "141329                 85  \n",
       "143273                 16  \n",
       "158301                 33  \n",
       "166429                 15  \n",
       "174584                147  \n",
       "186252                 87  \n",
       "186738                  4  \n",
       "192570                 56  \n",
       "194514                 61  \n",
       "214736                 80  \n",
       "215709                 20  \n",
       "217653                 30  \n",
       "218139                 20  \n",
       "\n",
       "[30 rows x 53 columns]"
      ]
     },
     "execution_count": 210,
     "metadata": {},
     "output_type": "execute_result"
    }
   ],
   "source": [
    "portfolio"
   ]
  },
  {
   "cell_type": "code",
   "execution_count": 211,
   "metadata": {
    "collapsed": false,
    "scrolled": false
   },
   "outputs": [
    {
     "data": {
      "text/html": [
       "<div>\n",
       "<table border=\"1\" class=\"dataframe\">\n",
       "  <thead>\n",
       "    <tr style=\"text-align: right;\">\n",
       "      <th></th>\n",
       "      <th>DayRank</th>\n",
       "      <th>Symbol</th>\n",
       "      <th>SlopeAnnualizedAdj</th>\n",
       "      <th>ATR90</th>\n",
       "      <th>MinL1DReturnPercL90D</th>\n",
       "      <th>MaxL1DReturnPercL90D</th>\n",
       "      <th>PositionWeightNorm</th>\n",
       "      <th>PositionSizeNorm</th>\n",
       "    </tr>\n",
       "  </thead>\n",
       "  <tbody>\n",
       "    <tr>\n",
       "      <th>217653</th>\n",
       "      <td>1</td>\n",
       "      <td>UA</td>\n",
       "      <td>96.285666</td>\n",
       "      <td>2.044777</td>\n",
       "      <td>-0.068495</td>\n",
       "      <td>0.073403</td>\n",
       "      <td>0.029204</td>\n",
       "      <td>2920.363526</td>\n",
       "    </tr>\n",
       "    <tr>\n",
       "      <th>17914</th>\n",
       "      <td>2</td>\n",
       "      <td>AMZN</td>\n",
       "      <td>79.359032</td>\n",
       "      <td>11.188336</td>\n",
       "      <td>-0.062896</td>\n",
       "      <td>0.097972</td>\n",
       "      <td>0.028112</td>\n",
       "      <td>2811.243558</td>\n",
       "    </tr>\n",
       "    <tr>\n",
       "      <th>12115</th>\n",
       "      <td>3</td>\n",
       "      <td>AIZ</td>\n",
       "      <td>76.955773</td>\n",
       "      <td>1.210898</td>\n",
       "      <td>-0.043554</td>\n",
       "      <td>0.032070</td>\n",
       "      <td>0.037684</td>\n",
       "      <td>3768.449334</td>\n",
       "    </tr>\n",
       "    <tr>\n",
       "      <th>62382</th>\n",
       "      <td>4</td>\n",
       "      <td>DHI</td>\n",
       "      <td>56.149767</td>\n",
       "      <td>0.707358</td>\n",
       "      <td>-0.047727</td>\n",
       "      <td>0.043847</td>\n",
       "      <td>0.027106</td>\n",
       "      <td>2710.613411</td>\n",
       "    </tr>\n",
       "    <tr>\n",
       "      <th>105454</th>\n",
       "      <td>5</td>\n",
       "      <td>HIG</td>\n",
       "      <td>54.938951</td>\n",
       "      <td>0.856714</td>\n",
       "      <td>-0.048353</td>\n",
       "      <td>0.063026</td>\n",
       "      <td>0.033197</td>\n",
       "      <td>3319.745960</td>\n",
       "    </tr>\n",
       "    <tr>\n",
       "      <th>215709</th>\n",
       "      <td>6</td>\n",
       "      <td>TWC</td>\n",
       "      <td>51.546816</td>\n",
       "      <td>3.029458</td>\n",
       "      <td>-0.024075</td>\n",
       "      <td>0.072555</td>\n",
       "      <td>0.038022</td>\n",
       "      <td>3802.183059</td>\n",
       "    </tr>\n",
       "    <tr>\n",
       "      <th>47464</th>\n",
       "      <td>7</td>\n",
       "      <td>CMG</td>\n",
       "      <td>50.372301</td>\n",
       "      <td>11.350998</td>\n",
       "      <td>-0.022084</td>\n",
       "      <td>0.078372</td>\n",
       "      <td>0.039858</td>\n",
       "      <td>3985.848415</td>\n",
       "    </tr>\n",
       "    <tr>\n",
       "      <th>27639</th>\n",
       "      <td>8</td>\n",
       "      <td>BCR</td>\n",
       "      <td>50.011215</td>\n",
       "      <td>3.147184</td>\n",
       "      <td>-0.037963</td>\n",
       "      <td>0.046252</td>\n",
       "      <td>0.037936</td>\n",
       "      <td>3793.578330</td>\n",
       "    </tr>\n",
       "    <tr>\n",
       "      <th>83257</th>\n",
       "      <td>9</td>\n",
       "      <td>FB</td>\n",
       "      <td>50.005497</td>\n",
       "      <td>2.196333</td>\n",
       "      <td>-0.049837</td>\n",
       "      <td>0.050482</td>\n",
       "      <td>0.025423</td>\n",
       "      <td>2542.303183</td>\n",
       "    </tr>\n",
       "    <tr>\n",
       "      <th>36388</th>\n",
       "      <td>10</td>\n",
       "      <td>CAG</td>\n",
       "      <td>49.969624</td>\n",
       "      <td>0.681223</td>\n",
       "      <td>-0.034892</td>\n",
       "      <td>0.108640</td>\n",
       "      <td>0.037650</td>\n",
       "      <td>3764.960362</td>\n",
       "    </tr>\n",
       "    <tr>\n",
       "      <th>218139</th>\n",
       "      <td>11</td>\n",
       "      <td>UHS</td>\n",
       "      <td>48.530190</td>\n",
       "      <td>2.991386</td>\n",
       "      <td>-0.055725</td>\n",
       "      <td>0.077288</td>\n",
       "      <td>0.028323</td>\n",
       "      <td>2832.297646</td>\n",
       "    </tr>\n",
       "    <tr>\n",
       "      <th>214736</th>\n",
       "      <td>12</td>\n",
       "      <td>TSS</td>\n",
       "      <td>48.101993</td>\n",
       "      <td>0.775417</td>\n",
       "      <td>-0.050142</td>\n",
       "      <td>0.048792</td>\n",
       "      <td>0.036452</td>\n",
       "      <td>3645.188417</td>\n",
       "    </tr>\n",
       "    <tr>\n",
       "      <th>174584</th>\n",
       "      <td>13</td>\n",
       "      <td>PGR</td>\n",
       "      <td>44.607577</td>\n",
       "      <td>0.425000</td>\n",
       "      <td>-0.040721</td>\n",
       "      <td>0.036448</td>\n",
       "      <td>0.043665</td>\n",
       "      <td>4366.489242</td>\n",
       "    </tr>\n",
       "    <tr>\n",
       "      <th>186252</th>\n",
       "      <td>14</td>\n",
       "      <td>RAI</td>\n",
       "      <td>43.292041</td>\n",
       "      <td>0.711370</td>\n",
       "      <td>-0.033489</td>\n",
       "      <td>0.063265</td>\n",
       "      <td>0.036238</td>\n",
       "      <td>3623.836471</td>\n",
       "    </tr>\n",
       "    <tr>\n",
       "      <th>141329</th>\n",
       "      <td>15</td>\n",
       "      <td>MDLZ</td>\n",
       "      <td>36.428207</td>\n",
       "      <td>0.734140</td>\n",
       "      <td>-0.031870</td>\n",
       "      <td>0.051630</td>\n",
       "      <td>0.035971</td>\n",
       "      <td>3597.068324</td>\n",
       "    </tr>\n",
       "    <tr>\n",
       "      <th>81799</th>\n",
       "      <td>16</td>\n",
       "      <td>EXPE</td>\n",
       "      <td>35.686159</td>\n",
       "      <td>2.946121</td>\n",
       "      <td>-0.053882</td>\n",
       "      <td>0.128520</td>\n",
       "      <td>0.023837</td>\n",
       "      <td>2383.709072</td>\n",
       "    </tr>\n",
       "    <tr>\n",
       "      <th>131664</th>\n",
       "      <td>17</td>\n",
       "      <td>LLY</td>\n",
       "      <td>33.705346</td>\n",
       "      <td>1.770782</td>\n",
       "      <td>-0.044954</td>\n",
       "      <td>0.054126</td>\n",
       "      <td>0.028871</td>\n",
       "      <td>2887.107911</td>\n",
       "    </tr>\n",
       "    <tr>\n",
       "      <th>166429</th>\n",
       "      <td>18</td>\n",
       "      <td>ORLY</td>\n",
       "      <td>33.512879</td>\n",
       "      <td>4.041444</td>\n",
       "      <td>-0.052324</td>\n",
       "      <td>0.035070</td>\n",
       "      <td>0.036590</td>\n",
       "      <td>3659.004296</td>\n",
       "    </tr>\n",
       "    <tr>\n",
       "      <th>158301</th>\n",
       "      <td>19</td>\n",
       "      <td>NKE</td>\n",
       "      <td>32.996219</td>\n",
       "      <td>1.845168</td>\n",
       "      <td>-0.048353</td>\n",
       "      <td>0.050517</td>\n",
       "      <td>0.037404</td>\n",
       "      <td>3740.407333</td>\n",
       "    </tr>\n",
       "    <tr>\n",
       "      <th>39792</th>\n",
       "      <td>20</td>\n",
       "      <td>CCE</td>\n",
       "      <td>32.368000</td>\n",
       "      <td>0.947609</td>\n",
       "      <td>-0.043657</td>\n",
       "      <td>0.124120</td>\n",
       "      <td>0.033926</td>\n",
       "      <td>3392.639336</td>\n",
       "    </tr>\n",
       "    <tr>\n",
       "      <th>192570</th>\n",
       "      <td>21</td>\n",
       "      <td>SBUX</td>\n",
       "      <td>32.092548</td>\n",
       "      <td>1.110543</td>\n",
       "      <td>-0.053216</td>\n",
       "      <td>0.056175</td>\n",
       "      <td>0.031119</td>\n",
       "      <td>3111.937780</td>\n",
       "    </tr>\n",
       "    <tr>\n",
       "      <th>186738</th>\n",
       "      <td>22</td>\n",
       "      <td>REGN</td>\n",
       "      <td>31.119316</td>\n",
       "      <td>14.882107</td>\n",
       "      <td>-0.043227</td>\n",
       "      <td>0.073043</td>\n",
       "      <td>0.020775</td>\n",
       "      <td>2077.498667</td>\n",
       "    </tr>\n",
       "    <tr>\n",
       "      <th>68215</th>\n",
       "      <td>23</td>\n",
       "      <td>DRI</td>\n",
       "      <td>30.983916</td>\n",
       "      <td>1.339861</td>\n",
       "      <td>-0.054866</td>\n",
       "      <td>0.029841</td>\n",
       "      <td>0.032103</td>\n",
       "      <td>3210.315479</td>\n",
       "    </tr>\n",
       "    <tr>\n",
       "      <th>40764</th>\n",
       "      <td>24</td>\n",
       "      <td>CCL</td>\n",
       "      <td>30.582348</td>\n",
       "      <td>0.986573</td>\n",
       "      <td>-0.045315</td>\n",
       "      <td>0.037770</td>\n",
       "      <td>0.031307</td>\n",
       "      <td>3130.664269</td>\n",
       "    </tr>\n",
       "    <tr>\n",
       "      <th>143273</th>\n",
       "      <td>25</td>\n",
       "      <td>MHK</td>\n",
       "      <td>29.453367</td>\n",
       "      <td>3.870000</td>\n",
       "      <td>-0.049206</td>\n",
       "      <td>0.031421</td>\n",
       "      <td>0.031695</td>\n",
       "      <td>3169.548772</td>\n",
       "    </tr>\n",
       "    <tr>\n",
       "      <th>129719</th>\n",
       "      <td>26</td>\n",
       "      <td>LEN</td>\n",
       "      <td>28.877129</td>\n",
       "      <td>1.272109</td>\n",
       "      <td>-0.063050</td>\n",
       "      <td>0.042041</td>\n",
       "      <td>0.025024</td>\n",
       "      <td>2502.354876</td>\n",
       "    </tr>\n",
       "    <tr>\n",
       "      <th>194514</th>\n",
       "      <td>27</td>\n",
       "      <td>SEE</td>\n",
       "      <td>28.155942</td>\n",
       "      <td>1.017085</td>\n",
       "      <td>-0.026069</td>\n",
       "      <td>0.047036</td>\n",
       "      <td>0.031255</td>\n",
       "      <td>3125.490971</td>\n",
       "    </tr>\n",
       "    <tr>\n",
       "      <th>132636</th>\n",
       "      <td>28</td>\n",
       "      <td>LMT</td>\n",
       "      <td>27.585245</td>\n",
       "      <td>2.821949</td>\n",
       "      <td>-0.035275</td>\n",
       "      <td>0.032487</td>\n",
       "      <td>0.044940</td>\n",
       "      <td>4494.025105</td>\n",
       "    </tr>\n",
       "    <tr>\n",
       "      <th>108370</th>\n",
       "      <td>29</td>\n",
       "      <td>HRL</td>\n",
       "      <td>27.005905</td>\n",
       "      <td>0.943614</td>\n",
       "      <td>-0.034754</td>\n",
       "      <td>0.042122</td>\n",
       "      <td>0.040068</td>\n",
       "      <td>4006.827395</td>\n",
       "    </tr>\n",
       "    <tr>\n",
       "      <th>86617</th>\n",
       "      <td>30</td>\n",
       "      <td>FISV</td>\n",
       "      <td>25.467262</td>\n",
       "      <td>1.462000</td>\n",
       "      <td>-0.040768</td>\n",
       "      <td>0.056950</td>\n",
       "      <td>0.036243</td>\n",
       "      <td>3624.299501</td>\n",
       "    </tr>\n",
       "  </tbody>\n",
       "</table>\n",
       "</div>"
      ],
      "text/plain": [
       "        DayRank Symbol  SlopeAnnualizedAdj      ATR90  MinL1DReturnPercL90D  \\\n",
       "217653        1     UA           96.285666   2.044777             -0.068495   \n",
       "17914         2   AMZN           79.359032  11.188336             -0.062896   \n",
       "12115         3    AIZ           76.955773   1.210898             -0.043554   \n",
       "62382         4    DHI           56.149767   0.707358             -0.047727   \n",
       "105454        5    HIG           54.938951   0.856714             -0.048353   \n",
       "215709        6    TWC           51.546816   3.029458             -0.024075   \n",
       "47464         7    CMG           50.372301  11.350998             -0.022084   \n",
       "27639         8    BCR           50.011215   3.147184             -0.037963   \n",
       "83257         9     FB           50.005497   2.196333             -0.049837   \n",
       "36388        10    CAG           49.969624   0.681223             -0.034892   \n",
       "218139       11    UHS           48.530190   2.991386             -0.055725   \n",
       "214736       12    TSS           48.101993   0.775417             -0.050142   \n",
       "174584       13    PGR           44.607577   0.425000             -0.040721   \n",
       "186252       14    RAI           43.292041   0.711370             -0.033489   \n",
       "141329       15   MDLZ           36.428207   0.734140             -0.031870   \n",
       "81799        16   EXPE           35.686159   2.946121             -0.053882   \n",
       "131664       17    LLY           33.705346   1.770782             -0.044954   \n",
       "166429       18   ORLY           33.512879   4.041444             -0.052324   \n",
       "158301       19    NKE           32.996219   1.845168             -0.048353   \n",
       "39792        20    CCE           32.368000   0.947609             -0.043657   \n",
       "192570       21   SBUX           32.092548   1.110543             -0.053216   \n",
       "186738       22   REGN           31.119316  14.882107             -0.043227   \n",
       "68215        23    DRI           30.983916   1.339861             -0.054866   \n",
       "40764        24    CCL           30.582348   0.986573             -0.045315   \n",
       "143273       25    MHK           29.453367   3.870000             -0.049206   \n",
       "129719       26    LEN           28.877129   1.272109             -0.063050   \n",
       "194514       27    SEE           28.155942   1.017085             -0.026069   \n",
       "132636       28    LMT           27.585245   2.821949             -0.035275   \n",
       "108370       29    HRL           27.005905   0.943614             -0.034754   \n",
       "86617        30   FISV           25.467262   1.462000             -0.040768   \n",
       "\n",
       "        MaxL1DReturnPercL90D  PositionWeightNorm  PositionSizeNorm  \n",
       "217653              0.073403            0.029204       2920.363526  \n",
       "17914               0.097972            0.028112       2811.243558  \n",
       "12115               0.032070            0.037684       3768.449334  \n",
       "62382               0.043847            0.027106       2710.613411  \n",
       "105454              0.063026            0.033197       3319.745960  \n",
       "215709              0.072555            0.038022       3802.183059  \n",
       "47464               0.078372            0.039858       3985.848415  \n",
       "27639               0.046252            0.037936       3793.578330  \n",
       "83257               0.050482            0.025423       2542.303183  \n",
       "36388               0.108640            0.037650       3764.960362  \n",
       "218139              0.077288            0.028323       2832.297646  \n",
       "214736              0.048792            0.036452       3645.188417  \n",
       "174584              0.036448            0.043665       4366.489242  \n",
       "186252              0.063265            0.036238       3623.836471  \n",
       "141329              0.051630            0.035971       3597.068324  \n",
       "81799               0.128520            0.023837       2383.709072  \n",
       "131664              0.054126            0.028871       2887.107911  \n",
       "166429              0.035070            0.036590       3659.004296  \n",
       "158301              0.050517            0.037404       3740.407333  \n",
       "39792               0.124120            0.033926       3392.639336  \n",
       "192570              0.056175            0.031119       3111.937780  \n",
       "186738              0.073043            0.020775       2077.498667  \n",
       "68215               0.029841            0.032103       3210.315479  \n",
       "40764               0.037770            0.031307       3130.664269  \n",
       "143273              0.031421            0.031695       3169.548772  \n",
       "129719              0.042041            0.025024       2502.354876  \n",
       "194514              0.047036            0.031255       3125.490971  \n",
       "132636              0.032487            0.044940       4494.025105  \n",
       "108370              0.042122            0.040068       4006.827395  \n",
       "86617               0.056950            0.036243       3624.299501  "
      ]
     },
     "execution_count": 211,
     "metadata": {},
     "output_type": "execute_result"
    }
   ],
   "source": [
    "cols = [\"DayRank\", \"Symbol\", \"SlopeAnnualizedAdj\", \"ATR90\", \"MinL1DReturnPercL90D\", \"MaxL1DReturnPercL90D\", \"PositionWeightNorm\", \"PositionSizeNorm\"]\n",
    "# portfolio[\"FinVizLink\"] = \"<img src='http://finviz.com/chart.ashx?t={0}&ty=c&p=d&s=m&ta=0' />\".format(portfolio.Symbol)\n",
    "portfolio[cols].sort(\"DayRank\")\n",
    "# portfolio[cols].to_csv('portfolio.csv')\n"
   ]
  },
  {
   "cell_type": "markdown",
   "metadata": {},
   "source": [
    "##FinViz Link"
   ]
  },
  {
   "cell_type": "code",
   "execution_count": 212,
   "metadata": {
    "collapsed": false
   },
   "outputs": [
    {
     "name": "stdout",
     "output_type": "stream",
     "text": [
      "http://finviz.com/screener.ashx?v=211&t=AIZ,AMZN,BCR,CAG,CCE,CCL,CMG,DHI,DRI,EXPE,FB,FISV,HIG,HRL,LEN,LLY,LMT,MDLZ,MHK,NKE,ORLY,PGR,RAI,REGN,SBUX,SEE,TSS,TWC,UA,UHS&ta=0\n"
     ]
    }
   ],
   "source": [
    "stocks = portfolio.Symbol.tolist()\n",
    "print \"http://finviz.com/screener.ashx?v=211&t={0}&ta=0\".format(\",\".join(stocks))"
   ]
  },
  {
   "cell_type": "code",
   "execution_count": 213,
   "metadata": {
    "collapsed": false
   },
   "outputs": [],
   "source": [
    "import statsmodels.api as sm"
   ]
  },
  {
   "cell_type": "code",
   "execution_count": 197,
   "metadata": {
    "collapsed": false
   },
   "outputs": [],
   "source": [
    "# df = price_data[price_data['Symbol'] == \"AAPL\"]"
   ]
  },
  {
   "cell_type": "code",
   "execution_count": 198,
   "metadata": {
    "collapsed": false,
    "scrolled": false
   },
   "outputs": [
    {
     "data": {
      "text/plain": [
       "<function __main__.draw_plot>"
      ]
     },
     "execution_count": 198,
     "metadata": {},
     "output_type": "execute_result"
    }
   ],
   "source": [
    "# ticker_text_input = widgets.DropdownWidget()\n",
    "# ticker_text_input.values  = {s: s for s in price_data.Symbol }\n",
    "# ticker_text_input.value = 'CCE'\n",
    "# ticker_text_input.description = 'Select a Ticker'\n",
    "\n",
    "def draw_plot(Ticker):\n",
    "    \n",
    "    lamb = 129600\n",
    "    lamb_sh = 100\n",
    "    if Ticker:\n",
    "        df = price_data[price_data['Symbol'] == Ticker]\n",
    "        \n",
    "        if not df.empty:\n",
    "        \n",
    "            snp_cycle, snp_trend = sm.tsa.filters.hpfilter(df.AdjustedClose, lamb=lamb)\n",
    "            snp_cycle_sh, snp_trend_sh = sm.tsa.filters.hpfilter(df.AdjustedClose, lamb=lamb_sh)\n",
    "\n",
    "            plt.figure(figsize=(12,9))\n",
    "            plt.plot_date(df.Date, df.AdjustedClose, '-', label=\"Close\")\n",
    "            plt.plot_date(df.Date, snp_cycle, '-', label=\"Cycle\")\n",
    "            plt.plot_date(df.Date, snp_trend, '-', label=\"Trend\")\n",
    "            # plt.plot_date(df.Date, snp_trend_sh, '-', label=\"Trend\")\n",
    "            plt.plot_date(df.Date, df.MA100, '--', label=\"MA\")\n",
    "            plt.plot_date(df.Date, df.MA200, '--', label=\"MA\")\n",
    "\n",
    "symbols = [s for s in price_data.Symbol.unique()]\n",
    "interact(draw_plot, Ticker=\"\")"
   ]
  },
  {
   "cell_type": "code",
   "execution_count": 199,
   "metadata": {
    "collapsed": false
   },
   "outputs": [
    {
     "name": "stdout",
     "output_type": "stream",
     "text": [
      "-1.0\n",
      "10827.7308924\n",
      "241095    0.114062\n",
      "241096    0.114062\n",
      "241097    0.114062\n",
      "241098    0.114062\n",
      "241099    0.114062\n",
      "Name: MaxL1DReturnPercL90D, dtype: float64\n"
     ]
    },
    {
     "data": {
      "text/plain": [
       "[<matplotlib.lines.Line2D at 0x10fea57d0>]"
      ]
     },
     "execution_count": 199,
     "metadata": {},
     "output_type": "execute_result"
    },
    {
     "data": {
      "image/png": "[encoded data removed]",
      "text/plain": [
       "<matplotlib.figure.Figure at 0x110709590>"
      ]
     },
     "metadata": {},
     "output_type": "display_data"
    }
   ],
   "source": [
    "print price_data.L1DReturnPerc.min()\n",
    "print price_data.L1DReturnPerc.max()\n",
    "print price_data.MaxL1DReturnPercL90D.tail()\n",
    "\n",
    "plt.figure(figsize=(12,9))\n",
    "plt.plot_date(price_data.Date, price_data.L1DReturnPerc, '-', label=\"%\")"
   ]
  },
  {
   "cell_type": "code",
   "execution_count": null,
   "metadata": {
    "collapsed": true
   },
   "outputs": [],
   "source": []
  }
 ],
 "metadata": {
  "kernelspec": {
   "display_name": "Python 2",
   "language": "python",
   "name": "python2"
  },
  "language_info": {
   "codemirror_mode": {
    "name": "ipython",
    "version": 2
   },
   "file_extension": ".py",
   "mimetype": "text/x-python",
   "name": "python",
   "nbconvert_exporter": "python",
   "pygments_lexer": "ipython2",
   "version": "2.7.10"
  }
 },
 "nbformat": 4,
 "nbformat_minor": 0
}
