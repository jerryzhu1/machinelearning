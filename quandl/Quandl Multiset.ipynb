{
 "cells": [
  {
   "cell_type": "code",
   "execution_count": 2,
   "metadata": {
    "collapsed": false
   },
   "outputs": [],
   "source": [
    "import Quandl as q\n",
    "import pandas as pd"
   ]
  },
  {
   "cell_type": "code",
   "execution_count": 3,
   "metadata": {
    "collapsed": true
   },
   "outputs": [],
   "source": [
    "database = \"CHRIS\"\n",
    "symbols = ['CME_YM{0}.6','CME_NQ{0}.6','CME_ES{0}.6', 'CME_US{0}.6', 'CME_GC{0}.6','ICE_KC{0}.4']\n",
    "column = ''\n",
    "month = '1'\n",
    "authtoken=\"xkXtzxzRcDyizWAV9r3_\""
   ]
  },
  {
   "cell_type": "code",
   "execution_count": 4,
   "metadata": {
    "collapsed": false
   },
   "outputs": [
    {
     "name": "stdout",
     "output_type": "stream",
     "text": [
      "['CME_YM{0}.6', 'CME_NQ{0}.6', 'CME_ES{0}.6', 'CME_US{0}.6', 'CME_GC{0}.6', 'ICE_KC{0}.4']\n"
     ]
    }
   ],
   "source": [
    "print symbols\n",
    "\n",
    "def get_month(symbol):\n",
    "    return symbol.format('1')\n",
    "\n",
    "def get_search_string(symbol):\n",
    "    return \"{0}/{1}\".format(database, get_month(symbol))"
   ]
  },
  {
   "cell_type": "code",
   "execution_count": 5,
   "metadata": {
    "collapsed": false
   },
   "outputs": [
    {
     "name": "stdout",
     "output_type": "stream",
     "text": [
      "Index([u'CHRIS.CME_YM1 - Settle', u'CHRIS.CME_NQ1 - Settle', u'CHRIS.CME_ES1 - Settle', u'CHRIS.CME_US1 - Settle', u'CHRIS.CME_GC1 - Settle', u'CHRIS.ICE_KC1 - Settle'], dtype='object')\n"
     ]
    }
   ],
   "source": [
    "multi_search = map(get_search_string, symbols)\n",
    "# print multi_search\n",
    "\n",
    "data = q.get(multi_search, authtoken=authtoken, sort_order='desc', rows=400)\n",
    "data_asc = data.sort(ascending=True)\n",
    "print data_asc.columns\n",
    "\n",
    "# data_asc['CHRIS.CME_ES1 200MA'] = pd.rolling_mean(data_asc[u'CHRIS.CME_ES1 - Settle'], 200)\n",
    "# data_asc['CHRIS.CME_ES1 200MA']"
   ]
  },
  {
   "cell_type": "code",
   "execution_count": 6,
   "metadata": {
    "collapsed": false
   },
   "outputs": [],
   "source": [
    "last = data_asc.sort(ascending=False)[:3].T"
   ]
  },
  {
   "cell_type": "code",
   "execution_count": 7,
   "metadata": {
    "collapsed": false
   },
   "outputs": [
    {
     "data": {
      "text/html": [
       "<div style=\"max-height:1000px;max-width:1500px;overflow:auto;\">\n",
       "<table border=\"1\" class=\"dataframe\">\n",
       "  <thead>\n",
       "    <tr style=\"text-align: right;\">\n",
       "      <th>Date</th>\n",
       "      <th>2015-03-13 00:00:00</th>\n",
       "      <th>2015-03-12 00:00:00</th>\n",
       "      <th>2015-03-11 00:00:00</th>\n",
       "    </tr>\n",
       "  </thead>\n",
       "  <tbody>\n",
       "    <tr>\n",
       "      <th>CHRIS.CME_YM1 - Settle</th>\n",
       "      <td> 17729.0000</td>\n",
       "      <td> 17866.0000</td>\n",
       "      <td> 17638.00000</td>\n",
       "    </tr>\n",
       "    <tr>\n",
       "      <th>CHRIS.CME_NQ1 - Settle</th>\n",
       "      <td>  4308.7500</td>\n",
       "      <td>  4330.7500</td>\n",
       "      <td>  4307.50000</td>\n",
       "    </tr>\n",
       "    <tr>\n",
       "      <th>CHRIS.CME_ES1 - Settle</th>\n",
       "      <td>  2049.7500</td>\n",
       "      <td>  2064.0000</td>\n",
       "      <td>  2039.50000</td>\n",
       "    </tr>\n",
       "    <tr>\n",
       "      <th>CHRIS.CME_US1 - Settle</th>\n",
       "      <td>   145.6875</td>\n",
       "      <td>   145.6875</td>\n",
       "      <td>   145.71875</td>\n",
       "    </tr>\n",
       "    <tr>\n",
       "      <th>CHRIS.CME_GC1 - Settle</th>\n",
       "      <td>  1152.6000</td>\n",
       "      <td>  1152.1000</td>\n",
       "      <td>  1150.70000</td>\n",
       "    </tr>\n",
       "    <tr>\n",
       "      <th>CHRIS.ICE_KC1 - Settle</th>\n",
       "      <td>   126.4500</td>\n",
       "      <td>   128.8500</td>\n",
       "      <td>   128.40000</td>\n",
       "    </tr>\n",
       "  </tbody>\n",
       "</table>\n",
       "</div>"
      ],
      "text/plain": [
       "Date                    2015-03-13  2015-03-12   2015-03-11\n",
       "CHRIS.CME_YM1 - Settle  17729.0000  17866.0000  17638.00000\n",
       "CHRIS.CME_NQ1 - Settle   4308.7500   4330.7500   4307.50000\n",
       "CHRIS.CME_ES1 - Settle   2049.7500   2064.0000   2039.50000\n",
       "CHRIS.CME_US1 - Settle    145.6875    145.6875    145.71875\n",
       "CHRIS.CME_GC1 - Settle   1152.6000   1152.1000   1150.70000\n",
       "CHRIS.ICE_KC1 - Settle    126.4500    128.8500    128.40000"
      ]
     },
     "execution_count": 7,
     "metadata": {},
     "output_type": "execute_result"
    }
   ],
   "source": [
    "last"
   ]
  },
  {
   "cell_type": "code",
   "execution_count": null,
   "metadata": {
    "collapsed": true
   },
   "outputs": [],
   "source": []
  }
 ],
 "metadata": {
  "kernelspec": {
   "display_name": "Python 2",
   "language": "python",
   "name": "python2"
  },
  "language_info": {
   "codemirror_mode": {
    "name": "ipython",
    "version": 2
   },
   "file_extension": ".py",
   "mimetype": "text/x-python",
   "name": "python",
   "nbconvert_exporter": "python",
   "pygments_lexer": "ipython2",
   "version": "2.7.9"
  }
 },
 "nbformat": 4,
 "nbformat_minor": 0
}
