{
 "cells": [
  {
   "cell_type": "code",
   "execution_count": 1,
   "metadata": {
    "collapsed": false
   },
   "outputs": [
    {
     "name": "stdout",
     "output_type": "stream",
     "text": [
      "560\n",
      "2013-09-04\n"
     ]
    }
   ],
   "source": [
    "from g2json import get_gdoc\n",
    "import Quandl as q\n",
    "import pandas as pd\n",
    "from datetime import date \n",
    "from datetime import timedelta\n",
    "\n",
    "days = 400/5*7\n",
    "print days\n",
    "d = date.today() - timedelta(days=days)\n",
    "start_date = d.strftime('%Y-%m-%d')\n",
    "print start_date"
   ]
  },
  {
   "cell_type": "code",
   "execution_count": 2,
   "metadata": {
    "collapsed": true
   },
   "outputs": [],
   "source": [
    "symbols =  pd.read_json(get_gdoc(\"1Vbgw4yw1crruuH05aDSHXBvD_Bb_Tq47Fs04MNJVDk4\",\"Symbols\",return_json=True))"
   ]
  },
  {
   "cell_type": "code",
   "execution_count": 3,
   "metadata": {
    "collapsed": false
   },
   "outputs": [
    {
     "data": {
      "text/plain": [
       "Index([u'__rowid__', u'code', u'contractmonths', u'contractname', u'database', u'exchange', u'market', u'source', u'symbol'], dtype='object')"
      ]
     },
     "execution_count": 3,
     "metadata": {},
     "output_type": "execute_result"
    }
   ],
   "source": [
    "symbols.columns"
   ]
  },
  {
   "cell_type": "code",
   "execution_count": 4,
   "metadata": {
    "collapsed": false
   },
   "outputs": [
    {
     "name": "stdout",
     "output_type": "stream",
     "text": [
      "initializing Cocoa Futures CC, 388 rows (388)\n",
      "appending Coffee C Futures KC, 384 rows (772)\n",
      "appending Corn Futures C, 386 rows (1158)\n",
      "appending Cotton No. 2 Futures CT, 388 rows (1546)\n",
      "appending Feeder Cattle Futures FC, 382 rows (1928)\n",
      "appending Lean Hog Futures LN, 384 rows (2312)\n",
      "appending Live Cattle Futures LC, 386 rows (2698)\n",
      "appending Oats Futures O, 382 rows (3080)\n",
      "appending Orange Juice Futures OJ, 388 rows (3468)\n",
      "appending Random Length Lumber Futures LB, 380 rows (3848)\n",
      "appending Soybean Futures S, 386 rows (4234)\n",
      "appending Soybean Meal Futures SM, 386 rows (4620)\n",
      "appending Soybean Oil Futures BO, 386 rows (5006)\n",
      "appending Sugar No. 11 Futures SB, 387 rows (5393)\n",
      "appending Wheat Futures W, 386 rows (5779)\n",
      "appending Australian Dollar Futures AD, 386 rows (6165)\n",
      "appending British Pound Futures BP, 386 rows (6551)\n",
      "appending Canadian Dollar Futures CD, 385 rows (6936)\n",
      "appending Euro FX Futures EC, 386 rows (7322)\n",
      "appending Japanese Yen Futures JY, 385 rows (7707)\n",
      "appending Mexican Peso Futures MP, 384 rows (8091)\n",
      "appending New Zealand Dollar Futures NE, 386 rows (8477)\n",
      "appending Swiss Franc Futures SF, 386 rows (8863)\n",
      "appending US Dollar Index Futures DX, 394 rows (9257)\n",
      "appending Brent Crude Oil Futures BB, 268 rows (9525)\n",
      "appending Crude Oil Futures CL, 386 rows (9911)\n",
      "appending E-mini Natural Gas Futures QG, 266 rows (10177)\n",
      "appending Heating Oil Futures O, 394 rows (10571)\n",
      "appending RBOB Gasoline Physical Futures RB, 386 rows (10957)\n",
      "appending E-mini Dow ($5) Futures YM, 384 rows (11341)\n",
      "appending E-mini NASDAQ 100 Futures NQ, 385 rows (11726)\n",
      "appending E-mini S&P 500 Futures ES, 386 rows (12112)\n",
      "appending Nikkei/USD Futures NK, 386 rows (12498)\n",
      "appending Russell 2000 Index Mini Futures TF, 394 rows (12892)\n",
      "appending Copper Futures HG, 382 rows (13274)\n",
      "appending Gold Futures GC, 385 rows (13659)\n",
      "appending Palladium Futures PA, 386 rows (14045)\n",
      "appending Platinum Futures PL, 386 rows (14431)\n",
      "appending Silver Futures SI, 386 rows (14817)\n",
      "appending 10 Yr Note Futures TY, 386 rows (15203)\n",
      "appending 2 Yr Note Futures TU, 386 rows (15589)\n",
      "appending 5 Yr Note Futures FV, 386 rows (15975)\n",
      "appending U.S. Treasury Bond Futures US, 385 rows (16360)\n"
     ]
    }
   ],
   "source": [
    "data = None\n",
    "for i, row in symbols.iterrows():\n",
    "    month = \"1\"\n",
    "    search = \"{0}/{1}_{2}{3}\".format(row.database, row.source, row.symbol, month)\n",
    "#     print search\n",
    "    frequency = \"daily\"\n",
    "    \n",
    "    df = q.get(search, authtoken=\"xkXtzxzRcDyizWAV9r3_\", \n",
    "               collapse=frequency,\n",
    "               sort_order=\"asc\", \n",
    "               trim_start=start_date)\n",
    "    \n",
    "    df['Symbol'] = row.symbol\n",
    "    \n",
    "    if (data is not None):        \n",
    "        data = data.append(df, ignore_index=False)\n",
    "        print 'appending {0} {1}, {2} rows ({3})'.format(row.contractname, df.Symbol[0], len(df.index), len(data.index))\n",
    "    else:\n",
    "        # first time around?\n",
    "        data = df\n",
    "        print 'initializing {0} {1}, {2} rows ({3})'.format(row.contractname, df.Symbol[0], len(df.index), len(data.index))\n",
    "        \n",
    "#     print df.columns"
   ]
  },
  {
   "cell_type": "code",
   "execution_count": 12,
   "metadata": {
    "collapsed": false
   },
   "outputs": [
    {
     "data": {
      "text/plain": [
       "16360"
      ]
     },
     "execution_count": 12,
     "metadata": {},
     "output_type": "execute_result"
    }
   ],
   "source": [
    "len(data.index)"
   ]
  },
  {
   "cell_type": "code",
   "execution_count": 38,
   "metadata": {
    "collapsed": false
   },
   "outputs": [
    {
     "data": {
      "text/html": [
       "<div style=\"max-height:1000px;max-width:1500px;overflow:auto;\">\n",
       "<table border=\"1\" class=\"dataframe\">\n",
       "  <thead>\n",
       "    <tr style=\"text-align: right;\">\n",
       "      <th></th>\n",
       "      <th>Settle</th>\n",
       "    </tr>\n",
       "    <tr>\n",
       "      <th>Date</th>\n",
       "      <th></th>\n",
       "    </tr>\n",
       "  </thead>\n",
       "  <tbody>\n",
       "    <tr>\n",
       "      <th>2013-09-04</th>\n",
       "      <td> 494.00</td>\n",
       "    </tr>\n",
       "    <tr>\n",
       "      <th>2013-09-05</th>\n",
       "      <td> 489.50</td>\n",
       "    </tr>\n",
       "    <tr>\n",
       "      <th>2013-09-06</th>\n",
       "      <td> 491.50</td>\n",
       "    </tr>\n",
       "    <tr>\n",
       "      <th>2013-09-09</th>\n",
       "      <td> 477.25</td>\n",
       "    </tr>\n",
       "    <tr>\n",
       "      <th>2013-09-10</th>\n",
       "      <td> 474.75</td>\n",
       "    </tr>\n",
       "    <tr>\n",
       "      <th>2013-09-11</th>\n",
       "      <td> 479.75</td>\n",
       "    </tr>\n",
       "    <tr>\n",
       "      <th>2013-09-12</th>\n",
       "      <td> 479.00</td>\n",
       "    </tr>\n",
       "    <tr>\n",
       "      <th>2013-09-13</th>\n",
       "      <td> 450.00</td>\n",
       "    </tr>\n",
       "    <tr>\n",
       "      <th>2013-09-16</th>\n",
       "      <td> 456.50</td>\n",
       "    </tr>\n",
       "    <tr>\n",
       "      <th>2013-09-17</th>\n",
       "      <td> 454.00</td>\n",
       "    </tr>\n",
       "    <tr>\n",
       "      <th>2013-09-18</th>\n",
       "      <td> 456.25</td>\n",
       "    </tr>\n",
       "    <tr>\n",
       "      <th>2013-09-19</th>\n",
       "      <td> 459.50</td>\n",
       "    </tr>\n",
       "    <tr>\n",
       "      <th>2013-09-20</th>\n",
       "      <td> 451.00</td>\n",
       "    </tr>\n",
       "    <tr>\n",
       "      <th>2013-09-23</th>\n",
       "      <td> 453.25</td>\n",
       "    </tr>\n",
       "    <tr>\n",
       "      <th>2013-09-24</th>\n",
       "      <td> 448.75</td>\n",
       "    </tr>\n",
       "    <tr>\n",
       "      <th>2013-09-25</th>\n",
       "      <td> 454.75</td>\n",
       "    </tr>\n",
       "    <tr>\n",
       "      <th>2013-09-26</th>\n",
       "      <td> 456.75</td>\n",
       "    </tr>\n",
       "    <tr>\n",
       "      <th>2013-09-27</th>\n",
       "      <td> 454.00</td>\n",
       "    </tr>\n",
       "    <tr>\n",
       "      <th>2013-09-30</th>\n",
       "      <td> 441.50</td>\n",
       "    </tr>\n",
       "    <tr>\n",
       "      <th>2013-10-01</th>\n",
       "      <td> 439.00</td>\n",
       "    </tr>\n",
       "    <tr>\n",
       "      <th>2013-10-02</th>\n",
       "      <td> 439.00</td>\n",
       "    </tr>\n",
       "    <tr>\n",
       "      <th>2013-10-03</th>\n",
       "      <td> 439.25</td>\n",
       "    </tr>\n",
       "    <tr>\n",
       "      <th>2013-10-04</th>\n",
       "      <td> 443.25</td>\n",
       "    </tr>\n",
       "    <tr>\n",
       "      <th>2013-10-07</th>\n",
       "      <td> 449.25</td>\n",
       "    </tr>\n",
       "    <tr>\n",
       "      <th>2013-10-08</th>\n",
       "      <td> 441.75</td>\n",
       "    </tr>\n",
       "    <tr>\n",
       "      <th>2013-10-09</th>\n",
       "      <td> 443.50</td>\n",
       "    </tr>\n",
       "    <tr>\n",
       "      <th>2013-10-10</th>\n",
       "      <td> 438.25</td>\n",
       "    </tr>\n",
       "    <tr>\n",
       "      <th>2013-10-11</th>\n",
       "      <td> 433.25</td>\n",
       "    </tr>\n",
       "    <tr>\n",
       "      <th>2013-10-14</th>\n",
       "      <td> 437.00</td>\n",
       "    </tr>\n",
       "    <tr>\n",
       "      <th>2013-10-15</th>\n",
       "      <td> 443.50</td>\n",
       "    </tr>\n",
       "    <tr>\n",
       "      <th>...</th>\n",
       "      <td>...</td>\n",
       "    </tr>\n",
       "    <tr>\n",
       "      <th>2015-02-03</th>\n",
       "      <td> 385.50</td>\n",
       "    </tr>\n",
       "    <tr>\n",
       "      <th>2015-02-04</th>\n",
       "      <td> 383.00</td>\n",
       "    </tr>\n",
       "    <tr>\n",
       "      <th>2015-02-05</th>\n",
       "      <td> 385.50</td>\n",
       "    </tr>\n",
       "    <tr>\n",
       "      <th>2015-02-06</th>\n",
       "      <td> 385.50</td>\n",
       "    </tr>\n",
       "    <tr>\n",
       "      <th>2015-02-09</th>\n",
       "      <td> 391.50</td>\n",
       "    </tr>\n",
       "    <tr>\n",
       "      <th>2015-02-10</th>\n",
       "      <td> 388.00</td>\n",
       "    </tr>\n",
       "    <tr>\n",
       "      <th>2015-02-11</th>\n",
       "      <td> 385.50</td>\n",
       "    </tr>\n",
       "    <tr>\n",
       "      <th>2015-02-12</th>\n",
       "      <td> 383.00</td>\n",
       "    </tr>\n",
       "    <tr>\n",
       "      <th>2015-02-13</th>\n",
       "      <td> 387.50</td>\n",
       "    </tr>\n",
       "    <tr>\n",
       "      <th>2015-02-17</th>\n",
       "      <td> 389.00</td>\n",
       "    </tr>\n",
       "    <tr>\n",
       "      <th>2015-02-18</th>\n",
       "      <td> 383.50</td>\n",
       "    </tr>\n",
       "    <tr>\n",
       "      <th>2015-02-19</th>\n",
       "      <td> 389.50</td>\n",
       "    </tr>\n",
       "    <tr>\n",
       "      <th>2015-02-20</th>\n",
       "      <td> 385.50</td>\n",
       "    </tr>\n",
       "    <tr>\n",
       "      <th>2015-02-23</th>\n",
       "      <td> 378.50</td>\n",
       "    </tr>\n",
       "    <tr>\n",
       "      <th>2015-02-24</th>\n",
       "      <td> 377.00</td>\n",
       "    </tr>\n",
       "    <tr>\n",
       "      <th>2015-02-25</th>\n",
       "      <td> 375.50</td>\n",
       "    </tr>\n",
       "    <tr>\n",
       "      <th>2015-02-26</th>\n",
       "      <td> 380.00</td>\n",
       "    </tr>\n",
       "    <tr>\n",
       "      <th>2015-02-27</th>\n",
       "      <td> 384.00</td>\n",
       "    </tr>\n",
       "    <tr>\n",
       "      <th>2015-03-02</th>\n",
       "      <td> 378.50</td>\n",
       "    </tr>\n",
       "    <tr>\n",
       "      <th>2015-03-03</th>\n",
       "      <td> 382.00</td>\n",
       "    </tr>\n",
       "    <tr>\n",
       "      <th>2015-03-04</th>\n",
       "      <td> 381.00</td>\n",
       "    </tr>\n",
       "    <tr>\n",
       "      <th>2015-03-05</th>\n",
       "      <td> 382.50</td>\n",
       "    </tr>\n",
       "    <tr>\n",
       "      <th>2015-03-06</th>\n",
       "      <td> 379.50</td>\n",
       "    </tr>\n",
       "    <tr>\n",
       "      <th>2015-03-09</th>\n",
       "      <td> 383.50</td>\n",
       "    </tr>\n",
       "    <tr>\n",
       "      <th>2015-03-10</th>\n",
       "      <td> 382.50</td>\n",
       "    </tr>\n",
       "    <tr>\n",
       "      <th>2015-03-11</th>\n",
       "      <td> 384.00</td>\n",
       "    </tr>\n",
       "    <tr>\n",
       "      <th>2015-03-12</th>\n",
       "      <td> 382.25</td>\n",
       "    </tr>\n",
       "    <tr>\n",
       "      <th>2015-03-13</th>\n",
       "      <td> 380.50</td>\n",
       "    </tr>\n",
       "    <tr>\n",
       "      <th>2015-03-16</th>\n",
       "      <td> 379.00</td>\n",
       "    </tr>\n",
       "    <tr>\n",
       "      <th>2015-03-17</th>\n",
       "      <td> 371.00</td>\n",
       "    </tr>\n",
       "  </tbody>\n",
       "</table>\n",
       "<p>386 rows × 1 columns</p>\n",
       "</div>"
      ],
      "text/plain": [
       "            Settle\n",
       "Date              \n",
       "2013-09-04  494.00\n",
       "2013-09-05  489.50\n",
       "2013-09-06  491.50\n",
       "2013-09-09  477.25\n",
       "2013-09-10  474.75\n",
       "2013-09-11  479.75\n",
       "2013-09-12  479.00\n",
       "2013-09-13  450.00\n",
       "2013-09-16  456.50\n",
       "2013-09-17  454.00\n",
       "2013-09-18  456.25\n",
       "2013-09-19  459.50\n",
       "2013-09-20  451.00\n",
       "2013-09-23  453.25\n",
       "2013-09-24  448.75\n",
       "2013-09-25  454.75\n",
       "2013-09-26  456.75\n",
       "2013-09-27  454.00\n",
       "2013-09-30  441.50\n",
       "2013-10-01  439.00\n",
       "2013-10-02  439.00\n",
       "2013-10-03  439.25\n",
       "2013-10-04  443.25\n",
       "2013-10-07  449.25\n",
       "2013-10-08  441.75\n",
       "2013-10-09  443.50\n",
       "2013-10-10  438.25\n",
       "2013-10-11  433.25\n",
       "2013-10-14  437.00\n",
       "2013-10-15  443.50\n",
       "...            ...\n",
       "2015-02-03  385.50\n",
       "2015-02-04  383.00\n",
       "2015-02-05  385.50\n",
       "2015-02-06  385.50\n",
       "2015-02-09  391.50\n",
       "2015-02-10  388.00\n",
       "2015-02-11  385.50\n",
       "2015-02-12  383.00\n",
       "2015-02-13  387.50\n",
       "2015-02-17  389.00\n",
       "2015-02-18  383.50\n",
       "2015-02-19  389.50\n",
       "2015-02-20  385.50\n",
       "2015-02-23  378.50\n",
       "2015-02-24  377.00\n",
       "2015-02-25  375.50\n",
       "2015-02-26  380.00\n",
       "2015-02-27  384.00\n",
       "2015-03-02  378.50\n",
       "2015-03-03  382.00\n",
       "2015-03-04  381.00\n",
       "2015-03-05  382.50\n",
       "2015-03-06  379.50\n",
       "2015-03-09  383.50\n",
       "2015-03-10  382.50\n",
       "2015-03-11  384.00\n",
       "2015-03-12  382.25\n",
       "2015-03-13  380.50\n",
       "2015-03-16  379.00\n",
       "2015-03-17  371.00\n",
       "\n",
       "[386 rows x 1 columns]"
      ]
     },
     "execution_count": 38,
     "metadata": {},
     "output_type": "execute_result"
    }
   ],
   "source": [
    "# ['Symbol','Settle']\n",
    "# df[df['A'] > 0]\n",
    "d = data[['Settle']][data['Symbol'] == 'C'].sort()\n",
    "d"
   ]
  },
  {
   "cell_type": "code",
   "execution_count": 39,
   "metadata": {
    "collapsed": true
   },
   "outputs": [],
   "source": [
    "d['ma'] = pd.rolling_mean(d, 50)"
   ]
  },
  {
   "cell_type": "code",
   "execution_count": 40,
   "metadata": {
    "collapsed": true
   },
   "outputs": [],
   "source": [
    "import plotly.plotly as py\n",
    "from plotly.graph_objs import *\n",
    "import plotly.tools as tls\n",
    "tls.set_credentials_file(username='claus', api_key='bv1zgby5ci')"
   ]
  },
  {
   "cell_type": "code",
   "execution_count": 41,
   "metadata": {
    "collapsed": false
   },
   "outputs": [],
   "source": [
    "close = Scatter(\n",
    "    x=d.index,\n",
    "    y=d.Settle\n",
    ")\n",
    "\n",
    "ma = Scatter(\n",
    "    x=d.index,\n",
    "    y=d.ma\n",
    ")"
   ]
  },
  {
   "cell_type": "code",
   "execution_count": 42,
   "metadata": {
    "collapsed": false
   },
   "outputs": [],
   "source": [
    "plot_url = py.plot(Data([close,ma]), filename='basic-line')"
   ]
  },
  {
   "cell_type": "code",
   "execution_count": 4,
   "metadata": {
    "collapsed": false
   },
   "outputs": [],
   "source": [
    "import MySQLdb"
   ]
  },
  {
   "cell_type": "code",
   "execution_count": 42,
   "metadata": {
    "collapsed": true
   },
   "outputs": [],
   "source": [
    "db = MySQLdb.connect(\"localhost\",\"root\",\"\",\"calogica\" )"
   ]
  },
  {
   "cell_type": "code",
   "execution_count": 43,
   "metadata": {
    "collapsed": false
   },
   "outputs": [],
   "source": [
    "# cursor = db.cursor()\n",
    "\n",
    "# # execute SQL query using execute() method.\n",
    "# cursor.execute(\"SELECT VERSION()\")"
   ]
  },
  {
   "cell_type": "code",
   "execution_count": 44,
   "metadata": {
    "collapsed": false
   },
   "outputs": [],
   "source": [
    "# data = cursor.fetchone()\n",
    "\n",
    "# print \"Database version : %s \" % data"
   ]
  },
  {
   "cell_type": "code",
   "execution_count": 45,
   "metadata": {
    "collapsed": true
   },
   "outputs": [],
   "source": [
    "# db.close()"
   ]
  },
  {
   "cell_type": "code",
   "execution_count": 46,
   "metadata": {
    "collapsed": false
   },
   "outputs": [
    {
     "name": "stdout",
     "output_type": "stream",
     "text": [
      "loaded dataframe from MySQL. records: 13\n"
     ]
    },
    {
     "data": {
      "text/html": [
       "<div style=\"max-height:1000px;max-width:1500px;overflow:auto;\">\n",
       "<table border=\"1\" class=\"dataframe\">\n",
       "  <thead>\n",
       "    <tr style=\"text-align: right;\">\n",
       "      <th></th>\n",
       "      <th>id</th>\n",
       "      <th>name</th>\n",
       "    </tr>\n",
       "  </thead>\n",
       "  <tbody>\n",
       "    <tr>\n",
       "      <th>0</th>\n",
       "      <td> 1</td>\n",
       "      <td> claus</td>\n",
       "    </tr>\n",
       "    <tr>\n",
       "      <th>1</th>\n",
       "      <td> 1</td>\n",
       "      <td>     a</td>\n",
       "    </tr>\n",
       "    <tr>\n",
       "      <th>2</th>\n",
       "      <td> 2</td>\n",
       "      <td>     b</td>\n",
       "    </tr>\n",
       "    <tr>\n",
       "      <th>3</th>\n",
       "      <td> 3</td>\n",
       "      <td>     c</td>\n",
       "    </tr>\n",
       "    <tr>\n",
       "      <th>4</th>\n",
       "      <td> 4</td>\n",
       "      <td>     d</td>\n",
       "    </tr>\n",
       "  </tbody>\n",
       "</table>\n",
       "</div>"
      ],
      "text/plain": [
       "   id   name\n",
       "0   1  claus\n",
       "1   1      a\n",
       "2   2      b\n",
       "3   3      c\n",
       "4   4      d"
      ]
     },
     "execution_count": 46,
     "metadata": {},
     "output_type": "execute_result"
    }
   ],
   "source": [
    "tbl = pd.read_sql('select * from test;', con=db)    \n",
    "print 'loaded dataframe from MySQL. records:', len(tbl)\n",
    "tbl.head()"
   ]
  },
  {
   "cell_type": "code",
   "execution_count": 63,
   "metadata": {
    "collapsed": false
   },
   "outputs": [
    {
     "name": "stdout",
     "output_type": "stream",
     "text": [
      "   name\n",
      "id     \n",
      "1     a\n",
      "2     b\n",
      "3     c\n",
      "4     d\n"
     ]
    }
   ],
   "source": [
    "d = {'name' : ['a', 'b', 'c', 'd']}\n",
    "new_data = pd.DataFrame(d, index=[1., 2., 3., 4.])\n",
    "new_data.index.names = ['id']\n",
    "new_data.columns = ['name']\n",
    "print new_data\n",
    "o = new_data.to_sql(con=db, name='new_tbl', if_exists='append', flavor='mysql')\n",
    "# print o"
   ]
  },
  {
   "cell_type": "code",
   "execution_count": 62,
   "metadata": {
    "collapsed": false
   },
   "outputs": [
    {
     "name": "stdout",
     "output_type": "stream",
     "text": [
      "loaded dataframe from MySQL. records: 12\n"
     ]
    },
    {
     "data": {
      "text/html": [
       "<div style=\"max-height:1000px;max-width:1500px;overflow:auto;\">\n",
       "<table border=\"1\" class=\"dataframe\">\n",
       "  <thead>\n",
       "    <tr style=\"text-align: right;\">\n",
       "      <th></th>\n",
       "      <th>id</th>\n",
       "      <th>name</th>\n",
       "    </tr>\n",
       "  </thead>\n",
       "  <tbody>\n",
       "    <tr>\n",
       "      <th>0 </th>\n",
       "      <td> 1</td>\n",
       "      <td> a</td>\n",
       "    </tr>\n",
       "    <tr>\n",
       "      <th>1 </th>\n",
       "      <td> 2</td>\n",
       "      <td> b</td>\n",
       "    </tr>\n",
       "    <tr>\n",
       "      <th>2 </th>\n",
       "      <td> 3</td>\n",
       "      <td> c</td>\n",
       "    </tr>\n",
       "    <tr>\n",
       "      <th>3 </th>\n",
       "      <td> 4</td>\n",
       "      <td> d</td>\n",
       "    </tr>\n",
       "    <tr>\n",
       "      <th>4 </th>\n",
       "      <td> 1</td>\n",
       "      <td> a</td>\n",
       "    </tr>\n",
       "    <tr>\n",
       "      <th>5 </th>\n",
       "      <td> 2</td>\n",
       "      <td> b</td>\n",
       "    </tr>\n",
       "    <tr>\n",
       "      <th>6 </th>\n",
       "      <td> 3</td>\n",
       "      <td> c</td>\n",
       "    </tr>\n",
       "    <tr>\n",
       "      <th>7 </th>\n",
       "      <td> 4</td>\n",
       "      <td> d</td>\n",
       "    </tr>\n",
       "    <tr>\n",
       "      <th>8 </th>\n",
       "      <td> 1</td>\n",
       "      <td> a</td>\n",
       "    </tr>\n",
       "    <tr>\n",
       "      <th>9 </th>\n",
       "      <td> 2</td>\n",
       "      <td> b</td>\n",
       "    </tr>\n",
       "    <tr>\n",
       "      <th>10</th>\n",
       "      <td> 3</td>\n",
       "      <td> c</td>\n",
       "    </tr>\n",
       "    <tr>\n",
       "      <th>11</th>\n",
       "      <td> 4</td>\n",
       "      <td> d</td>\n",
       "    </tr>\n",
       "  </tbody>\n",
       "</table>\n",
       "</div>"
      ],
      "text/plain": [
       "    id name\n",
       "0    1    a\n",
       "1    2    b\n",
       "2    3    c\n",
       "3    4    d\n",
       "4    1    a\n",
       "5    2    b\n",
       "6    3    c\n",
       "7    4    d\n",
       "8    1    a\n",
       "9    2    b\n",
       "10   3    c\n",
       "11   4    d"
      ]
     },
     "execution_count": 62,
     "metadata": {},
     "output_type": "execute_result"
    }
   ],
   "source": [
    "tbl = pd.read_sql('select * from test;', con=db)    \n",
    "print 'loaded dataframe from MySQL. records:', len(tbl)\n",
    "tbl\n"
   ]
  },
  {
   "cell_type": "code",
   "execution_count": 67,
   "metadata": {
    "collapsed": false
   },
   "outputs": [
    {
     "name": "stdout",
     "output_type": "stream",
     "text": [
      "  name\n",
      "1    a\n",
      "2    b\n",
      "3    c\n",
      "4    d\n",
      "0    a\n",
      "1    b\n",
      "2    c\n",
      "3    d\n",
      "4    a\n",
      "5    b\n",
      "6    c\n",
      "7    d\n",
      "Name: name, dtype: object\n"
     ]
    }
   ],
   "source": [
    "import MySQLdb\n",
    "\n",
    "# change your server, login and db\n",
    "db = MySQLdb.connect(\"localhost\",\"root\",\"\",\"calogica\" )\n",
    "\n",
    "# create a dataframe with some sample data\n",
    "d = {'name' : ['a', 'b', 'c', 'd']}\n",
    "new_data = pd.DataFrame(d, index=[1., 2., 3., 4.])\n",
    "print new_data\n",
    "\n",
    "# rename the index column\n",
    "new_data.index.names = ['id']\n",
    "\n",
    "# creates a new table on the fly if it doesn't exist. Other optons are 'replace' or 'fail'\n",
    "new_data.to_sql(con=db, name='new_tbl', if_exists='append', flavor='mysql')\n",
    "\n",
    "# magically all the dataz are in there\n",
    "tbl = pd.read_sql('select * from new_tbl;', con=db)    \n",
    "print tbl.name"
   ]
  },
  {
   "cell_type": "code",
   "execution_count": 68,
   "metadata": {
    "collapsed": true
   },
   "outputs": [],
   "source": [
    "db.close()"
   ]
  },
  {
   "cell_type": "code",
   "execution_count": null,
   "metadata": {
    "collapsed": true
   },
   "outputs": [],
   "source": []
  }
 ],
 "metadata": {
  "kernelspec": {
   "display_name": "Python 2",
   "language": "python",
   "name": "python2"
  },
  "language_info": {
   "codemirror_mode": {
    "name": "ipython",
    "version": 2
   },
   "file_extension": ".py",
   "mimetype": "text/x-python",
   "name": "python",
   "nbconvert_exporter": "python",
   "pygments_lexer": "ipython2",
   "version": "2.7.9"
  }
 },
 "nbformat": 4,
 "nbformat_minor": 0
}
