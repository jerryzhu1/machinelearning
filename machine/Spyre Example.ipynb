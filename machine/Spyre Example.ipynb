{
 "cells": [
  {
   "cell_type": "code",
   "execution_count": 1,
   "metadata": {
    "collapsed": false
   },
   "outputs": [],
   "source": [
    "from spyre import server\n",
    "\n",
    "import pandas as pd\n",
    "import urllib2\n",
    "import json\n",
    "\n",
    "class StockExample(server.App):\n",
    "    title = \"Historical Stock Prices\"\n",
    "\n",
    "    inputs = [{     \"type\":'dropdown',\n",
    "                    \"label\": 'Company', \n",
    "                    \"options\" : [ {\"label\": \"Google\", \"value\":\"GOOG\"},\n",
    "                                  {\"label\": \"Yahoo\", \"value\":\"YHOO\"},\n",
    "                                  {\"label\": \"Apple\", \"value\":\"AAPL\"}],\n",
    "                    \"key\": 'ticker', \n",
    "                    \"action_id\": \"update_data\"}]\n",
    "\n",
    "    controls = [{   \"type\" : \"hidden\",\n",
    "                    \"id\" : \"update_data\"}]\n",
    "\n",
    "    tabs = [\"Plot\", \"Table\"]\n",
    "\n",
    "    outputs = [{ \"type\" : \"plot\",\n",
    "                    \"id\" : \"plot\",\n",
    "                    \"control_id\" : \"update_data\",\n",
    "                    \"tab\" : \"Plot\"},\n",
    "                { \"type\" : \"table\",\n",
    "                    \"id\" : \"table_id\",\n",
    "                    \"control_id\" : \"update_data\",\n",
    "                    \"tab\" : \"Table\",\n",
    "                    \"on_page_load\" : True }]\n",
    "\n",
    "    def getData(self, params):\n",
    "        ticker = params['ticker']\n",
    "        # make call to yahoo finance api to get historical stock data\n",
    "        api_url = 'https://chartapi.finance.yahoo.com/instrument/1.0/{}/chartdata;type=quote;range=3m/json'.format(ticker)\n",
    "        result = urllib2.urlopen(api_url).read()\n",
    "        data = json.loads(result.replace('finance_charts_json_callback( ','')[:-1])  # strip away the javascript and load json\n",
    "        self.company_name = data['meta']['Company-Name']\n",
    "        df = pd.DataFrame.from_records(data['series'])\n",
    "        df['Date'] = pd.to_datetime(df['Date'],format='%Y%m%d')\n",
    "        return df\n",
    "\n",
    "    def getPlot(self, params):\n",
    "        df = self.getData(params).set_index('Date').drop(['volume'],axis=1)\n",
    "        plt_obj = df.plot()\n",
    "        plt_obj.set_ylabel(\"Price\")\n",
    "        plt_obj.set_title(self.company_name)\n",
    "        fig = plt_obj.get_figure()\n",
    "        return fig"
   ]
  },
  {
   "cell_type": "code",
   "execution_count": 2,
   "metadata": {
    "collapsed": true
   },
   "outputs": [],
   "source": [
    "app = StockExample()\n",
    "app.launch(port=9093)"
   ]
  },
  {
   "cell_type": "code",
   "execution_count": null,
   "metadata": {
    "collapsed": true
   },
   "outputs": [],
   "source": []
  }
 ],
 "metadata": {
  "kernelspec": {
   "display_name": "Python 2",
   "language": "python",
   "name": "python2"
  },
  "language_info": {
   "codemirror_mode": {
    "name": "ipython",
    "version": 2
   },
   "file_extension": ".py",
   "mimetype": "text/x-python",
   "name": "python",
   "nbconvert_exporter": "python",
   "pygments_lexer": "ipython2",
   "version": "2.7.6"
  }
 },
 "nbformat": 4,
 "nbformat_minor": 0
}
