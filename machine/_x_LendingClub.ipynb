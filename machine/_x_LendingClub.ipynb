{
 "cells": [
  {
   "cell_type": "code",
   "execution_count": 2,
   "metadata": {
    "collapsed": true
   },
   "outputs": [],
   "source": [
    "import pandas as pd\n",
    "import numpy as np\n",
    "%matplotlib inline"
   ]
  },
  {
   "cell_type": "code",
   "execution_count": 3,
   "metadata": {
    "collapsed": false
   },
   "outputs": [
    {
     "name": "stderr",
     "output_type": "stream",
     "text": [
      "/Users/claus/venv/lib/python2.7/site-packages/pandas/io/parsers.py:1164: DtypeWarning: Columns (0) have mixed types. Specify dtype option on import or set low_memory=False.\n",
      "  data = self._reader.read(nrows)\n",
      "/Users/claus/venv/lib/python2.7/site-packages/pandas/io/parsers.py:1164: DtypeWarning: Columns (0,19) have mixed types. Specify dtype option on import or set low_memory=False.\n",
      "  data = self._reader.read(nrows)\n"
     ]
    }
   ],
   "source": [
    "a = pd.DataFrame.from_csv('~/Downloads/LoanStats3a_securev1.csv', header=1)\n",
    "b = pd.DataFrame.from_csv('~/Downloads/LoanStats3b_securev1.csv', header=1)\n",
    "c = pd.DataFrame.from_csv('~/Downloads/LoanStats3c_securev1.csv', header=1)\n",
    "d = pd.DataFrame.from_csv('~/Downloads/LoanStats3d_securev1.csv', header=1)\n",
    "\n",
    "frames = [a,b,c,d]\n",
    "df = pd.concat(frames)"
   ]
  },
  {
   "cell_type": "code",
   "execution_count": 4,
   "metadata": {
    "collapsed": false
   },
   "outputs": [
    {
     "data": {
      "text/html": [
       "<div style=\"max-height:1000px;max-width:1500px;overflow:auto;\">\n",
       "<table border=\"1\" class=\"dataframe\">\n",
       "  <thead>\n",
       "    <tr style=\"text-align: right;\">\n",
       "      <th></th>\n",
       "      <th>member_id</th>\n",
       "      <th>loan_amnt</th>\n",
       "      <th>funded_amnt</th>\n",
       "      <th>funded_amnt_inv</th>\n",
       "      <th>installment</th>\n",
       "      <th>annual_inc</th>\n",
       "      <th>dti</th>\n",
       "      <th>delinq_2yrs</th>\n",
       "      <th>fico_range_low</th>\n",
       "      <th>fico_range_high</th>\n",
       "      <th>...</th>\n",
       "      <th>total_rec_int</th>\n",
       "      <th>total_rec_late_fee</th>\n",
       "      <th>recoveries</th>\n",
       "      <th>collection_recovery_fee</th>\n",
       "      <th>last_pymnt_amnt</th>\n",
       "      <th>last_fico_range_high</th>\n",
       "      <th>last_fico_range_low</th>\n",
       "      <th>collections_12_mths_ex_med</th>\n",
       "      <th>mths_since_last_major_derog</th>\n",
       "      <th>policy_code</th>\n",
       "    </tr>\n",
       "  </thead>\n",
       "  <tbody>\n",
       "    <tr>\n",
       "      <th>count</th>\n",
       "      <td>550564.000000</td>\n",
       "      <td>550564.000000</td>\n",
       "      <td>550564.000000</td>\n",
       "      <td>550564.000000</td>\n",
       "      <td>550564.000000</td>\n",
       "      <td>550560.000000</td>\n",
       "      <td>550564.000000</td>\n",
       "      <td>550535.000000</td>\n",
       "      <td>550564.000000</td>\n",
       "      <td>550564.000000</td>\n",
       "      <td>...</td>\n",
       "      <td>550564.000000</td>\n",
       "      <td>550564.000000</td>\n",
       "      <td>550564.000000</td>\n",
       "      <td>550564.000000</td>\n",
       "      <td>550564.000000</td>\n",
       "      <td>550564.000000</td>\n",
       "      <td>550564.000000</td>\n",
       "      <td>550419.000000</td>\n",
       "      <td>123266.000000</td>\n",
       "      <td>550564</td>\n",
       "    </tr>\n",
       "    <tr>\n",
       "      <th>mean</th>\n",
       "      <td>18987981.698384</td>\n",
       "      <td>14468.810438</td>\n",
       "      <td>14447.233791</td>\n",
       "      <td>14387.865429</td>\n",
       "      <td>434.153024</td>\n",
       "      <td>73614.203930</td>\n",
       "      <td>17.507829</td>\n",
       "      <td>0.293209</td>\n",
       "      <td>695.501477</td>\n",
       "      <td>699.501553</td>\n",
       "      <td>...</td>\n",
       "      <td>1814.654110</td>\n",
       "      <td>0.361103</td>\n",
       "      <td>31.579304</td>\n",
       "      <td>1.382189</td>\n",
       "      <td>2075.230516</td>\n",
       "      <td>695.856162</td>\n",
       "      <td>686.136752</td>\n",
       "      <td>0.010209</td>\n",
       "      <td>43.115628</td>\n",
       "      <td>1</td>\n",
       "    </tr>\n",
       "    <tr>\n",
       "      <th>std</th>\n",
       "      <td>14953301.423221</td>\n",
       "      <td>8321.777232</td>\n",
       "      <td>8311.940605</td>\n",
       "      <td>8332.382346</td>\n",
       "      <td>243.269103</td>\n",
       "      <td>56048.952322</td>\n",
       "      <td>8.001266</td>\n",
       "      <td>0.817007</td>\n",
       "      <td>30.537057</td>\n",
       "      <td>30.537432</td>\n",
       "      <td>...</td>\n",
       "      <td>2000.535056</td>\n",
       "      <td>3.754975</td>\n",
       "      <td>325.258878</td>\n",
       "      <td>46.975098</td>\n",
       "      <td>4616.223209</td>\n",
       "      <td>62.168380</td>\n",
       "      <td>94.417145</td>\n",
       "      <td>0.115192</td>\n",
       "      <td>21.727927</td>\n",
       "      <td>0</td>\n",
       "    </tr>\n",
       "    <tr>\n",
       "      <th>min</th>\n",
       "      <td>70473.000000</td>\n",
       "      <td>500.000000</td>\n",
       "      <td>500.000000</td>\n",
       "      <td>0.000000</td>\n",
       "      <td>15.670000</td>\n",
       "      <td>1896.000000</td>\n",
       "      <td>0.000000</td>\n",
       "      <td>0.000000</td>\n",
       "      <td>610.000000</td>\n",
       "      <td>614.000000</td>\n",
       "      <td>...</td>\n",
       "      <td>0.000000</td>\n",
       "      <td>0.000000</td>\n",
       "      <td>0.000000</td>\n",
       "      <td>0.000000</td>\n",
       "      <td>0.000000</td>\n",
       "      <td>0.000000</td>\n",
       "      <td>0.000000</td>\n",
       "      <td>0.000000</td>\n",
       "      <td>0.000000</td>\n",
       "      <td>1</td>\n",
       "    </tr>\n",
       "    <tr>\n",
       "      <th>25%</th>\n",
       "      <td>6047516.500000</td>\n",
       "      <td>8000.000000</td>\n",
       "      <td>8000.000000</td>\n",
       "      <td>8000.000000</td>\n",
       "      <td>258.740000</td>\n",
       "      <td>45000.000000</td>\n",
       "      <td>11.530000</td>\n",
       "      <td>0.000000</td>\n",
       "      <td>670.000000</td>\n",
       "      <td>674.000000</td>\n",
       "      <td>...</td>\n",
       "      <td>555.007500</td>\n",
       "      <td>0.000000</td>\n",
       "      <td>0.000000</td>\n",
       "      <td>0.000000</td>\n",
       "      <td>289.020000</td>\n",
       "      <td>669.000000</td>\n",
       "      <td>665.000000</td>\n",
       "      <td>0.000000</td>\n",
       "      <td>26.000000</td>\n",
       "      <td>1</td>\n",
       "    </tr>\n",
       "    <tr>\n",
       "      <th>50%</th>\n",
       "      <td>14719569.000000</td>\n",
       "      <td>12450.000000</td>\n",
       "      <td>12375.000000</td>\n",
       "      <td>12250.000000</td>\n",
       "      <td>381.480000</td>\n",
       "      <td>63000.000000</td>\n",
       "      <td>17.110000</td>\n",
       "      <td>0.000000</td>\n",
       "      <td>690.000000</td>\n",
       "      <td>694.000000</td>\n",
       "      <td>...</td>\n",
       "      <td>1168.820000</td>\n",
       "      <td>0.000000</td>\n",
       "      <td>0.000000</td>\n",
       "      <td>0.000000</td>\n",
       "      <td>467.120000</td>\n",
       "      <td>699.000000</td>\n",
       "      <td>695.000000</td>\n",
       "      <td>0.000000</td>\n",
       "      <td>43.000000</td>\n",
       "      <td>1</td>\n",
       "    </tr>\n",
       "    <tr>\n",
       "      <th>75%</th>\n",
       "      <td>32517824.750000</td>\n",
       "      <td>20000.000000</td>\n",
       "      <td>20000.000000</td>\n",
       "      <td>20000.000000</td>\n",
       "      <td>568.910000</td>\n",
       "      <td>89000.000000</td>\n",
       "      <td>23.130000</td>\n",
       "      <td>0.000000</td>\n",
       "      <td>710.000000</td>\n",
       "      <td>714.000000</td>\n",
       "      <td>...</td>\n",
       "      <td>2292.890000</td>\n",
       "      <td>0.000000</td>\n",
       "      <td>0.000000</td>\n",
       "      <td>0.000000</td>\n",
       "      <td>818.157500</td>\n",
       "      <td>734.000000</td>\n",
       "      <td>730.000000</td>\n",
       "      <td>0.000000</td>\n",
       "      <td>60.000000</td>\n",
       "      <td>1</td>\n",
       "    </tr>\n",
       "    <tr>\n",
       "      <th>max</th>\n",
       "      <td>47476932.000000</td>\n",
       "      <td>35000.000000</td>\n",
       "      <td>35000.000000</td>\n",
       "      <td>35000.000000</td>\n",
       "      <td>1409.990000</td>\n",
       "      <td>8706582.000000</td>\n",
       "      <td>39.990000</td>\n",
       "      <td>29.000000</td>\n",
       "      <td>845.000000</td>\n",
       "      <td>850.000000</td>\n",
       "      <td>...</td>\n",
       "      <td>21892.310000</td>\n",
       "      <td>306.400000</td>\n",
       "      <td>33520.270000</td>\n",
       "      <td>7002.190000</td>\n",
       "      <td>36475.590000</td>\n",
       "      <td>850.000000</td>\n",
       "      <td>845.000000</td>\n",
       "      <td>20.000000</td>\n",
       "      <td>188.000000</td>\n",
       "      <td>1</td>\n",
       "    </tr>\n",
       "  </tbody>\n",
       "</table>\n",
       "<p>8 rows × 32 columns</p>\n",
       "</div>"
      ],
      "text/plain": [
       "             member_id      loan_amnt    funded_amnt  funded_amnt_inv  \\\n",
       "count    550564.000000  550564.000000  550564.000000    550564.000000   \n",
       "mean   18987981.698384   14468.810438   14447.233791     14387.865429   \n",
       "std    14953301.423221    8321.777232    8311.940605      8332.382346   \n",
       "min       70473.000000     500.000000     500.000000         0.000000   \n",
       "25%     6047516.500000    8000.000000    8000.000000      8000.000000   \n",
       "50%    14719569.000000   12450.000000   12375.000000     12250.000000   \n",
       "75%    32517824.750000   20000.000000   20000.000000     20000.000000   \n",
       "max    47476932.000000   35000.000000   35000.000000     35000.000000   \n",
       "\n",
       "         installment      annual_inc            dti    delinq_2yrs  \\\n",
       "count  550564.000000   550560.000000  550564.000000  550535.000000   \n",
       "mean      434.153024    73614.203930      17.507829       0.293209   \n",
       "std       243.269103    56048.952322       8.001266       0.817007   \n",
       "min        15.670000     1896.000000       0.000000       0.000000   \n",
       "25%       258.740000    45000.000000      11.530000       0.000000   \n",
       "50%       381.480000    63000.000000      17.110000       0.000000   \n",
       "75%       568.910000    89000.000000      23.130000       0.000000   \n",
       "max      1409.990000  8706582.000000      39.990000      29.000000   \n",
       "\n",
       "       fico_range_low  fico_range_high     ...       total_rec_int  \\\n",
       "count   550564.000000    550564.000000     ...       550564.000000   \n",
       "mean       695.501477       699.501553     ...         1814.654110   \n",
       "std         30.537057        30.537432     ...         2000.535056   \n",
       "min        610.000000       614.000000     ...            0.000000   \n",
       "25%        670.000000       674.000000     ...          555.007500   \n",
       "50%        690.000000       694.000000     ...         1168.820000   \n",
       "75%        710.000000       714.000000     ...         2292.890000   \n",
       "max        845.000000       850.000000     ...        21892.310000   \n",
       "\n",
       "       total_rec_late_fee     recoveries  collection_recovery_fee  \\\n",
       "count       550564.000000  550564.000000            550564.000000   \n",
       "mean             0.361103      31.579304                 1.382189   \n",
       "std              3.754975     325.258878                46.975098   \n",
       "min              0.000000       0.000000                 0.000000   \n",
       "25%              0.000000       0.000000                 0.000000   \n",
       "50%              0.000000       0.000000                 0.000000   \n",
       "75%              0.000000       0.000000                 0.000000   \n",
       "max            306.400000   33520.270000              7002.190000   \n",
       "\n",
       "       last_pymnt_amnt  last_fico_range_high  last_fico_range_low  \\\n",
       "count    550564.000000         550564.000000        550564.000000   \n",
       "mean       2075.230516            695.856162           686.136752   \n",
       "std        4616.223209             62.168380            94.417145   \n",
       "min           0.000000              0.000000             0.000000   \n",
       "25%         289.020000            669.000000           665.000000   \n",
       "50%         467.120000            699.000000           695.000000   \n",
       "75%         818.157500            734.000000           730.000000   \n",
       "max       36475.590000            850.000000           845.000000   \n",
       "\n",
       "       collections_12_mths_ex_med  mths_since_last_major_derog  policy_code  \n",
       "count               550419.000000                123266.000000       550564  \n",
       "mean                     0.010209                    43.115628            1  \n",
       "std                      0.115192                    21.727927            0  \n",
       "min                      0.000000                     0.000000            1  \n",
       "25%                      0.000000                    26.000000            1  \n",
       "50%                      0.000000                    43.000000            1  \n",
       "75%                      0.000000                    60.000000            1  \n",
       "max                     20.000000                   188.000000            1  \n",
       "\n",
       "[8 rows x 32 columns]"
      ]
     },
     "execution_count": 4,
     "metadata": {},
     "output_type": "execute_result"
    }
   ],
   "source": [
    "df.describe()"
   ]
  },
  {
   "cell_type": "markdown",
   "metadata": {},
   "source": [
    "##Data cleanup"
   ]
  },
  {
   "cell_type": "code",
   "execution_count": 5,
   "metadata": {
    "collapsed": false
   },
   "outputs": [],
   "source": [
    "del df['desc']\n",
    "del df['mths_since_last_record']"
   ]
  },
  {
   "cell_type": "code",
   "execution_count": 6,
   "metadata": {
    "collapsed": true
   },
   "outputs": [],
   "source": [
    "# drop rows with more than 80% NA values\n",
    "data=df.dropna(axis=1,thresh=df.member_id.count()*.80)"
   ]
  },
  {
   "cell_type": "code",
   "execution_count": 7,
   "metadata": {
    "collapsed": false
   },
   "outputs": [
    {
     "name": "stdout",
     "output_type": "stream",
     "text": [
      "removed: ['mths_since_last_delinq', 'next_pymnt_d', 'mths_since_last_major_derog']\n"
     ]
    }
   ],
   "source": [
    "print 'removed:', [c for c in df.columns if not c in data.columns]"
   ]
  },
  {
   "cell_type": "markdown",
   "metadata": {},
   "source": [
    "## Tag bad loans"
   ]
  },
  {
   "cell_type": "code",
   "execution_count": 8,
   "metadata": {
    "collapsed": true
   },
   "outputs": [],
   "source": [
    "bad_indicators = ['Late (16-30 days)', 'Late (31-120 days)', 'Default', 'Charged Off']"
   ]
  },
  {
   "cell_type": "code",
   "execution_count": 9,
   "metadata": {
    "collapsed": false
   },
   "outputs": [
    {
     "name": "stderr",
     "output_type": "stream",
     "text": [
      "/Users/claus/venv/lib/python2.7/site-packages/pandas/core/indexing.py:244: SettingWithCopyWarning: \n",
      "A value is trying to be set on a copy of a slice from a DataFrame.\n",
      "Try using .loc[row_indexer,col_indexer] = value instead\n",
      "\n",
      "See the the caveats in the documentation: http://pandas.pydata.org/pandas-docs/stable/indexing.html#indexing-view-versus-copy\n",
      "  self.obj[key] = _infer_fill_value(value)\n",
      "/Users/claus/venv/lib/python2.7/site-packages/pandas/core/indexing.py:411: SettingWithCopyWarning: \n",
      "A value is trying to be set on a copy of a slice from a DataFrame.\n",
      "Try using .loc[row_indexer,col_indexer] = value instead\n",
      "\n",
      "See the the caveats in the documentation: http://pandas.pydata.org/pandas-docs/stable/indexing.html#indexing-view-versus-copy\n",
      "  self.obj[item] = s\n"
     ]
    }
   ],
   "source": [
    "# set is_bad indicator to true to loans in status with 'bad' indicators\n",
    "data.loc[:,'is_bad'] = False\n",
    "data.loc[data['loan_status'].isin(bad_indicators), 'is_bad'] = True\n",
    "data.loc[data['loan_status'] ==\"\", 'is_bad'] = np.nan"
   ]
  },
  {
   "cell_type": "code",
   "execution_count": 10,
   "metadata": {
    "collapsed": false
   },
   "outputs": [
    {
     "name": "stdout",
     "output_type": "stream",
     "text": [
      "Total loans:\t550564\n",
      "Bad loans:\t35375\n"
     ]
    }
   ],
   "source": [
    "# how many bad loans?\n",
    "print 'Total loans:\\t', data.member_id.count()\n",
    "print 'Bad loans:\\t', data[data['is_bad']==True].member_id.count()"
   ]
  },
  {
   "cell_type": "markdown",
   "metadata": {},
   "source": [
    "## data type cleanup"
   ]
  },
  {
   "cell_type": "code",
   "execution_count": 11,
   "metadata": {
    "collapsed": false
   },
   "outputs": [],
   "source": [
    "data.loc[:,'issue_d'] = pd.to_datetime(data.issue_d)\n",
    "data.loc[:,'year_issued'] = data.issue_d.dt.year\n",
    "data.loc[:,'month_issued'] = data.issue_d.dt.month\n",
    "data.loc[:,'earliest_cr_line'] = pd.to_datetime(data.earliest_cr_line)\n",
    "data.loc[:,'revol_util'] = data['revol_util'].str.replace(\"[%]\", \"\").astype(float)\n",
    "data.home_ownership = data.home_ownership.astype('category')\n",
    "data.loc[:,'is_rent'] = False\n",
    "data.loc[data['home_ownership'].isin(['RENT']), 'is_rent'] = True\n",
    "data.loc[:,'fico_range'] = data.fico_range_high.astype('category')\n",
    "data.loc[:,'fico_ordered'] = data.fico_range_high.astype('float')"
   ]
  },
  {
   "cell_type": "code",
   "execution_count": 12,
   "metadata": {
    "collapsed": true
   },
   "outputs": [],
   "source": [
    "feature_cols = ['is_bad', 'loan_amnt', 'annual_inc', 'fico_range_low', 'fico_range_high', \n",
    "                'inq_last_6mths', 'open_acc', 'pub_rec', 'revol_bal', 'total_acc', \n",
    "                'out_prncp', 'out_prncp_inv', 'total_pymnt', 'total_pymnt_inv', \n",
    "                'total_rec_prncp', 'total_rec_int', 'total_rec_late_fee', \n",
    "                'recoveries', 'collection_recovery_fee', 'last_pymnt_amnt', \n",
    "                'last_fico_range_high', 'last_fico_range_low',\n",
    "                'is_rent']"
   ]
  },
  {
   "cell_type": "markdown",
   "metadata": {},
   "source": [
    "### Scaling"
   ]
  },
  {
   "cell_type": "code",
   "execution_count": 13,
   "metadata": {
    "collapsed": false
   },
   "outputs": [],
   "source": [
    "from sklearn import preprocessing\n",
    "\n",
    "# get numeric columns only, _get_numeric_data is private but whatevs\n",
    "numeric_cols = [c for c in data._get_numeric_data().columns if not c == 'is_bad']\n",
    "d_feat = data[feature_cols].fillna(0)"
   ]
  },
  {
   "cell_type": "code",
   "execution_count": 14,
   "metadata": {
    "collapsed": true
   },
   "outputs": [],
   "source": [
    "# scaler = preprocessing.StandardScaler()\n",
    "# scaler.fit(d_feat)\n",
    "# data_scaled = scaler.transform(d_feat)"
   ]
  },
  {
   "cell_type": "markdown",
   "metadata": {},
   "source": [
    "###Scale numeric columns"
   ]
  },
  {
   "cell_type": "code",
   "execution_count": 15,
   "metadata": {
    "collapsed": true
   },
   "outputs": [],
   "source": [
    "for c in d_feat.columns:\n",
    "    if c in numeric_cols: \n",
    "        d_feat.loc[:,c] = (d_feat[c]-d_feat[c].mean())/d_feat[c].std()\n"
   ]
  },
  {
   "cell_type": "markdown",
   "metadata": {},
   "source": [
    "### Calc % of bad loans per year & month"
   ]
  },
  {
   "cell_type": "code",
   "execution_count": 16,
   "metadata": {
    "collapsed": false
   },
   "outputs": [],
   "source": [
    "def calc_bad_perc(x):\n",
    "    x['percent_bad'] = x.is_bad.sum()/x.member_id.count()\n",
    "    return x\n",
    "d = data.groupby(['year_issued', 'month_issued']).apply(calc_bad_perc)"
   ]
  },
  {
   "cell_type": "code",
   "execution_count": null,
   "metadata": {
    "collapsed": false
   },
   "outputs": [],
   "source": []
  },
  {
   "cell_type": "code",
   "execution_count": 17,
   "metadata": {
    "collapsed": true
   },
   "outputs": [],
   "source": [
    "# pivot columms by is_bad flag \n",
    "d2 = pd.melt(d, id_vars=\"is_bad\", value_vars = numeric_cols)"
   ]
  },
  {
   "cell_type": "code",
   "execution_count": 18,
   "metadata": {
    "collapsed": false
   },
   "outputs": [],
   "source": [
    "# this kind of blows up, but not critical\n",
    "# from ggplot import *\n",
    "\n",
    "# #plot the distribution for bads and goods for each variable\n",
    "# p = ggplot(aes(x='value', group='is_bad', colour='is_bad'), data=d2)\n",
    "\n",
    "# p + geom_density() + facet_wrap('variable')"
   ]
  },
  {
   "cell_type": "markdown",
   "metadata": {},
   "source": [
    "### Get only mature loans to make sure they had enough to be paid off "
   ]
  },
  {
   "cell_type": "code",
   "execution_count": 19,
   "metadata": {
    "collapsed": false
   },
   "outputs": [],
   "source": [
    "data_2012 = d_feat[data['year_issued'] <= 2012]"
   ]
  },
  {
   "cell_type": "markdown",
   "metadata": {},
   "source": [
    "##Ok, finally some sciency stuff"
   ]
  },
  {
   "cell_type": "markdown",
   "metadata": {},
   "source": [
    "###Split data into train and test datasets"
   ]
  },
  {
   "cell_type": "code",
   "execution_count": 20,
   "metadata": {
    "collapsed": false
   },
   "outputs": [],
   "source": [
    "from sklearn.cross_validation import train_test_split\n",
    "cols = [c for c in feature_cols if c != 'is_bad']\n",
    "X = data_2012[cols]\n",
    "y = data_2012.is_bad\n"
   ]
  },
  {
   "cell_type": "code",
   "execution_count": null,
   "metadata": {
    "collapsed": true
   },
   "outputs": [],
   "source": [
    "def run_prediction(X, y, model):\n",
    "    \n",
    "    X_train, X_test, y_train, y_test = train_test_split(X, y, random_state=1)\n",
    "    \n",
    "    print 'X_train\\t',X_train.shape\n",
    "    print 'X_test\\t',X_test.shape\n",
    "    print 'y_train\\t',y_train.shape\n",
    "    print 'y_test\\t',y_test.shape\n",
    "    \n",
    "    model.fit(X_train, y_train)\n",
    "    \n",
    "    print 'Coefficients for each X:'\n",
    "    print zip(cols, model.coef_[0])\n",
    "    \n",
    "    X_test_feat = X_test[cols].fillna(0)\n",
    "    y_pred = logreg.predict(X_test_feat)"
   ]
  },
  {
   "cell_type": "markdown",
   "metadata": {},
   "source": [
    "###Let's try some basic logistic regression first"
   ]
  },
  {
   "cell_type": "code",
   "execution_count": 22,
   "metadata": {
    "collapsed": false
   },
   "outputs": [
    {
     "data": {
      "text/plain": [
       "LogisticRegression(C=100000.0, class_weight=None, dual=False,\n",
       "          fit_intercept=True, intercept_scaling=1, max_iter=100,\n",
       "          multi_class='ovr', penalty='l2', random_state=None,\n",
       "          solver='liblinear', tol=0.0001, verbose=0)"
      ]
     },
     "execution_count": 22,
     "metadata": {},
     "output_type": "execute_result"
    }
   ],
   "source": [
    "from sklearn.linear_model import LogisticRegression\n",
    "logreg = LogisticRegression(C=1e5)\n",
    "\n",
    "# logreg.fit(X_train, y_train)"
   ]
  },
  {
   "cell_type": "markdown",
   "metadata": {},
   "source": [
    "### Coefficients for each X"
   ]
  },
  {
   "cell_type": "code",
   "execution_count": 23,
   "metadata": {
    "collapsed": false
   },
   "outputs": [
    {
     "data": {
      "text/plain": [
       "[('loan_amnt', 4.1478900731415287),\n",
       " ('annual_inc', -0.035035743657239139),\n",
       " ('fico_range_low', 0.12338816546789819),\n",
       " ('fico_range_high', 0.12333111624635743),\n",
       " ('inq_last_6mths', -0.58026976746966064),\n",
       " ('open_acc', 0.015745594142619723),\n",
       " ('pub_rec', 0.047295656558115184),\n",
       " ('revol_bal', -0.4159374566420278),\n",
       " ('total_acc', 0.29694990250780723),\n",
       " ('out_prncp', -2.0616125795291023),\n",
       " ('out_prncp_inv', -2.0386135121040017),\n",
       " ('total_pymnt', -3.0566519572482207),\n",
       " ('total_pymnt_inv', 2.8162052457810463),\n",
       " ('total_rec_prncp', -3.7667712266309077),\n",
       " ('total_rec_int', 0.34176454555473412),\n",
       " ('total_rec_late_fee', 0.10490878603320934),\n",
       " ('recoveries', 1.0867314527726084),\n",
       " ('collection_recovery_fee', -0.44391477068816582),\n",
       " ('last_pymnt_amnt', -2.3290052638807985),\n",
       " ('last_fico_range_high', -1.6753917871421007),\n",
       " ('last_fico_range_low', 0.12099118557133783),\n",
       " ('is_rent', -0.027271983224492122)]"
      ]
     },
     "execution_count": 23,
     "metadata": {},
     "output_type": "execute_result"
    }
   ],
   "source": [
    "# zip(cols, logreg.coef_[0])"
   ]
  },
  {
   "cell_type": "markdown",
   "metadata": {},
   "source": [
    "###Predict on the test set"
   ]
  },
  {
   "cell_type": "code",
   "execution_count": 24,
   "metadata": {
    "collapsed": true
   },
   "outputs": [],
   "source": [
    "X_test_feat = X_test[cols].fillna(0)\n",
    "y_pred = logreg.predict(X_test_feat)"
   ]
  },
  {
   "cell_type": "code",
   "execution_count": 25,
   "metadata": {
    "collapsed": true
   },
   "outputs": [],
   "source": [
    "from sklearn import metrics\n",
    "import numpy as np\n",
    "import matplotlib.pyplot as plt"
   ]
  },
  {
   "cell_type": "code",
   "execution_count": 26,
   "metadata": {
    "collapsed": false
   },
   "outputs": [
    {
     "name": "stdout",
     "output_type": "stream",
     "text": [
      "Accuracy:\t0.973932265599\n"
     ]
    }
   ],
   "source": [
    "print \"Accuracy:\\t\", (y_test == y_pred).mean()"
   ]
  },
  {
   "cell_type": "code",
   "execution_count": 27,
   "metadata": {
    "collapsed": false
   },
   "outputs": [
    {
     "name": "stdout",
     "output_type": "stream",
     "text": [
      "Confusion Matrix"
     ]
    },
    {
     "data": {
      "text/plain": [
       "array([[20425,   237],\n",
       "       [  388,  2926]])"
      ]
     },
     "execution_count": 27,
     "metadata": {},
     "output_type": "execute_result"
    },
    {
     "name": "stdout",
     "output_type": "stream",
     "text": [
      "\n"
     ]
    }
   ],
   "source": [
    "print 'Confusion Matrix', \n",
    "cm = metrics.confusion_matrix(y_test, y_pred)\n",
    "cm"
   ]
  },
  {
   "cell_type": "code",
   "execution_count": 28,
   "metadata": {
    "collapsed": false
   },
   "outputs": [],
   "source": [
    "def plot_confusion_matrix(cm, title='Confusion matrix', cmap=plt.cm.Blues):\n",
    "    plt.imshow(cm, interpolation='nearest', cmap=cmap)\n",
    "    plt.title(title)\n",
    "    plt.colorbar()\n",
    "    tick_marks = np.arange(2)\n",
    "    plt.xticks(tick_marks, ['Bad', 'Good'], rotation=45)\n",
    "    plt.yticks(tick_marks, ['Bad', 'Good'])\n",
    "    plt.tight_layout()\n",
    "    plt.ylabel('Actual')\n",
    "    plt.xlabel('Predicted')"
   ]
  },
  {
   "cell_type": "code",
   "execution_count": 29,
   "metadata": {
    "collapsed": false
   },
   "outputs": [
    {
     "name": "stdout",
     "output_type": "stream",
     "text": [
      "Confusion matrix, without normalization\n",
      "[[20425   237]\n",
      " [  388  2926]]\n"
     ]
    },
    {
     "data": {
      "image/png": "[encoded data removed]",
      "text/plain": [
       "<matplotlib.figure.Figure at 0x10ef45c10>"
      ]
     },
     "metadata": {},
     "output_type": "display_data"
    }
   ],
   "source": [
    "np.set_printoptions(precision=3)\n",
    "print('Confusion matrix, without normalization')\n",
    "print(cm)\n",
    "plt.figure()\n",
    "plot_confusion_matrix(cm)"
   ]
  },
  {
   "cell_type": "code",
   "execution_count": 30,
   "metadata": {
    "collapsed": false
   },
   "outputs": [
    {
     "name": "stdout",
     "output_type": "stream",
     "text": [
      "Normalized confusion matrix\n",
      "[[ 0.989  0.011]\n",
      " [ 0.117  0.883]]\n"
     ]
    },
    {
     "data": {
      "image/png": "[encoded data removed]",
      "text/plain": [
       "<matplotlib.figure.Figure at 0x10f369290>"
      ]
     },
     "metadata": {},
     "output_type": "display_data"
    }
   ],
   "source": [
    "# Normalize the confusion matrix by row (i.e by the number of samples\n",
    "# in each class)\n",
    "cm_normalized = cm.astype('float') / cm.sum(axis=1)[:, np.newaxis]\n",
    "print('Normalized confusion matrix')\n",
    "print(cm_normalized)\n",
    "plt.figure()\n",
    "plot_confusion_matrix(cm_normalized, title='Normalized confusion matrix')\n",
    "\n",
    "plt.show()"
   ]
  },
  {
   "cell_type": "code",
   "execution_count": 31,
   "metadata": {
    "collapsed": false
   },
   "outputs": [
    {
     "name": "stdout",
     "output_type": "stream",
     "text": [
      "MSE\t0.0260677344011\n",
      "RMSE\t0.161455053811\n"
     ]
    }
   ],
   "source": [
    "print 'MSE\\t', metrics.mean_squared_error(y_test, y_pred)\n",
    "print 'RMSE\\t', np.sqrt(metrics.mean_squared_error(y_test, y_pred))"
   ]
  },
  {
   "cell_type": "code",
   "execution_count": 32,
   "metadata": {
    "collapsed": false
   },
   "outputs": [
    {
     "name": "stdout",
     "output_type": "stream",
     "text": [
      "Test\t0.973932265599\n",
      "General\t0.974254968614\n"
     ]
    }
   ],
   "source": [
    "# X_test_feat\n",
    "print 'Test\\t', logreg.score(X_test_feat, y_test)\n",
    "print 'General\\t', logreg.score(X[cols].fillna(0), y)"
   ]
  },
  {
   "cell_type": "markdown",
   "metadata": {},
   "source": [
    "###Random Forest"
   ]
  },
  {
   "cell_type": "code",
   "execution_count": 33,
   "metadata": {
    "collapsed": false
   },
   "outputs": [
    {
     "data": {
      "text/plain": [
       "RandomForestClassifier(bootstrap=True, class_weight=None, criterion='gini',\n",
       "            max_depth=None, max_features='auto', max_leaf_nodes=None,\n",
       "            min_samples_leaf=1, min_samples_split=2,\n",
       "            min_weight_fraction_leaf=0.0, n_estimators=10, n_jobs=1,\n",
       "            oob_score=False, random_state=None, verbose=0,\n",
       "            warm_start=False)"
      ]
     },
     "execution_count": 33,
     "metadata": {},
     "output_type": "execute_result"
    }
   ],
   "source": [
    "from sklearn.ensemble import RandomForestClassifier\n",
    "# rf_features = ['last_fico_range_high','last_fico_range_low','pub_rec','revol_util',\n",
    "#                'inq_last_6mths','is_rent']\n",
    "rf = RandomForestClassifier()\n",
    "rf.fit(X_train, y_train)"
   ]
  },
  {
   "cell_type": "code",
   "execution_count": 34,
   "metadata": {
    "collapsed": true
   },
   "outputs": [],
   "source": [
    "rf_pred = rf.predict(X_test)"
   ]
  },
  {
   "cell_type": "code",
   "execution_count": 35,
   "metadata": {
    "collapsed": false
   },
   "outputs": [
    {
     "name": "stdout",
     "output_type": "stream",
     "text": [
      "Accuracy:\t0.98536036036\n"
     ]
    }
   ],
   "source": [
    "print \"Accuracy:\\t\", (y_test == rf_pred).mean()"
   ]
  },
  {
   "cell_type": "code",
   "execution_count": 36,
   "metadata": {
    "collapsed": false
   },
   "outputs": [
    {
     "name": "stdout",
     "output_type": "stream",
     "text": [
      "Confusion Matrix"
     ]
    },
    {
     "data": {
      "text/plain": [
       "array([[20609,    53],\n",
       "       [  298,  3016]])"
      ]
     },
     "execution_count": 36,
     "metadata": {},
     "output_type": "execute_result"
    },
    {
     "name": "stdout",
     "output_type": "stream",
     "text": [
      "\n"
     ]
    }
   ],
   "source": [
    "print 'Confusion Matrix', \n",
    "cm = metrics.confusion_matrix(y_test, rf_pred)\n",
    "cm"
   ]
  },
  {
   "cell_type": "code",
   "execution_count": 37,
   "metadata": {
    "collapsed": false
   },
   "outputs": [
    {
     "name": "stdout",
     "output_type": "stream",
     "text": [
      "Confusion matrix, without normalization\n",
      "[[20609    53]\n",
      " [  298  3016]]\n"
     ]
    },
    {
     "data": {
      "image/png": "[encoded data removed]",
      "text/plain": [
       "<matplotlib.figure.Figure at 0x10f8ae8d0>"
      ]
     },
     "metadata": {},
     "output_type": "display_data"
    }
   ],
   "source": [
    "np.set_printoptions(precision=3)\n",
    "print('Confusion matrix, without normalization')\n",
    "print(cm)\n",
    "plt.figure()\n",
    "plot_confusion_matrix(cm)"
   ]
  },
  {
   "cell_type": "code",
   "execution_count": 38,
   "metadata": {
    "collapsed": false
   },
   "outputs": [
    {
     "name": "stdout",
     "output_type": "stream",
     "text": [
      "Normalized confusion matrix\n",
      "[[ 0.997  0.003]\n",
      " [ 0.09   0.91 ]]\n"
     ]
    },
    {
     "data": {
      "image/png": "[encoded data removed]",
      "text/plain": [
       "<matplotlib.figure.Figure at 0x10f61af10>"
      ]
     },
     "metadata": {},
     "output_type": "display_data"
    }
   ],
   "source": [
    "# Normalize the confusion matrix by row (i.e by the number of samples\n",
    "# in each class)\n",
    "cm_normalized = cm.astype('float') / cm.sum(axis=1)[:, np.newaxis]\n",
    "print('Normalized confusion matrix')\n",
    "print(cm_normalized)\n",
    "plt.figure()\n",
    "plot_confusion_matrix(cm_normalized, title='Normalized confusion matrix')\n",
    "\n",
    "plt.show()"
   ]
  },
  {
   "cell_type": "markdown",
   "metadata": {},
   "source": [
    "###Let's try with PCA "
   ]
  },
  {
   "cell_type": "code",
   "execution_count": 39,
   "metadata": {
    "collapsed": true
   },
   "outputs": [],
   "source": [
    "from sklearn import decomposition\n",
    "pca = decomposition.PCA(n_components=.98)\n",
    "X_pca = pca.fit_transform(X)"
   ]
  },
  {
   "cell_type": "code",
   "execution_count": 40,
   "metadata": {
    "collapsed": false
   },
   "outputs": [
    {
     "data": {
      "text/plain": [
       "0.98777035267703939"
      ]
     },
     "execution_count": 40,
     "metadata": {},
     "output_type": "execute_result"
    }
   ],
   "source": [
    "pca.explained_variance_ratio_.sum()"
   ]
  },
  {
   "cell_type": "code",
   "execution_count": 41,
   "metadata": {
    "collapsed": false
   },
   "outputs": [
    {
     "name": "stdout",
     "output_type": "stream",
     "text": [
      "X\t(95902, 22)\n",
      "X_pca\t(95902, 15)\n",
      "\t15 components needed to explain 98%\t\n"
     ]
    }
   ],
   "source": [
    "print 'X\\t', X.shape\n",
    "print 'X_pca\\t', X_pca.shape\n",
    "print  '\\t', X_pca.shape[1], 'components needed to explain 98%\\t'\n"
   ]
  },
  {
   "cell_type": "code",
   "execution_count": 44,
   "metadata": {
    "collapsed": false
   },
   "outputs": [],
   "source": [
    "X_pca_train, X_pca_test, y_pca_train, y_pca_test = train_test_split(X_pca, y, random_state=1)"
   ]
  },
  {
   "cell_type": "code",
   "execution_count": 45,
   "metadata": {
    "collapsed": false
   },
   "outputs": [
    {
     "data": {
      "text/plain": [
       "RandomForestClassifier(bootstrap=True, class_weight=None, criterion='gini',\n",
       "            max_depth=None, max_features='auto', max_leaf_nodes=None,\n",
       "            min_samples_leaf=1, min_samples_split=2,\n",
       "            min_weight_fraction_leaf=0.0, n_estimators=10, n_jobs=1,\n",
       "            oob_score=False, random_state=None, verbose=0,\n",
       "            warm_start=False)"
      ]
     },
     "execution_count": 45,
     "metadata": {},
     "output_type": "execute_result"
    }
   ],
   "source": [
    "rf_pca = RandomForestClassifier()\n",
    "rf_pca.fit(X_pca_train, y_pca_train)"
   ]
  },
  {
   "cell_type": "code",
   "execution_count": 47,
   "metadata": {
    "collapsed": false
   },
   "outputs": [],
   "source": [
    "rf_pca_pred = rf_pca.predict(X_pca_test)"
   ]
  },
  {
   "cell_type": "code",
   "execution_count": 48,
   "metadata": {
    "collapsed": false
   },
   "outputs": [
    {
     "name": "stdout",
     "output_type": "stream",
     "text": [
      "Normalized confusion matrix\n",
      "[[ 0.985  0.015]\n",
      " [ 0.183  0.817]]\n"
     ]
    },
    {
     "data": {
      "image/png": "[encoded data removed]",
      "text/plain": [
       "<matplotlib.figure.Figure at 0x10f69ea90>"
      ]
     },
     "metadata": {},
     "output_type": "display_data"
    }
   ],
   "source": [
    "cm_pca = metrics.confusion_matrix(y_pca_test, rf_pca_pred)\n",
    "cm_pca_normalized = cm_pca.astype('float') / cm_pca.sum(axis=1)[:, np.newaxis]\n",
    "print('Normalized confusion matrix')\n",
    "print(cm_pca_normalized)\n",
    "plt.figure()\n",
    "plot_confusion_matrix(cm_pca_normalized, title='Normalized confusion matrix')\n",
    "\n",
    "plt.show()"
   ]
  },
  {
   "cell_type": "code",
   "execution_count": null,
   "metadata": {
    "collapsed": true
   },
   "outputs": [],
   "source": []
  }
 ],
 "metadata": {
  "kernelspec": {
   "display_name": "Python 2",
   "language": "python",
   "name": "python2"
  },
  "language_info": {
   "codemirror_mode": {
    "name": "ipython",
    "version": 2
   },
   "file_extension": ".py",
   "mimetype": "text/x-python",
   "name": "python",
   "nbconvert_exporter": "python",
   "pygments_lexer": "ipython2",
   "version": "2.7.9"
  }
 },
 "nbformat": 4,
 "nbformat_minor": 0
}
