{
 "cells": [
  {
   "cell_type": "markdown",
   "metadata": {},
   "source": [
    "# Lending Club Prediction Models"
   ]
  },
  {
   "cell_type": "markdown",
   "metadata": {},
   "source": [
    "The following was inspired by a very good yhat blog post that created a prediction model for Lending Club loans using R:\n",
    "http://blog.yhathq.com/posts/machine-learning-for-predicting-bad-loans.html\n",
    "\n",
    "The point of this exercise was to translate the yhat post into Python as much as possible and use sci-kit learn to evaluate several Machine Learning models."
   ]
  },
  {
   "cell_type": "code",
   "execution_count": 1,
   "metadata": {
    "collapsed": false
   },
   "outputs": [
    {
     "name": "stderr",
     "output_type": "stream",
     "text": [
      "[INFO] This non-commercial license of GraphLab Create is assigned to claus@calogica.comand will expire on September 21, 2016. For commercial licensing options, visit https://dato.com/buy/.\n",
      "\n",
      "[INFO] Start server at: ipc:///tmp/graphlab_server-73118 - Server binary: /Users/claus/anaconda/lib/python2.7/site-packages/graphlab/unity_server - Server log: /tmp/graphlab_server_1443397162.log\n",
      "[INFO] GraphLab Server Version: 1.6.1\n"
     ]
    }
   ],
   "source": [
    "import pandas as pd\n",
    "import graphlab as gl\n",
    "import numpy as np\n",
    "import datetime as dt\n",
    "import matplotlib.pyplot as plt\n",
    "import seaborn as sns\n",
    "import datetime\n",
    "pd.options.mode.chained_assignment = None \n",
    "\n",
    "sns.set(color_codes=True)\n",
    "\n",
    "%matplotlib inline"
   ]
  },
  {
   "cell_type": "markdown",
   "metadata": {},
   "source": [
    "## Data Acquisition\n",
    "Lending Club helpfully publishes anonymized loan data in csv format, which we'll use for this analysis.\n",
    "You have to have a Lending Club log in to access the data, which is available here:\n",
    "https://www.lendingclub.com/info/download-data.action\n",
    "\n",
    "I've copied the files used in this analysis to a public Dropbox folder here:\n",
    "https://dl.dropboxusercontent.com/u/12406727/Data/\n",
    "\n",
    "To start, we'll load the files into a single pandas data frame:"
   ]
  },
  {
   "cell_type": "code",
   "execution_count": 21,
   "metadata": {
    "collapsed": false
   },
   "outputs": [
    {
     "name": "stdout",
     "output_type": "stream",
     "text": [
      "PROGRESS: Unable to parse line \"\"131387\",\"113921\",\"6000\",\"6000\",\"600\",\" 36 months\",\" 10.59%\",\"195.27\",\"C\",\"C2\",\"Columbia University\",\"2 years\",\"RENT\",\"19000\",\"not verified\",\"Oct-2007\",\"Fully Paid\",\"n\",\"https://www.lendingclub.com/browse/loanDetail.action?loan_id=131387\",\"I'm currently a ...\"\n",
      "PROGRESS: Unable to parse line \"\"127213\",\"85483\",\"2000\",\"2000\",\"1575\",\" 36 months\",\"  7.12%\",\"61.87\",\"A\",\"A1\",\"U.S. Government\",\"10+ years\",\"MORTGAGE\",\"118000\",\"not verified\",\"Sep-2007\",\"Fully Paid\",\"n\",\"https://www.lendingclub.com/browse/loanDetail.action?loan_id=127213\",\"consolidate de...\"\n",
      "PROGRESS: Unable to parse line \"\"84918\",\"84914\",\"5000\",\"5000\",\"2025\",\" 36 months\",\"  7.43%\",\"155.38\",\"A\",\"A2\",\"Revere Public Schools\",\"10+ years\",\"MORTGAGE\",\"65000\",\"not verified\",\"Sep-2007\",\"Fully Paid\",\"n\",\"https://www.lendingclub.com/browse/loanDetail.action?loan_id=84918\",\"I'd like t...\"\n",
      "PROGRESS: Unable to parse line \"\"121568\",\"121574\",\"4000\",\"4000\",\"1925\",\" 36 months\",\"  9.64%\",\"128.41\",\"B\",\"B4\",\"\",\"< 1 year\",\"NONE\",\"100000\",\"not verified\",\"Aug-2007\",\"Fully Paid\",\"n\",\"https://www.lendingclub.com/browse/loanDetail.action?loan_id=121568\",\"I took a high interest loan from...\"\n",
      "PROGRESS: Unable to parse line \"\"121535\",\"121373\",\"2800\",\"2800\",\"1625\",\" 36 months\",\"  8.70%\",\"88.65\",\"B\",\"B1\",\"\",\"< 1 year\",\"NONE\",\"120000\",\"not verified\",\"Aug-2007\",\"Fully Paid\",\"n\",\"https://www.lendingclub.com/browse/loanDetail.action?loan_id=121535\",\"The family is expanding in Octobe...\"\n",
      "PROGRESS: Unable to parse line \"\"119043\",\"119040\",\"15450\",\"15450\",\"600\",\" 36 months\",\" 11.22%\",\"507.46\",\"C\",\"C4\",\"ARIN\",\"2 years\",\"MORTGAGE\",\"40000\",\"not verified\",\"Aug-2007\",\"Charged Off\",\"n\",\"https://www.lendingclub.com/browse/loanDetail.action?loan_id=119043\",\"Thank you for reviewing ...\"\n",
      "PROGRESS: Unable to parse line \"\"118823\",\"118026\",\"2500\",\"2500\",\"675\",\" 36 months\",\" 12.80%\",\"84\",\"D\",\"D4\",\"Nebraska Occupational Therapy\",\"< 1 year\",\"MORTGAGE\",\"32000\",\"not verified\",\"Aug-2007\",\"Charged Off\",\"n\",\"https://www.lendingclub.com/browse/loanDetail.action?loan_id=118823\",\"Work...\"\n",
      "PROGRESS: Unable to parse line \"\"118533\",\"117783\",\"2500\",\"2500\",\"825\",\" 36 months\",\"  9.64%\",\"80.26\",\"B\",\"B4\",\"AMZ Marketing\",\"< 1 year\",\"MORTGAGE\",\"75000\",\"not verified\",\"Aug-2007\",\"Charged Off\",\"n\",\"https://www.lendingclub.com/browse/loanDetail.action?loan_id=118533\",\"Putting in a new ...\"\n",
      "PROGRESS: Unable to parse line \"\"118523\",\"118519\",\"6500\",\"6500\",\"225\",\" 36 months\",\" 15.01%\",\"225.37\",\"F\",\"F1\",\"Universal Advertising\",\"9 years\",\"MORTGAGE\",\"213000\",\"not verified\",\"Aug-2007\",\"Charged Off\",\"n\",\"https://www.lendingclub.com/browse/loanDetail.action?loan_id=118523\",\"Used to ...\"\n",
      "PROGRESS: Unable to parse line \"\"117863\",\"117849\",\"8000\",\"8000\",\"2275\",\" 36 months\",\"  9.96%\",\"257.99\",\"B\",\"B5\",\"Inglis Farm\",\"3 years\",\"RENT\",\"48000\",\"not verified\",\"Aug-2007\",\"Fully Paid\",\"n\",\"https://www.lendingclub.com/browse/loanDetail.action?loan_id=117863\",\"My Wife & I are having ...\"\n",
      "PROGRESS: 148 lines failed to parse correctly\n",
      "PROGRESS: Finished parsing file /Users/claus/Dropbox/Public/Data/LoanStats3a_securev1.csv\n",
      "PROGRESS: Parsing completed. Parsed 42390 lines in 1.03034 secs.\n",
      "PROGRESS: Read 91393 lines. Lines per second: 42466.5\n",
      "PROGRESS: Unable to parse line \"Total amount funded in policy code 1: 2700420250\"\n",
      "PROGRESS: Unable to parse line \"Total amount funded in policy code 2: 82622275\"\n",
      "PROGRESS: 2 lines failed to parse correctly\n",
      "PROGRESS: Finished parsing file /Users/claus/Dropbox/Public/Data/LoanStats3b_securev1.csv\n",
      "PROGRESS: Parsing completed. Parsed 188123 lines in 3.18632 secs.\n",
      "PROGRESS: Unable to parse line \"Total amount funded in policy code 1: 3503840175\"\n",
      "PROGRESS: Unable to parse line \"Total amount funded in policy code 2: 873663239\"\n",
      "PROGRESS: Read 198304 lines. Lines per second: 63202.3\n",
      "PROGRESS: 2 lines failed to parse correctly\n",
      "PROGRESS: Finished parsing file /Users/claus/Dropbox/Public/Data/LoanStats3c_securev1.csv\n",
      "PROGRESS: Parsing completed. Parsed 235629 lines in 3.46056 secs.\n",
      "PROGRESS: Unable to parse line \"Total amount funded in policy code 1: 1290044375\"\n",
      "PROGRESS: Unable to parse line \"Total amount funded in policy code 2: 345045816\"\n",
      "PROGRESS: 2 lines failed to parse correctly\n",
      "PROGRESS: Finished parsing file /Users/claus/Dropbox/Public/Data/LoanStats3d_securev1.csv\n",
      "PROGRESS: Parsing completed. Parsed 84277 lines in 1.56879 secs.\n"
     ]
    }
   ],
   "source": [
    "# file_base_url = \"https://dl.dropboxusercontent.com/u/12406727/Data/{0}\"\n",
    "file_base_url = \"~/Dropbox/Public/Data/{0}\"\n",
    "column_type_hints = [int, int, int, int, int, str, str, str, str, str, str, str, str, int, str, str, str, str, str, str, str, str, str, str, str, str, str, str, str, str, str, str, int, int, int, str, int, str, float, float, float, float, float, float, float, float, float, str, float, str, str, int, int, int, str, int]\n",
    "a = gl.SFrame.read_csv(file_base_url.format(\"LoanStats3a_securev1.csv\"), skiprows=1, column_type_hints = column_type_hints)\n",
    "b = a.append(gl.SFrame.read_csv(file_base_url.format(\"LoanStats3b_securev1.csv\"), skiprows=1, column_type_hints=column_type_hints))\n",
    "c = b.append(gl.SFrame.read_csv(file_base_url.format(\"LoanStats3c_securev1.csv\"), skiprows=1, column_type_hints=column_type_hints))\n",
    "d = c.append(gl.SFrame.read_csv(file_base_url.format(\"LoanStats3d_securev1.csv\"), skiprows=1, column_type_hints=column_type_hints))\n",
    "                    \n",
    "# a = pd.read_csv(file_base_url.format(\"LoanStats3a_securev1.csv\"), index_col='id', header=1, parse_dates=['issue_d'])\n",
    "# b = pd.read_csv(file_base_url.format(\"LoanStats3b_securev1.csv\"), index_col='id', header=1, parse_dates=['issue_d'])\n",
    "# c = pd.read_csv(file_base_url.format(\"LoanStats3c_securev1.csv\"), index_col='id', header=1, parse_dates=['issue_d'])\n",
    "# d = pd.read_csv(file_base_url.format(\"LoanStats3d_securev1.csv\"), index_col='id', header=1, parse_dates=['issue_d'])\n",
    "\n",
    "# frames = [a,b,c,d]\n",
    "# df = pd.concat(frames)"
   ]
  },
  {
   "cell_type": "code",
   "execution_count": 23,
   "metadata": {
    "collapsed": false
   },
   "outputs": [
    {
     "name": "stdout",
     "output_type": "stream",
     "text": [
      "Records: 550419\n"
     ]
    }
   ],
   "source": [
    "print 'Records:', len(d)\n",
    "# df.describe()"
   ]
  },
  {
   "cell_type": "markdown",
   "metadata": {},
   "source": [
    "## Data Prep & Cleanup\n",
    "We'll need to do a bit of data cleanup and we'll follow the yhat post pretty closely here."
   ]
  },
  {
   "cell_type": "code",
   "execution_count": 24,
   "metadata": {
    "collapsed": false
   },
   "outputs": [],
   "source": [
    "del d['desc']\n",
    "del d['mths_since_last_record']"
   ]
  },
  {
   "cell_type": "markdown",
   "metadata": {},
   "source": [
    "### Drop columns with more than 80% NA values\n",
    "This also drops any totals columns that might have snuck in."
   ]
  },
  {
   "cell_type": "code",
   "execution_count": 29,
   "metadata": {
    "collapsed": false
   },
   "outputs": [],
   "source": [
    "data = d #[d['member_id'] > 0].dropna(axis=1,thresh=len(d['member_id'])*.80)"
   ]
  },
  {
   "cell_type": "code",
   "execution_count": 42,
   "metadata": {
    "collapsed": false
   },
   "outputs": [
    {
     "name": "stdout",
     "output_type": "stream",
     "text": [
      "Canvas is accessible via web browser at the URL: http://localhost:50602/index.html\n",
      "Opening Canvas in default web browser.\n"
     ]
    }
   ],
   "source": [
    "data.show()"
   ]
  },
  {
   "cell_type": "markdown",
   "metadata": {},
   "source": [
    "### Tag bad loans"
   ]
  },
  {
   "cell_type": "code",
   "execution_count": 38,
   "metadata": {
    "collapsed": true
   },
   "outputs": [],
   "source": [
    "bad_indicators = ['Late (16-30 days)', 'Late (31-120 days)', 'Default', 'Charged Off']"
   ]
  },
  {
   "cell_type": "code",
   "execution_count": 41,
   "metadata": {
    "collapsed": false
   },
   "outputs": [
    {
     "data": {
      "text/plain": [
       "dtype: int\n",
       "Rows: 550419\n",
       "[0, 1, 0, 0, 0, 0, 0, 0, 1, 1, 0, 0, 1, 0, 1, 0, 0, 0, 0, 0, 0, 1, 0, 0, 1, 0, 1, 1, 0, 0, 0, 0, 0, 0, 0, 0, 0, 0, 0, 0, 0, 0, 0, 0, 0, 0, 1, 0, 0, 0, 1, 0, 0, 1, 0, 1, 0, 0, 0, 0, 0, 0, 0, 0, 1, 0, 1, 0, 1, 0, 0, 1, 0, 0, 0, 0, 0, 0, 0, 0, 0, 0, 0, 0, 0, 0, 0, 0, 0, 0, 0, 0, 0, 0, 0, 0, 0, 1, 0, 0, ... ]"
      ]
     },
     "execution_count": 41,
     "metadata": {},
     "output_type": "execute_result"
    }
   ],
   "source": [
    "# set is_bad indicator to true to loans in status with 'bad' indicators\n",
    "data['is_bad'] = data.apply(lambda x: x['loan_status'] in bad_indicators)\n",
    "# data[data.filter_by(bad_indicators, 'loan_status')]['is_bad'] = True\n",
    "data['is_bad']\n",
    "# data.loc[data['loan_status'].isin(bad_indicators), 'is_bad'] = True\n",
    "# data.loc[data['loan_status'] ==\"\", 'is_bad'] = np.nan"
   ]
  },
  {
   "cell_type": "code",
   "execution_count": 43,
   "metadata": {
    "collapsed": false
   },
   "outputs": [
    {
     "name": "stdout",
     "output_type": "stream",
     "text": [
      "Total loans:\t550419\n",
      "Bad loans:\t35369\n",
      "Bad loan %:\t0.0642583195711\n"
     ]
    }
   ],
   "source": [
    "# how many bad loans?\n",
    "print 'Total loans:\\t', len(data)\n",
    "print 'Bad loans:\\t', len(data[data['is_bad']==True])\n",
    "print 'Bad loan %:\\t', len(data[data['is_bad']==True])*1./len(data)*1."
   ]
  },
  {
   "cell_type": "markdown",
   "metadata": {},
   "source": [
    "## Data Type Cleanup"
   ]
  },
  {
   "cell_type": "code",
   "execution_count": 19,
   "metadata": {
    "collapsed": false
   },
   "outputs": [],
   "source": [
    "def convert_date(x):\n",
    "    try:\n",
    "        return pd.datetime.strptime(x, '%b-%Y')\n",
    "    except:\n",
    "        print x\n",
    "        raise\n",
    "        \n",
    "# sometimes this necessary, sometimes not...probably depends on version of pandas installed\n",
    "# dateparse = lambda x: convert_date(x)\n",
    "# data.loc[:,'issue_d'] = data.issue_d.map(dateparse)"
   ]
  },
  {
   "cell_type": "markdown",
   "metadata": {},
   "source": [
    "### Dates"
   ]
  },
  {
   "cell_type": "code",
   "execution_count": 44,
   "metadata": {
    "collapsed": false
   },
   "outputs": [
    {
     "ename": "TypeError",
     "evalue": "data type not understood",
     "output_type": "error",
     "traceback": [
      "\u001b[0;31m---------------------------------------------------------------------------\u001b[0m",
      "\u001b[0;31mTypeError\u001b[0m                                 Traceback (most recent call last)",
      "\u001b[0;32m<ipython-input-44-05e561511dca>\u001b[0m in \u001b[0;36m<module>\u001b[0;34m()\u001b[0m\n\u001b[0;32m----> 1\u001b[0;31m \u001b[0mdata\u001b[0m\u001b[0;34m[\u001b[0m\u001b[0;34m'issue_d'\u001b[0m\u001b[0;34m]\u001b[0m \u001b[0;34m=\u001b[0m \u001b[0mpd\u001b[0m\u001b[0;34m.\u001b[0m\u001b[0mto_datetime\u001b[0m\u001b[0;34m(\u001b[0m\u001b[0mdata\u001b[0m\u001b[0;34m[\u001b[0m\u001b[0;34m'issue_d'\u001b[0m\u001b[0;34m]\u001b[0m\u001b[0;34m)\u001b[0m\u001b[0;34m\u001b[0m\u001b[0m\n\u001b[0m\u001b[1;32m      2\u001b[0m \u001b[0;31m# data.loc[:,'year_issued'] = data.issue_d.dt.year\u001b[0m\u001b[0;34m\u001b[0m\u001b[0;34m\u001b[0m\u001b[0m\n\u001b[1;32m      3\u001b[0m \u001b[0;31m# data.loc[:,'month_issued'] = data.issue_d.dt.month\u001b[0m\u001b[0;34m\u001b[0m\u001b[0;34m\u001b[0m\u001b[0m\n\u001b[1;32m      4\u001b[0m \u001b[0;31m# data.loc[:,'earliest_cr_line'] = pd.to_datetime(data.earliest_cr_line)\u001b[0m\u001b[0;34m\u001b[0m\u001b[0;34m\u001b[0m\u001b[0m\n\u001b[1;32m      5\u001b[0m \u001b[0;31m# data.loc[:,'revol_util'] = data['revol_util'].str.replace(\"[%]\", \"\").astype(float)\u001b[0m\u001b[0;34m\u001b[0m\u001b[0;34m\u001b[0m\u001b[0m\n",
      "\u001b[0;32m/Users/claus/anaconda/lib/python2.7/site-packages/pandas/tseries/tools.pyc\u001b[0m in \u001b[0;36mto_datetime\u001b[0;34m(arg, errors, dayfirst, utc, box, format, exact, coerce, unit, infer_datetime_format)\u001b[0m\n\u001b[1;32m    341\u001b[0m         \u001b[0;32mreturn\u001b[0m \u001b[0mSeries\u001b[0m\u001b[0;34m(\u001b[0m\u001b[0mvalues\u001b[0m\u001b[0;34m,\u001b[0m \u001b[0mindex\u001b[0m\u001b[0;34m=\u001b[0m\u001b[0marg\u001b[0m\u001b[0;34m.\u001b[0m\u001b[0mindex\u001b[0m\u001b[0;34m,\u001b[0m \u001b[0mname\u001b[0m\u001b[0;34m=\u001b[0m\u001b[0marg\u001b[0m\u001b[0;34m.\u001b[0m\u001b[0mname\u001b[0m\u001b[0;34m)\u001b[0m\u001b[0;34m\u001b[0m\u001b[0m\n\u001b[1;32m    342\u001b[0m     \u001b[0;32melif\u001b[0m \u001b[0mcom\u001b[0m\u001b[0;34m.\u001b[0m\u001b[0mis_list_like\u001b[0m\u001b[0;34m(\u001b[0m\u001b[0marg\u001b[0m\u001b[0;34m)\u001b[0m\u001b[0;34m:\u001b[0m\u001b[0;34m\u001b[0m\u001b[0m\n\u001b[0;32m--> 343\u001b[0;31m         \u001b[0;32mreturn\u001b[0m \u001b[0m_convert_listlike\u001b[0m\u001b[0;34m(\u001b[0m\u001b[0marg\u001b[0m\u001b[0;34m,\u001b[0m \u001b[0mbox\u001b[0m\u001b[0;34m,\u001b[0m \u001b[0mformat\u001b[0m\u001b[0;34m)\u001b[0m\u001b[0;34m\u001b[0m\u001b[0m\n\u001b[0m\u001b[1;32m    344\u001b[0m \u001b[0;34m\u001b[0m\u001b[0m\n\u001b[1;32m    345\u001b[0m     \u001b[0;32mreturn\u001b[0m \u001b[0m_convert_listlike\u001b[0m\u001b[0;34m(\u001b[0m\u001b[0mnp\u001b[0m\u001b[0;34m.\u001b[0m\u001b[0marray\u001b[0m\u001b[0;34m(\u001b[0m\u001b[0;34m[\u001b[0m \u001b[0marg\u001b[0m \u001b[0;34m]\u001b[0m\u001b[0;34m)\u001b[0m\u001b[0;34m,\u001b[0m \u001b[0mbox\u001b[0m\u001b[0;34m,\u001b[0m \u001b[0mformat\u001b[0m\u001b[0;34m)\u001b[0m\u001b[0;34m[\u001b[0m\u001b[0;36m0\u001b[0m\u001b[0;34m]\u001b[0m\u001b[0;34m\u001b[0m\u001b[0m\n",
      "\u001b[0;32m/Users/claus/anaconda/lib/python2.7/site-packages/pandas/tseries/tools.pyc\u001b[0m in \u001b[0;36m_convert_listlike\u001b[0;34m(arg, box, format)\u001b[0m\n\u001b[1;32m    264\u001b[0m             \u001b[0marg\u001b[0m \u001b[0;34m=\u001b[0m \u001b[0mnp\u001b[0m\u001b[0;34m.\u001b[0m\u001b[0marray\u001b[0m\u001b[0;34m(\u001b[0m\u001b[0marg\u001b[0m\u001b[0;34m,\u001b[0m \u001b[0mdtype\u001b[0m\u001b[0;34m=\u001b[0m\u001b[0;34m'O'\u001b[0m\u001b[0;34m)\u001b[0m\u001b[0;34m\u001b[0m\u001b[0m\n\u001b[1;32m    265\u001b[0m \u001b[0;34m\u001b[0m\u001b[0m\n\u001b[0;32m--> 266\u001b[0;31m         \u001b[0;32mif\u001b[0m \u001b[0mcom\u001b[0m\u001b[0;34m.\u001b[0m\u001b[0mis_datetime64_ns_dtype\u001b[0m\u001b[0;34m(\u001b[0m\u001b[0marg\u001b[0m\u001b[0;34m)\u001b[0m\u001b[0;34m:\u001b[0m\u001b[0;34m\u001b[0m\u001b[0m\n\u001b[0m\u001b[1;32m    267\u001b[0m             \u001b[0;32mif\u001b[0m \u001b[0mbox\u001b[0m \u001b[0;32mand\u001b[0m \u001b[0;32mnot\u001b[0m \u001b[0misinstance\u001b[0m\u001b[0;34m(\u001b[0m\u001b[0marg\u001b[0m\u001b[0;34m,\u001b[0m \u001b[0mDatetimeIndex\u001b[0m\u001b[0;34m)\u001b[0m\u001b[0;34m:\u001b[0m\u001b[0;34m\u001b[0m\u001b[0m\n\u001b[1;32m    268\u001b[0m                 \u001b[0;32mtry\u001b[0m\u001b[0;34m:\u001b[0m\u001b[0;34m\u001b[0m\u001b[0m\n",
      "\u001b[0;32m/Users/claus/anaconda/lib/python2.7/site-packages/pandas/core/common.pyc\u001b[0m in \u001b[0;36mis_datetime64_ns_dtype\u001b[0;34m(arr_or_dtype)\u001b[0m\n\u001b[1;32m   2512\u001b[0m \u001b[0;32mdef\u001b[0m \u001b[0mis_datetime64_ns_dtype\u001b[0m\u001b[0;34m(\u001b[0m\u001b[0marr_or_dtype\u001b[0m\u001b[0;34m)\u001b[0m\u001b[0;34m:\u001b[0m\u001b[0;34m\u001b[0m\u001b[0m\n\u001b[1;32m   2513\u001b[0m     \u001b[0mtipo\u001b[0m \u001b[0;34m=\u001b[0m \u001b[0m_get_dtype\u001b[0m\u001b[0;34m(\u001b[0m\u001b[0marr_or_dtype\u001b[0m\u001b[0;34m)\u001b[0m\u001b[0;34m\u001b[0m\u001b[0m\n\u001b[0;32m-> 2514\u001b[0;31m     \u001b[0;32mreturn\u001b[0m \u001b[0mtipo\u001b[0m \u001b[0;34m==\u001b[0m \u001b[0m_NS_DTYPE\u001b[0m\u001b[0;34m\u001b[0m\u001b[0m\n\u001b[0m\u001b[1;32m   2515\u001b[0m \u001b[0;34m\u001b[0m\u001b[0m\n\u001b[1;32m   2516\u001b[0m \u001b[0;32mdef\u001b[0m \u001b[0mis_timedelta64_dtype\u001b[0m\u001b[0;34m(\u001b[0m\u001b[0marr_or_dtype\u001b[0m\u001b[0;34m)\u001b[0m\u001b[0;34m:\u001b[0m\u001b[0;34m\u001b[0m\u001b[0m\n",
      "\u001b[0;31mTypeError\u001b[0m: data type not understood"
     ]
    }
   ],
   "source": [
    "data['issue_d'] = pd.to_datetime(data['issue_d'])\n",
    "# data.loc[:,'year_issued'] = data.issue_d.dt.year\n",
    "# data.loc[:,'month_issued'] = data.issue_d.dt.month\n",
    "# data.loc[:,'earliest_cr_line'] = pd.to_datetime(data.earliest_cr_line)\n",
    "# data.loc[:,'revol_util'] = data['revol_util'].str.replace(\"[%]\", \"\").astype(float)\n",
    "# data.loc[:,'revol_util'] = data['revol_util'].astype(float)"
   ]
  },
  {
   "cell_type": "markdown",
   "metadata": {},
   "source": [
    "### Categorical Features"
   ]
  },
  {
   "cell_type": "code",
   "execution_count": null,
   "metadata": {
    "collapsed": true
   },
   "outputs": [],
   "source": [
    "data.home_ownership = data.home_ownership.astype('category')\n",
    "data.loc[:,'is_rent'] = False\n",
    "data.loc[data['home_ownership'].isin(['RENT']), 'is_rent'] = True\n",
    "data.loc[:,'fico_range'] = data.fico_range_high.astype('category')\n",
    "data.loc[:,'fico_ordered'] = data.fico_range_high.astype('float')"
   ]
  },
  {
   "cell_type": "code",
   "execution_count": 22,
   "metadata": {
    "collapsed": true
   },
   "outputs": [],
   "source": [
    "feature_cols = ['is_bad', 'loan_amnt', 'annual_inc', 'fico_range_low', 'fico_range_high', \n",
    "                'inq_last_6mths', 'open_acc', 'pub_rec', 'revol_bal', 'total_acc', \n",
    "                'out_prncp', 'out_prncp_inv', 'total_pymnt', 'total_pymnt_inv', \n",
    "                'total_rec_prncp', 'total_rec_int', 'total_rec_late_fee', \n",
    "                'recoveries', 'collection_recovery_fee', 'last_pymnt_amnt', \n",
    "                'last_fico_range_high', 'last_fico_range_low',\n",
    "                'is_rent']"
   ]
  },
  {
   "cell_type": "markdown",
   "metadata": {},
   "source": [
    "### Scaling"
   ]
  },
  {
   "cell_type": "code",
   "execution_count": 23,
   "metadata": {
    "collapsed": false
   },
   "outputs": [],
   "source": [
    "# # get numeric columns only, _get_numeric_data is private\n",
    "numeric_cols = [c for c in data._get_numeric_data().columns if not c == 'is_bad']\n",
    "d_feat = data[feature_cols].fillna(0)"
   ]
  },
  {
   "cell_type": "code",
   "execution_count": 29,
   "metadata": {
    "collapsed": false
   },
   "outputs": [],
   "source": [
    "d_feat;"
   ]
  },
  {
   "cell_type": "markdown",
   "metadata": {},
   "source": [
    "### Scale numeric columns\n",
    "We'll scale all numeric columns by adjusting them by their means and standard deviations."
   ]
  },
  {
   "cell_type": "code",
   "execution_count": 27,
   "metadata": {
    "collapsed": true
   },
   "outputs": [],
   "source": [
    "for c in d_feat.columns:\n",
    "    if c in numeric_cols: \n",
    "        d_feat.loc[:,c] = (d_feat[c]-d_feat[c].mean())/d_feat[c].std()\n"
   ]
  },
  {
   "cell_type": "markdown",
   "metadata": {},
   "source": [
    "### Get only mature loans to make sure they had enough to be paid off "
   ]
  },
  {
   "cell_type": "code",
   "execution_count": 32,
   "metadata": {
    "collapsed": false
   },
   "outputs": [],
   "source": [
    "data_2012 = d_feat[data['year_issued'] <= 2012]"
   ]
  },
  {
   "cell_type": "code",
   "execution_count": 33,
   "metadata": {
    "collapsed": false
   },
   "outputs": [
    {
     "name": "stdout",
     "output_type": "stream",
     "text": [
      "Total loans:\t95902\n",
      "Bad loans:\t13386\n",
      "Bad loan %:\t0.139579987904\n"
     ]
    }
   ],
   "source": [
    "print 'Total loans:\\t', len(data_2012.index)\n",
    "print 'Bad loans:\\t', len(data_2012[data_2012['is_bad']==True])\n",
    "print 'Bad loan %:\\t', len(data_2012[data_2012['is_bad']==True])*1./len(data_2012)*1."
   ]
  },
  {
   "cell_type": "markdown",
   "metadata": {},
   "source": [
    "## Prediction Modeling\n",
    "We'll use sci-kit learn for all models, to create a model designed to predict whether a loan will be 'bad'. "
   ]
  },
  {
   "cell_type": "code",
   "execution_count": 34,
   "metadata": {
    "collapsed": false
   },
   "outputs": [],
   "source": [
    "from sklearn.cross_validation import train_test_split\n",
    "from sklearn.cross_validation import cross_val_score\n",
    "from sklearn.metrics import roc_curve, auc\n",
    "\n",
    "from sklearn import metrics\n",
    "import numpy as np\n",
    "import matplotlib.pyplot as plt"
   ]
  },
  {
   "cell_type": "code",
   "execution_count": 36,
   "metadata": {
    "collapsed": true
   },
   "outputs": [],
   "source": [
    "cols = [c for c in feature_cols if c != 'is_bad']\n",
    "X = data_2012[cols]\n",
    "y = data_2012.is_bad"
   ]
  },
  {
   "cell_type": "markdown",
   "metadata": {},
   "source": [
    "A few helper functions:"
   ]
  },
  {
   "cell_type": "code",
   "execution_count": 37,
   "metadata": {
    "collapsed": true
   },
   "outputs": [],
   "source": [
    "def plot_confusion_matrix(cm, title='Confusion matrix', cmap=plt.cm.Blues):\n",
    "    plt.figure()\n",
    "    plt.imshow(cm, interpolation='nearest', cmap=cmap)\n",
    "    plt.title(title)\n",
    "    plt.colorbar()\n",
    "    tick_marks = np.arange(2)\n",
    "    plt.xticks(tick_marks, ['Bad', 'Good'], rotation=45)\n",
    "    plt.yticks(tick_marks, ['Bad', 'Good'])\n",
    "    plt.tight_layout()\n",
    "    plt.ylabel('Actual')\n",
    "    plt.xlabel('Predicted')\n",
    "    plt.show()\n",
    "\n",
    "def plot_roc(actual, predictions):\n",
    "    false_positive_rate, true_positive_rate, thresholds = roc_curve(actual, predictions)\n",
    "\n",
    "    roc_auc = auc(false_positive_rate, true_positive_rate)\n",
    "    print \"thresholds:\", thresholds\n",
    "    print \"AUC:\", roc_auc\n",
    "    \n",
    "    plt.figure(figsize=(12,9))\n",
    "    plt.title('ROC')\n",
    "    plt.plot(false_positive_rate, true_positive_rate, 'b', label='AUC = %0.6f'% roc_auc)\n",
    "    plt.legend(loc='lower right')\n",
    "    plt.plot([0,1],[0,1],'r--')\n",
    "    plt.xlim([-0.1,1.2])\n",
    "    plt.ylim([-0.1,1.2])\n",
    "    plt.ylabel('True Positive Rate')\n",
    "    plt.xlabel('False Positive Rate')\n",
    "    plt.show()\n",
    "\n",
    "def plot_histogram(data, bins=50):\n",
    "    f = plt.figure(figsize=(12,9))\n",
    "    plt.title('Histogram')\n",
    "    ax = f.add_subplot(111)\n",
    "    ax.hist(data, bins=bins)\n",
    "    plt.show()\n",
    "    "
   ]
  },
  {
   "cell_type": "code",
   "execution_count": 38,
   "metadata": {
    "collapsed": false
   },
   "outputs": [],
   "source": [
    "def run_prediction(X, y, model):\n",
    "    \n",
    "    X_train, X_test, y_train, y_test = train_test_split(X, y)\n",
    "    \n",
    "    print '----------------------------'\n",
    "    print 'X_train\\t',X_train.shape\n",
    "    print 'X_test\\t',X_test.shape\n",
    "    print 'y_train\\t',y_train.shape\n",
    "    print 'y_test\\t',y_test.shape\n",
    "    print '----------------------------'\n",
    "    \n",
    "    print '\\n'\n",
    "    print '-----------------------------------------'\n",
    "    print 'Running model with train/test split...'\n",
    "    print '-----------------------------------------'\n",
    "\n",
    "    X_train_feat = X_train[cols].fillna(0)\n",
    "    #fit on training data\n",
    "    model.fit(X_train, y_train)\n",
    "\n",
    "# uncomment to print out the coefficients\n",
    "\n",
    "#     if hasattr(model, 'coef_'):\n",
    "#         print '\\n'\n",
    "#         print 'Coefficients for each X:\\n'\n",
    "#         coeff = zip(cols, model.coef_[0])\n",
    "#         for c, e in coeff:\n",
    "#             print c, '\\t', e\n",
    "    X_test_feat = X_test[cols].fillna(0)\n",
    "\n",
    "#     y_pred = None\n",
    "#     if hasattr(model, 'predict_proba'):\n",
    "#         y_pred = model.predict_proba(X_test_feat)\n",
    "#     else:\n",
    "    y_pred = model.predict(X_test_feat)\n",
    "    \n",
    "    y_score = None\n",
    "    if hasattr(model, 'decision_function'):\n",
    "        y_score = model.fit(X_train, y_train).decision_function(X_test_feat)\n",
    "    \n",
    "    accuracy = metrics.accuracy_score(y_test, y_pred)\n",
    "    print \"Accuracy of model:\\t\", accuracy #(y_test == y_pred).mean()\n",
    "  \n",
    "    data_split = { 'X_train': X_train_feat, \n",
    "                'X_test': X_test_feat, \n",
    "                'y_train': y_train, \n",
    "                'y_test': y_test, \n",
    "                'y_pred': y_pred\n",
    "           }\n",
    "    return model, data_split, y_score\n",
    "\n",
    "def confusion_matrix(y_test, y_pred):\n",
    "#     print 'Confusion Matrix\\n', \n",
    "    cm = metrics.confusion_matrix(y_test, y_pred)\n",
    "#     print cm\n",
    "    \n",
    "    np.set_printoptions(precision=3)\n",
    "#     print '\\n'\n",
    "#     print 'Confusion matrix, without normalization\\n'\n",
    "#     plt.figure()\n",
    "#     plot_confusion_matrix(cm)\n",
    "#     plt.show()\n",
    "    \n",
    "    # Normalize the confusion matrix by row (i.e by the number of samples\n",
    "    # in each class)\n",
    "    cm_normalized = cm.astype('float') / cm.sum(axis=1)[:, np.newaxis]\n",
    "    print '\\nNormalized confusion matrix'\n",
    "    print(cm_normalized)\n",
    "    \n",
    "    plot_confusion_matrix(cm_normalized, title='Normalized confusion matrix')\n",
    "\n",
    "    return cm \n",
    "\n",
    "def model_metrics(model, X, y, data_split):\n",
    "    \n",
    "    print '-----------------------------------------'\n",
    "    print 'Metrics:'\n",
    "    print '-----------------------------------------'\n",
    "    y_test = data_split['y_test']\n",
    "    y_pred = data_split['y_pred']\n",
    "    \n",
    "    X_train = data_split['X_train']\n",
    "    X_test = data_split['X_test']\n",
    "    y_train = data_split['y_train']\n",
    "    \n",
    "    print 'MSE\\t', metrics.mean_squared_error(y_test, y_pred)\n",
    "    print 'RMSE\\t', np.sqrt(metrics.mean_squared_error(y_test, y_pred))\n",
    "    \n",
    "    score_train = model.score(X_train, y_train)\n",
    "    score_test = model.score(X_test, y_test)\n",
    "    score_general = model.score(X[cols].fillna(0), y)\n",
    "    \n",
    "    print '\\n'\n",
    "    print '-----------------------------------------'\n",
    "    print 'Scores:'\n",
    "    print '-----------------------------------------'\n",
    "    print 'Train\\t', score_train\n",
    "    print 'Test\\t', score_test\n",
    "    print 'General\\t', score_general\n",
    "    print '-----------------------------------------\\n'\n",
    "\n",
    "    return score_test, score_general\n",
    "\n",
    "def cross_validation(model, X, y, n_jobs=1):\n",
    "    \n",
    "    print '-----------------------------------------'\n",
    "    print 'Running model using Cross Validation:'\n",
    "    print '-----------------------------------------'\n",
    "\n",
    "    scores = cross_val_score(model, X, y, cv=10, scoring='accuracy', n_jobs=n_jobs, verbose=1)\n",
    "    score_cross_val_mean = scores.mean()\n",
    "    print 'Mean Cross-Val Score:', score_cross_val_mean\n",
    "\n",
    "    return scores"
   ]
  },
  {
   "cell_type": "markdown",
   "metadata": {},
   "source": [
    "### Let's try some basic logistic regression first"
   ]
  },
  {
   "cell_type": "code",
   "execution_count": 39,
   "metadata": {
    "collapsed": false
   },
   "outputs": [
    {
     "name": "stdout",
     "output_type": "stream",
     "text": [
      "----------------------------\n",
      "X_train\t(71926, 22)\n",
      "X_test\t(23976, 22)\n",
      "y_train\t(71926,)\n",
      "y_test\t(23976,)\n",
      "----------------------------\n",
      "\n",
      "\n",
      "-----------------------------------------\n",
      "Running model with train/test split...\n",
      "-----------------------------------------\n",
      "Accuracy of model:\t0.9752669336\n",
      "\n",
      "Normalized confusion matrix\n",
      "[[ 0.991  0.009]\n",
      " [ 0.12   0.88 ]]\n"
     ]
    },
    {
     "data": {
      "image/png": "[encoded data removed]",
      "text/plain": [
       "<matplotlib.figure.Figure at 0x10e63c7d0>"
      ]
     },
     "metadata": {},
     "output_type": "display_data"
    },
    {
     "name": "stdout",
     "output_type": "stream",
     "text": [
      "-----------------------------------------\n",
      "Metrics:\n",
      "-----------------------------------------\n",
      "MSE\t0.0247330663997\n",
      "RMSE\t0.157267499502\n",
      "\n"
     ]
    },
    {
     "name": "stderr",
     "output_type": "stream",
     "text": [
      "[Parallel(n_jobs=1)]: Done   1 jobs       | elapsed:    1.8s\n",
      "[Parallel(n_jobs=1)]: Done  10 out of  10 | elapsed:   16.7s finished\n"
     ]
    },
    {
     "name": "stdout",
     "output_type": "stream",
     "text": [
      "\n",
      "-----------------------------------------\n",
      "Scores:\n",
      "-----------------------------------------\n",
      "Train\t0.974195701137\n",
      "Test\t0.9752669336\n",
      "General\t0.974463514838\n",
      "-----------------------------------------\n",
      "\n",
      "-----------------------------------------\n",
      "Running model using Cross Validation:\n",
      "-----------------------------------------\n",
      "Mean Cross-Val Score: 0.969918163688\n",
      "CPU times: user 18.4 s, sys: 539 ms, total: 18.9 s\n",
      "Wall time: 19.9 s\n"
     ]
    }
   ],
   "source": [
    "%%time\n",
    "\n",
    "from sklearn.linear_model import LogisticRegression\n",
    "\n",
    "log = LogisticRegression(C=1e5)\n",
    "log, log_data_split, log_y_score = run_prediction(X, y, log)\n",
    "log_y_test = log_data_split['y_test']\n",
    "log_y_pred = log_data_split['y_pred']\n",
    "\n",
    "confusion_matrix(log_y_test, log_y_pred)\n",
    "\n",
    "model_metrics(log, X, y, log_data_split)\n",
    "\n",
    "scores = cross_validation(log, X, y, n_jobs=1)"
   ]
  },
  {
   "cell_type": "code",
   "execution_count": 40,
   "metadata": {
    "collapsed": false
   },
   "outputs": [
    {
     "data": {
      "image/png": "[encoded data removed]",
      "text/plain": [
       "<matplotlib.figure.Figure at 0x1128de550>"
      ]
     },
     "metadata": {},
     "output_type": "display_data"
    }
   ],
   "source": [
    "p = log.predict_proba(log_data_split['X_test'])\n",
    "plot_histogram(p[:,1])"
   ]
  },
  {
   "cell_type": "code",
   "execution_count": 41,
   "metadata": {
    "collapsed": false
   },
   "outputs": [
    {
     "name": "stdout",
     "output_type": "stream",
     "text": [
      "thresholds: [ 82.288  72.942  62.584 ..., -28.589 -34.631 -35.318]\n",
      "AUC: 0.99051901745\n"
     ]
    },
    {
     "data": {
      "image/png": "[encoded data removed]",
      "text/plain": [
       "<matplotlib.figure.Figure at 0x10f2e14d0>"
      ]
     },
     "metadata": {},
     "output_type": "display_data"
    }
   ],
   "source": [
    "plot_roc(log_data_split['y_test'], log_y_score)"
   ]
  },
  {
   "cell_type": "markdown",
   "metadata": {},
   "source": [
    "### K Neighbors"
   ]
  },
  {
   "cell_type": "code",
   "execution_count": null,
   "metadata": {
    "collapsed": false
   },
   "outputs": [
    {
     "name": "stdout",
     "output_type": "stream",
     "text": [
      "----------------------------\n",
      "X_train\t(71926, 22)\n",
      "X_test\t(23976, 22)\n",
      "y_train\t(71926,)\n",
      "y_test\t(23976,)\n",
      "----------------------------\n",
      "\n",
      "\n",
      "-----------------------------------------\n",
      "Running model with train/test split...\n",
      "-----------------------------------------\n",
      "Accuracy of model:\t0.964547881215\n",
      "\n",
      "Normalized confusion matrix\n",
      "[[ 0.987  0.013]\n",
      " [ 0.169  0.831]]\n"
     ]
    },
    {
     "data": {
      "image/png": "[encoded data removed]",
      "text/plain": [
       "<matplotlib.figure.Figure at 0x109cb8550>"
      ]
     },
     "metadata": {},
     "output_type": "display_data"
    }
   ],
   "source": [
    "%%time\n",
    "\n",
    "from sklearn.neighbors import KNeighborsClassifier\n",
    "\n",
    "knn = KNeighborsClassifier(n_neighbors=5)\n",
    "knn, knn_data_split, knn_y_score = run_prediction(X, y, knn)\n",
    "\n",
    "knn_y_test = knn_data_split['y_test']\n",
    "knn_y_pred = knn_data_split['y_pred']\n",
    "\n",
    "confusion_matrix(knn_y_test, knn_y_pred)\n",
    "\n",
    "model_metrics(knn, X, y, knn_data_split)\n",
    "# scores = cross_validation(knn, X, y, n_jobs=5)"
   ]
  },
  {
   "cell_type": "code",
   "execution_count": null,
   "metadata": {
    "collapsed": false
   },
   "outputs": [],
   "source": [
    "p = knn.predict_proba(knn_data_split['X_test'])\n",
    "plot_histogram(p[:,1])"
   ]
  },
  {
   "cell_type": "markdown",
   "metadata": {},
   "source": [
    "#### Using GridSearch to test n_neighbors parameters"
   ]
  },
  {
   "cell_type": "code",
   "execution_count": null,
   "metadata": {
    "collapsed": false
   },
   "outputs": [],
   "source": [
    "# %%time\n",
    "# from sklearn.grid_search import GridSearchCV\n",
    "\n",
    "# n_range = range(1,11)\n",
    "# param_grid = dict(\n",
    "#               n_neighbors=n_range\n",
    "#              )\n",
    "# knn = KNeighborsClassifier()\n",
    "\n",
    "# grid = GridSearchCV(knn, param_grid, scoring='accuracy', n_jobs = 1)\n",
    "# grid.fit(X, y);"
   ]
  },
  {
   "cell_type": "code",
   "execution_count": null,
   "metadata": {
    "collapsed": false
   },
   "outputs": [],
   "source": [
    "plot_roc(knn_data_split['y_test'], knn_y_score)"
   ]
  },
  {
   "cell_type": "code",
   "execution_count": null,
   "metadata": {
    "collapsed": true
   },
   "outputs": [],
   "source": [
    "# grid_mean_scores = [result.mean_validation_score for result in grid.grid_scores_]\n",
    "# print grid_mean_scores\n",
    "# print 'best params', grid.best_params_\n",
    "# print 'best params', grid.best_estimator_\n",
    "# print 'best params', grid.best_score_"
   ]
  },
  {
   "cell_type": "code",
   "execution_count": null,
   "metadata": {
    "collapsed": true
   },
   "outputs": [],
   "source": [
    "# plt.plot(n_range, score grid.grid_scores_)\n",
    "# plt.xlabel('Value of N for n_neighbors')\n",
    "# plt.ylabel('Cross-Validated Accuracy')"
   ]
  },
  {
   "cell_type": "markdown",
   "metadata": {},
   "source": [
    "### Random Forest"
   ]
  },
  {
   "cell_type": "code",
   "execution_count": 77,
   "metadata": {
    "collapsed": false
   },
   "outputs": [
    {
     "name": "stdout",
     "output_type": "stream",
     "text": [
      "RandomForestClassifier(bootstrap=True, class_weight=None, criterion='gini',\n",
      "            max_depth=None, max_features='auto', max_leaf_nodes=None,\n",
      "            min_samples_leaf=1, min_samples_split=2,\n",
      "            min_weight_fraction_leaf=0.0, n_estimators=10, n_jobs=5,\n",
      "            oob_score=False, random_state=None, verbose=0,\n",
      "            warm_start=False)\n",
      "----------------------------\n",
      "X_train\t(71926, 22)\n",
      "X_test\t(23976, 22)\n",
      "y_train\t(71926,)\n",
      "y_test\t(23976,)\n",
      "----------------------------\n",
      "\n",
      "\n",
      "-----------------------------------------\n",
      "Running model with train/test split...\n",
      "-----------------------------------------\n",
      "Accuracy of model:\t0.98469302636\n",
      "\n",
      "Normalized confusion matrix\n",
      "[[ 0.997  0.003]\n",
      " [ 0.093  0.907]]\n"
     ]
    },
    {
     "data": {
      "image/png": "[encoded data removed]",
      "text/plain": [
       "<matplotlib.figure.Figure at 0x1118d8650>"
      ]
     },
     "metadata": {},
     "output_type": "display_data"
    },
    {
     "name": "stdout",
     "output_type": "stream",
     "text": [
      "-----------------------------------------\n",
      "Metrics:\n",
      "-----------------------------------------\n",
      "MSE\t0.0153069736403\n",
      "RMSE\t0.123721354827\n",
      "\n",
      "\n",
      "-----------------------------------------\n",
      "Scores:\n",
      "-----------------------------------------\n",
      "Train\t0.974265217029\n",
      "Test\t0.974891558225\n",
      "General\t0.974421805593\n",
      "-----------------------------------------\n",
      "\n",
      "-----------------------------------------\n",
      "Running model using Cross Validation:\n",
      "-----------------------------------------\n"
     ]
    },
    {
     "name": "stderr",
     "output_type": "stream",
     "text": [
      "[Parallel(n_jobs=5)]: Done   1 jobs       | elapsed:    3.1s\n",
      "[Parallel(n_jobs=5)]: Done   2 out of  10 | elapsed:    3.3s remaining:   13.2s\n",
      "[Parallel(n_jobs=5)]: Done  10 out of  10 | elapsed:    7.2s finished\n"
     ]
    },
    {
     "name": "stdout",
     "output_type": "stream",
     "text": [
      "Mean Cross-Val Score: 0.976633120361\n",
      "CPU times: user 3.84 s, sys: 635 ms, total: 4.47 s\n",
      "Wall time: 8.77 s\n"
     ]
    }
   ],
   "source": [
    "%%time\n",
    "\n",
    "from sklearn.ensemble import RandomForestClassifier\n",
    "\n",
    "rf = RandomForestClassifier(n_jobs=5)\n",
    "print rf\n",
    "\n",
    "rf, rf_data_split, rf_y_score = run_prediction(X, y, rf)\n",
    "\n",
    "rf_y_test = rf_data_split['y_test']\n",
    "rf_y_pred = rf_data_split['y_pred']\n",
    "\n",
    "confusion_matrix(rf_y_test, rf_y_pred)\n",
    "\n",
    "model_metrics(log, X, y, rf_data_split)\n",
    "\n",
    "scores = cross_validation(rf, X, y, n_jobs=5)"
   ]
  },
  {
   "cell_type": "code",
   "execution_count": 78,
   "metadata": {
    "collapsed": false
   },
   "outputs": [
    {
     "data": {
      "image/png": "[encoded data removed]",
      "text/plain": [
       "<matplotlib.figure.Figure at 0x11700dd10>"
      ]
     },
     "metadata": {},
     "output_type": "display_data"
    }
   ],
   "source": [
    "# 0.977352599188\n",
    "p = rf.predict_proba(rf_data_split['X_test'])\n",
    "plot_histogram(p[:,1])"
   ]
  },
  {
   "cell_type": "code",
   "execution_count": 79,
   "metadata": {
    "collapsed": false
   },
   "outputs": [
    {
     "name": "stdout",
     "output_type": "stream",
     "text": [
      "                          0         1\n",
      "20      last_fico_range_low  0.258810\n",
      "16               recoveries  0.236132\n",
      "17  collection_recovery_fee  0.086920\n",
      "13          total_rec_prncp  0.077512\n",
      "19     last_fico_range_high  0.062985\n",
      "18          last_pymnt_amnt  0.048224\n",
      "0                 loan_amnt  0.036254\n",
      "11              total_pymnt  0.027786\n",
      "4            inq_last_6mths  0.025050\n",
      "12          total_pymnt_inv  0.024922\n",
      "14            total_rec_int  0.018378\n",
      "9                 out_prncp  0.016707\n",
      "7                 revol_bal  0.013428\n",
      "10            out_prncp_inv  0.012818\n",
      "2            fico_range_low  0.011668\n",
      "3           fico_range_high  0.011594\n",
      "8                 total_acc  0.009820\n",
      "1                annual_inc  0.008224\n",
      "5                  open_acc  0.006390\n",
      "15       total_rec_late_fee  0.004371\n",
      "21                  is_rent  0.001284\n",
      "6                   pub_rec  0.000725\n"
     ]
    }
   ],
   "source": [
    "# plot_roc(rf_data_split['y_test'], rf_y_score)\n",
    "print pd.DataFrame(zip(cols, rf.feature_importances_)).sort(1, ascending=False)"
   ]
  },
  {
   "cell_type": "code",
   "execution_count": 80,
   "metadata": {
    "collapsed": false
   },
   "outputs": [
    {
     "data": {
      "text/plain": [
       "is_bad\n",
       "0      368730.517530\n",
       "1    17017697.235434\n",
       "Name: recoveries, dtype: float64"
      ]
     },
     "execution_count": 80,
     "metadata": {},
     "output_type": "execute_result"
    }
   ],
   "source": [
    "data.groupby(\"is_bad\")[\"recoveries\"].sum()"
   ]
  },
  {
   "cell_type": "markdown",
   "metadata": {},
   "source": [
    "###Gradient Boosted Regression Tree"
   ]
  },
  {
   "cell_type": "code",
   "execution_count": 89,
   "metadata": {
    "collapsed": false
   },
   "outputs": [
    {
     "name": "stdout",
     "output_type": "stream",
     "text": [
      "----------------------------\n",
      "X_train\t(71926, 22)\n",
      "X_test\t(23976, 22)\n",
      "y_train\t(71926,)\n",
      "y_test\t(23976,)\n",
      "----------------------------\n",
      "\n",
      "\n",
      "-----------------------------------------\n",
      "Running model with train/test split...\n",
      "-----------------------------------------\n",
      "Accuracy of model:\t0.988321654988\n",
      "\n",
      "Normalized confusion matrix\n",
      "[[ 0.998  0.002]\n",
      " [ 0.068  0.932]]\n"
     ]
    },
    {
     "data": {
      "image/png": "[encoded data removed]",
      "text/plain": [
       "<matplotlib.figure.Figure at 0x11335df50>"
      ]
     },
     "metadata": {},
     "output_type": "display_data"
    },
    {
     "name": "stdout",
     "output_type": "stream",
     "text": [
      "-----------------------------------------\n",
      "Metrics:\n",
      "-----------------------------------------\n",
      "MSE\t0.0116783450117\n",
      "RMSE\t0.108066391684\n",
      "\n",
      "\n",
      "-----------------------------------------\n",
      "Scores:\n",
      "-----------------------------------------\n",
      "Train\t0.974195701137\n",
      "Test\t0.9751001001\n",
      "General\t0.974421805593\n",
      "-----------------------------------------\n",
      "\n",
      "CPU times: user 18min 54s, sys: 3.61 s, total: 18min 58s\n",
      "Wall time: 19min\n"
     ]
    }
   ],
   "source": [
    "%%time\n",
    "\n",
    "from sklearn.ensemble import GradientBoostingClassifier\n",
    "\n",
    "gb = GradientBoostingClassifier(n_estimators=3000, max_features=1.0, learning_rate=0.01, \n",
    "                                    max_depth=4, min_samples_leaf=5)\n",
    "\n",
    "gb, data_split, y_score = run_prediction(X, y, gb)\n",
    "\n",
    "y_test = data_split['y_test']\n",
    "y_pred = data_split['y_pred']\n",
    "\n",
    "confusion_matrix(y_test, y_pred)\n",
    "\n",
    "model_metrics(log, X, y, data_split)\n",
    "# scores = cross_validation(log, X, y, n_jobs=5)"
   ]
  },
  {
   "cell_type": "code",
   "execution_count": 90,
   "metadata": {
    "collapsed": false
   },
   "outputs": [
    {
     "name": "stdout",
     "output_type": "stream",
     "text": [
      "                          0         1\n",
      "0                 loan_amnt  0.104411\n",
      "9                 out_prncp  0.094701\n",
      "13          total_rec_prncp  0.094135\n",
      "10            out_prncp_inv  0.090610\n",
      "19     last_fico_range_high  0.088747\n",
      "20      last_fico_range_low  0.088033\n",
      "16               recoveries  0.076464\n",
      "18          last_pymnt_amnt  0.061913\n",
      "11              total_pymnt  0.043652\n",
      "7                 revol_bal  0.039477\n",
      "15       total_rec_late_fee  0.034753\n",
      "14            total_rec_int  0.033473\n",
      "12          total_pymnt_inv  0.027701\n",
      "1                annual_inc  0.026279\n",
      "8                 total_acc  0.018598\n",
      "4            inq_last_6mths  0.018503\n",
      "5                  open_acc  0.016361\n",
      "3           fico_range_high  0.015355\n",
      "2            fico_range_low  0.015141\n",
      "17  collection_recovery_fee  0.010902\n",
      "21                  is_rent  0.000667\n",
      "6                   pub_rec  0.000124\n"
     ]
    }
   ],
   "source": [
    "print pd.DataFrame(zip(cols, gb.feature_importances_)).sort(1, ascending=False)"
   ]
  },
  {
   "cell_type": "code",
   "execution_count": 91,
   "metadata": {
    "collapsed": false
   },
   "outputs": [
    {
     "data": {
      "image/png": "[encoded data removed]",
      "text/plain": [
       "<matplotlib.figure.Figure at 0x11932de10>"
      ]
     },
     "metadata": {},
     "output_type": "display_data"
    }
   ],
   "source": [
    "p = gb.predict_proba(data_split['X_test'])\n",
    "plot_histogram(p[:,1])"
   ]
  },
  {
   "cell_type": "markdown",
   "metadata": {},
   "source": [
    "##ROC Curves"
   ]
  },
  {
   "cell_type": "code",
   "execution_count": 92,
   "metadata": {
    "collapsed": false
   },
   "outputs": [
    {
     "name": "stdout",
     "output_type": "stream",
     "text": [
      "thresholds: [ 11.705  11.415  10.688 ..., -10.968 -11.129 -11.483]\n",
      "AUC: 0.996244845284\n"
     ]
    },
    {
     "data": {
      "image/png": "[encoded data removed]",
      "text/plain": [
       "<matplotlib.figure.Figure at 0x117ab3d10>"
      ]
     },
     "metadata": {},
     "output_type": "display_data"
    }
   ],
   "source": [
    "plot_roc(data_split['y_test'], y_score)"
   ]
  },
  {
   "cell_type": "markdown",
   "metadata": {},
   "source": [
    "##Selecting Hyperparameters With Cross Validation\n"
   ]
  },
  {
   "cell_type": "code",
   "execution_count": null,
   "metadata": {
    "collapsed": false
   },
   "outputs": [],
   "source": [
    "from sklearn.grid_search import GridSearchCV\n",
    "\n",
    "# est_range = [100, 150, 200]\n",
    "# depth_range = range(1,6)\n",
    "# n_scores = []\n",
    "param_grid = dict(\n",
    "              learning_rate=[0.1, 0.05, 0.02, 0.01],\n",
    "              max_depth=[4, 6],\n",
    "              min_samples_leaf=[3, 5, 9, 17],\n",
    "              max_features=[1.0, 0.3, 0.1]\n",
    "             )\n",
    "gb = GradientBoostingClassifier(n_estimators=3000)\n",
    "\n",
    "grid = GridSearchCV(gb, param_grid, scoring='accuracy', n_jobs = 4)\n",
    "grid.fit(X, y)"
   ]
  },
  {
   "cell_type": "code",
   "execution_count": null,
   "metadata": {
    "collapsed": false
   },
   "outputs": [],
   "source": [
    "print 'best params', grid.best_params_\n",
    "print 'best params', grid.best_estimator_\n",
    "print 'best params', grid.best_score_"
   ]
  },
  {
   "cell_type": "code",
   "execution_count": null,
   "metadata": {
    "collapsed": false
   },
   "outputs": [],
   "source": [
    "grid_mean_scores = [result.mean_validation_score for result in grid.grid_scores_]\n",
    "print grid_mean_scores"
   ]
  },
  {
   "cell_type": "code",
   "execution_count": null,
   "metadata": {
    "collapsed": false
   },
   "outputs": [],
   "source": [
    "# r = pd.DataFrame(grid.grid_scores_)"
   ]
  },
  {
   "cell_type": "code",
   "execution_count": null,
   "metadata": {
    "collapsed": false
   },
   "outputs": [],
   "source": [
    "# res = zip([x['n_estimators'] for x in r[0]], [x['max_depth'] for x in r[0]], [x for x in r[1]])"
   ]
  },
  {
   "cell_type": "code",
   "execution_count": null,
   "metadata": {
    "collapsed": false
   },
   "outputs": [],
   "source": [
    "# dr = pd.DataFrame(res)\n",
    "# dr;"
   ]
  },
  {
   "cell_type": "code",
   "execution_count": null,
   "metadata": {
    "collapsed": false
   },
   "outputs": [],
   "source": [
    "# # plot the results\n",
    "# est_score = dr.groupby(dr[0]).mean()\n",
    "# print est_score\n",
    "\n",
    "# plt.plot(est_range, est_score[2])\n",
    "# plt.xlabel('Value of N for n_estimators')\n",
    "# plt.ylabel('Cross-Validated Accuracy')\n",
    "# plt.ylim(dr[2].min(), dr[2].max())"
   ]
  },
  {
   "cell_type": "code",
   "execution_count": null,
   "metadata": {
    "collapsed": false
   },
   "outputs": [],
   "source": []
  },
  {
   "cell_type": "code",
   "execution_count": null,
   "metadata": {
    "collapsed": false
   },
   "outputs": [],
   "source": [
    "# plot the results\n",
    "md_score = dr.groupby(dr[1]).mean()\n",
    "print md_score\n",
    "plt.plot(depth_range, md_score[2])\n",
    "plt.xlabel('Value of N for max_depth')\n",
    "plt.ylabel('Cross-Validated Accuracy')\n",
    "plt.ylim(dr[2].min(), dr[2].max())"
   ]
  },
  {
   "cell_type": "code",
   "execution_count": null,
   "metadata": {
    "collapsed": false
   },
   "outputs": [],
   "source": [
    "(md_score[2]-md_score[2].mean())/(md_score[2].xmax()-est_score[2].min())"
   ]
  },
  {
   "cell_type": "code",
   "execution_count": null,
   "metadata": {
    "collapsed": true
   },
   "outputs": [],
   "source": []
  }
 ],
 "metadata": {
  "kernelspec": {
   "display_name": "Python 2",
   "language": "python",
   "name": "python2"
  },
  "language_info": {
   "codemirror_mode": {
    "name": "ipython",
    "version": 2
   },
   "file_extension": ".py",
   "mimetype": "text/x-python",
   "name": "python",
   "nbconvert_exporter": "python",
   "pygments_lexer": "ipython2",
   "version": "2.7.10"
  }
 },
 "nbformat": 4,
 "nbformat_minor": 0
}
